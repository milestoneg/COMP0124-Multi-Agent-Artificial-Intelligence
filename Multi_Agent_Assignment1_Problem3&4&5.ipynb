{
  "nbformat": 4,
  "nbformat_minor": 0,
  "metadata": {
    "colab": {
      "name": "Multi_Agent_Assignment1_Problem3&4&5",
      "version": "0.3.2",
      "provenance": [],
      "toc_visible": true
    },
    "kernelspec": {
      "name": "python3",
      "display_name": "Python 3"
    }
  },
  "cells": [
    {
      "metadata": {
        "id": "98w3SbELqgMM",
        "colab_type": "text"
      },
      "cell_type": "markdown",
      "source": [
        "#Problem 4: Your Non-Linear Bidding Strategy\n",
        "As the linear model may not be the best model, you are\n",
        "asked to experiment further in order to find a more optimal\n",
        "model. The model you developed can be tested over the\n",
        "validation set. and you should explain your approach and\n",
        "discuss your results in the report. This does include, but is\n",
        "not limited to, reporting the performance metrics as defined\n",
        "in Section 3.3 of your solution and the parameter turning\n",
        "results on the validation set.\n",
        "Note that your bidding strategy described here may be part\n",
        "of the more complex model (either ”cleverly” combined one\n",
        "or further developed one based on multiagent reinforcement\n",
        "learning) for the group. Therefore, it is advised, although\n",
        "not mandatory, that you try different models as a group in\n",
        "this section.\n",
        "Some directions: A non-linear bidding strategy (e.g. ORTB)\n",
        "[2], a lift-based bidding [3] or using other CTR estimators.\n",
        "A collection of research papers can be found here.\n"
      ]
    },
    {
      "metadata": {
        "id": "H0ZkLmnQf9By",
        "colab_type": "text"
      },
      "cell_type": "markdown",
      "source": [
        "#Connect to Google Drive"
      ]
    },
    {
      "metadata": {
        "id": "HPOJ4V-zf7ct",
        "colab_type": "code",
        "outputId": "7673a4ec-7ed1-4572-8ca6-3b225286e36d",
        "colab": {
          "base_uri": "https://localhost:8080/",
          "height": 122
        }
      },
      "cell_type": "code",
      "source": [
        "# Load the Drive helper and mount\n",
        "from google.colab import drive\n",
        "\n",
        "# This will prompt for authorization.\n",
        "drive.mount('/content/drive')"
      ],
      "execution_count": 0,
      "outputs": [
        {
          "output_type": "stream",
          "text": [
            "Go to this URL in a browser: https://accounts.google.com/o/oauth2/auth?client_id=947318989803-6bn6qk8qdgf4n4g3pfee6491hc0brc4i.apps.googleusercontent.com&redirect_uri=urn%3Aietf%3Awg%3Aoauth%3A2.0%3Aoob&scope=email%20https%3A%2F%2Fwww.googleapis.com%2Fauth%2Fdocs.test%20https%3A%2F%2Fwww.googleapis.com%2Fauth%2Fdrive%20https%3A%2F%2Fwww.googleapis.com%2Fauth%2Fdrive.photos.readonly%20https%3A%2F%2Fwww.googleapis.com%2Fauth%2Fpeopleapi.readonly&response_type=code\n",
            "\n",
            "Enter your authorization code:\n",
            "··········\n",
            "Mounted at /content/drive\n"
          ],
          "name": "stdout"
        }
      ]
    },
    {
      "metadata": {
        "id": "HkobSZA7gK6D",
        "colab_type": "text"
      },
      "cell_type": "markdown",
      "source": [
        "#Import Libraries"
      ]
    },
    {
      "metadata": {
        "id": "4zcbezB4f5bT",
        "colab_type": "code",
        "colab": {}
      },
      "cell_type": "code",
      "source": [
        "import pandas as pd\n",
        "import numpy as np\n",
        "import random\n",
        "from imblearn.under_sampling import RandomUnderSampler\n",
        "from imblearn.over_sampling import RandomOverSampler \n",
        "from sklearn.ensemble import RandomForestClassifier\n",
        "from sklearn.linear_model import LogisticRegression\n",
        "from sklearn.model_selection import GridSearchCV\n",
        "from sklearn.metrics import accuracy_score\n",
        "from sklearn.metrics import confusion_matrix\n",
        "#from sklearn.cross_validation import StratifiedKFold\n",
        "import xgboost\n",
        "import pickle"
      ],
      "execution_count": 0,
      "outputs": []
    },
    {
      "metadata": {
        "id": "6Ud1JjUsgSRV",
        "colab_type": "text"
      },
      "cell_type": "markdown",
      "source": [
        "#Read Data from Google Drive"
      ]
    },
    {
      "metadata": {
        "id": "H4D3cIHBgXSl",
        "colab_type": "code",
        "outputId": "56d8e884-d989-4090-ea19-af7626cc7825",
        "colab": {
          "base_uri": "https://localhost:8080/",
          "height": 459
        }
      },
      "cell_type": "code",
      "source": [
        "#read data\n",
        "train = pd.read_csv('/content/drive/My Drive/Multi_Agent Dataset/train.csv',sep=',')\n",
        "train.fillna(0, inplace = True)\n",
        "print('Total rows: ', len(train))\n",
        "#df.head(10)\n",
        "val = pd.read_csv('/content/drive/My Drive/Multi_Agent Dataset/validation.csv',sep=',')\n",
        "#val.fillna(0, inplace = True)\n",
        "print('Total rows: ', len(val))\n",
        "test = pd.read_csv('/content/drive/My Drive/Multi_Agent Dataset/test.csv',sep=',')\n",
        "test.fillna(0, inplace = True)\n",
        "print('Total rows: ', len(test))\n",
        "train.head(10)"
      ],
      "execution_count": 0,
      "outputs": [
        {
          "output_type": "stream",
          "text": [
            "Total rows:  2430981\n",
            "Total rows:  303925\n",
            "Total rows:  303375\n"
          ],
          "name": "stdout"
        },
        {
          "output_type": "execute_result",
          "data": {
            "text/html": [
              "<div>\n",
              "<style scoped>\n",
              "    .dataframe tbody tr th:only-of-type {\n",
              "        vertical-align: middle;\n",
              "    }\n",
              "\n",
              "    .dataframe tbody tr th {\n",
              "        vertical-align: top;\n",
              "    }\n",
              "\n",
              "    .dataframe thead th {\n",
              "        text-align: right;\n",
              "    }\n",
              "</style>\n",
              "<table border=\"1\" class=\"dataframe\">\n",
              "  <thead>\n",
              "    <tr style=\"text-align: right;\">\n",
              "      <th></th>\n",
              "      <th>click</th>\n",
              "      <th>weekday</th>\n",
              "      <th>hour</th>\n",
              "      <th>bidid</th>\n",
              "      <th>userid</th>\n",
              "      <th>useragent</th>\n",
              "      <th>IP</th>\n",
              "      <th>region</th>\n",
              "      <th>city</th>\n",
              "      <th>adexchange</th>\n",
              "      <th>...</th>\n",
              "      <th>slotheight</th>\n",
              "      <th>slotvisibility</th>\n",
              "      <th>slotformat</th>\n",
              "      <th>slotprice</th>\n",
              "      <th>creative</th>\n",
              "      <th>bidprice</th>\n",
              "      <th>payprice</th>\n",
              "      <th>keypage</th>\n",
              "      <th>advertiser</th>\n",
              "      <th>usertag</th>\n",
              "    </tr>\n",
              "  </thead>\n",
              "  <tbody>\n",
              "    <tr>\n",
              "      <th>0</th>\n",
              "      <td>0</td>\n",
              "      <td>5</td>\n",
              "      <td>22</td>\n",
              "      <td>b7bea80521fdecd95d2d761a38c91c3f09618066</td>\n",
              "      <td>2e880fb7d690cf7377b2e42e701728e3f3c0e4c1</td>\n",
              "      <td>windows_ie</td>\n",
              "      <td>125.37.175.*</td>\n",
              "      <td>2</td>\n",
              "      <td>2</td>\n",
              "      <td>2.0</td>\n",
              "      <td>...</td>\n",
              "      <td>200</td>\n",
              "      <td>2</td>\n",
              "      <td>0</td>\n",
              "      <td>5</td>\n",
              "      <td>a4f763f78ef3eedfe614263b94a8924e</td>\n",
              "      <td>238</td>\n",
              "      <td>5</td>\n",
              "      <td>0f951a030abdaedd733ee8d114ce2944</td>\n",
              "      <td>3427</td>\n",
              "      <td>0</td>\n",
              "    </tr>\n",
              "    <tr>\n",
              "      <th>1</th>\n",
              "      <td>0</td>\n",
              "      <td>1</td>\n",
              "      <td>20</td>\n",
              "      <td>4f51205475678f5a124bc76b2c54163bf8eaa7eb</td>\n",
              "      <td>3a1fe01360ff8100e7d006b83b77a3e4c01d928c</td>\n",
              "      <td>windows_chrome</td>\n",
              "      <td>171.36.92.*</td>\n",
              "      <td>238</td>\n",
              "      <td>239</td>\n",
              "      <td>1.0</td>\n",
              "      <td>...</td>\n",
              "      <td>250</td>\n",
              "      <td>FourthView</td>\n",
              "      <td>Na</td>\n",
              "      <td>0</td>\n",
              "      <td>10722</td>\n",
              "      <td>294</td>\n",
              "      <td>23</td>\n",
              "      <td>0</td>\n",
              "      <td>2821</td>\n",
              "      <td>0</td>\n",
              "    </tr>\n",
              "    <tr>\n",
              "      <th>2</th>\n",
              "      <td>0</td>\n",
              "      <td>3</td>\n",
              "      <td>13</td>\n",
              "      <td>b604e3fd054a658ab7ced4285ebf2ef54d2bd890</td>\n",
              "      <td>801d18a056b6fe6b06a794aef17fb0d6daff2414</td>\n",
              "      <td>windows_ie</td>\n",
              "      <td>59.46.106.*</td>\n",
              "      <td>40</td>\n",
              "      <td>41</td>\n",
              "      <td>2.0</td>\n",
              "      <td>...</td>\n",
              "      <td>250</td>\n",
              "      <td>2</td>\n",
              "      <td>0</td>\n",
              "      <td>5</td>\n",
              "      <td>798b2d49952d77f1eace9f23c210d0b5</td>\n",
              "      <td>238</td>\n",
              "      <td>24</td>\n",
              "      <td>0f951a030abdaedd733ee8d114ce2944</td>\n",
              "      <td>3427</td>\n",
              "      <td>10052,10006,13866,10110</td>\n",
              "    </tr>\n",
              "    <tr>\n",
              "      <th>3</th>\n",
              "      <td>0</td>\n",
              "      <td>6</td>\n",
              "      <td>23</td>\n",
              "      <td>0348beeae93e561584c3b50fc9e7746a33048ad7</td>\n",
              "      <td>0d6eaf2259699990e38a1fc5116f112070b9ecdc</td>\n",
              "      <td>windows_ie</td>\n",
              "      <td>114.250.226.*</td>\n",
              "      <td>1</td>\n",
              "      <td>1</td>\n",
              "      <td>1.0</td>\n",
              "      <td>...</td>\n",
              "      <td>600</td>\n",
              "      <td>2</td>\n",
              "      <td>1</td>\n",
              "      <td>0</td>\n",
              "      <td>cb7c76e7784031272e37af8e7e9b062c</td>\n",
              "      <td>300</td>\n",
              "      <td>25</td>\n",
              "      <td>bebefa5efe83beee17a3d245e7c5085b</td>\n",
              "      <td>1458</td>\n",
              "      <td>13866,10063,10111</td>\n",
              "    </tr>\n",
              "    <tr>\n",
              "      <th>4</th>\n",
              "      <td>0</td>\n",
              "      <td>5</td>\n",
              "      <td>6</td>\n",
              "      <td>268149c1789bce2bc9798ffd97ec431219bafeb3</td>\n",
              "      <td>a239d9bb642460d974ba67f85e63b8d3e214da0e</td>\n",
              "      <td>windows_ie</td>\n",
              "      <td>183.63.192.*</td>\n",
              "      <td>216</td>\n",
              "      <td>233</td>\n",
              "      <td>2.0</td>\n",
              "      <td>...</td>\n",
              "      <td>90</td>\n",
              "      <td>OtherView</td>\n",
              "      <td>Na</td>\n",
              "      <td>133</td>\n",
              "      <td>7330</td>\n",
              "      <td>277</td>\n",
              "      <td>133</td>\n",
              "      <td>0</td>\n",
              "      <td>2259</td>\n",
              "      <td>0</td>\n",
              "    </tr>\n",
              "    <tr>\n",
              "      <th>5</th>\n",
              "      <td>0</td>\n",
              "      <td>4</td>\n",
              "      <td>17</td>\n",
              "      <td>1be2cf4a47a2a6aee4b0fa64d1b786d3897be4f0</td>\n",
              "      <td>8810fd690f88ddfb797867e3e08e7816f274bd46</td>\n",
              "      <td>windows_ie</td>\n",
              "      <td>119.45.182.*</td>\n",
              "      <td>276</td>\n",
              "      <td>277</td>\n",
              "      <td>1.0</td>\n",
              "      <td>...</td>\n",
              "      <td>280</td>\n",
              "      <td>2</td>\n",
              "      <td>1</td>\n",
              "      <td>0</td>\n",
              "      <td>77819d3e0b3467fe5c7b16d68ad923a1</td>\n",
              "      <td>300</td>\n",
              "      <td>123</td>\n",
              "      <td>bebefa5efe83beee17a3d245e7c5085b</td>\n",
              "      <td>1458</td>\n",
              "      <td>10006,10077,10063,10057,10110</td>\n",
              "    </tr>\n",
              "    <tr>\n",
              "      <th>6</th>\n",
              "      <td>0</td>\n",
              "      <td>3</td>\n",
              "      <td>12</td>\n",
              "      <td>6b4f23dd215a5f11136c2f29214236cfee1f0122</td>\n",
              "      <td>fbd1bcaf2b33108d2c7f88ac41f0b0194b508a9b</td>\n",
              "      <td>windows_ie</td>\n",
              "      <td>112.82.93.*</td>\n",
              "      <td>80</td>\n",
              "      <td>89</td>\n",
              "      <td>3.0</td>\n",
              "      <td>...</td>\n",
              "      <td>90</td>\n",
              "      <td>0</td>\n",
              "      <td>0</td>\n",
              "      <td>20</td>\n",
              "      <td>86c2543527c86a893d4d4f68810a0416</td>\n",
              "      <td>300</td>\n",
              "      <td>20</td>\n",
              "      <td>43f4a37f42a7c5e6219e2601b26c6976</td>\n",
              "      <td>3386</td>\n",
              "      <td>10083,10024,10063,13496,10093,10006,10057,10110</td>\n",
              "    </tr>\n",
              "    <tr>\n",
              "      <th>7</th>\n",
              "      <td>0</td>\n",
              "      <td>3</td>\n",
              "      <td>16</td>\n",
              "      <td>f7c1d8ea177211249456c79e194617ce107bc077</td>\n",
              "      <td>9b539ba886146562a3991fd9f94bb9f9bad1f647</td>\n",
              "      <td>windows_ie</td>\n",
              "      <td>118.75.92.*</td>\n",
              "      <td>15</td>\n",
              "      <td>19</td>\n",
              "      <td>1.0</td>\n",
              "      <td>...</td>\n",
              "      <td>600</td>\n",
              "      <td>2</td>\n",
              "      <td>1</td>\n",
              "      <td>0</td>\n",
              "      <td>cb7c76e7784031272e37af8e7e9b062c</td>\n",
              "      <td>300</td>\n",
              "      <td>134</td>\n",
              "      <td>bebefa5efe83beee17a3d245e7c5085b</td>\n",
              "      <td>1458</td>\n",
              "      <td>10063,10024,13800,13866,10006,10111</td>\n",
              "    </tr>\n",
              "    <tr>\n",
              "      <th>8</th>\n",
              "      <td>0</td>\n",
              "      <td>5</td>\n",
              "      <td>14</td>\n",
              "      <td>9e97694096fe8692851048a893231a7f7ff87922</td>\n",
              "      <td>ddc9c85b6a5726aafaa4c42239e90fb7a44a88d7</td>\n",
              "      <td>windows_ie</td>\n",
              "      <td>61.185.128.*</td>\n",
              "      <td>333</td>\n",
              "      <td>342</td>\n",
              "      <td>3.0</td>\n",
              "      <td>...</td>\n",
              "      <td>90</td>\n",
              "      <td>0</td>\n",
              "      <td>0</td>\n",
              "      <td>70</td>\n",
              "      <td>832b91d59d0cb5731431653204a76c0e</td>\n",
              "      <td>300</td>\n",
              "      <td>70</td>\n",
              "      <td>bebefa5efe83beee17a3d245e7c5085b</td>\n",
              "      <td>1458</td>\n",
              "      <td>10063,10006,10083,10110</td>\n",
              "    </tr>\n",
              "    <tr>\n",
              "      <th>9</th>\n",
              "      <td>0</td>\n",
              "      <td>5</td>\n",
              "      <td>0</td>\n",
              "      <td>d1b7c7fdb88ce3aa78a540bb29848dd77329a574</td>\n",
              "      <td>63b4f9a3638f81af361ab3c4190fd3e1b5e70fea</td>\n",
              "      <td>windows_chrome</td>\n",
              "      <td>117.9.211.*</td>\n",
              "      <td>2</td>\n",
              "      <td>2</td>\n",
              "      <td>3.0</td>\n",
              "      <td>...</td>\n",
              "      <td>90</td>\n",
              "      <td>0</td>\n",
              "      <td>0</td>\n",
              "      <td>70</td>\n",
              "      <td>a10c31a8ff5f42930b4c34035e523886</td>\n",
              "      <td>241</td>\n",
              "      <td>77</td>\n",
              "      <td>d29e59bf0f7f8243858b8183f14d4412</td>\n",
              "      <td>3358</td>\n",
              "      <td>13403,10031,10063,10083,10006,10077,10075,10110</td>\n",
              "    </tr>\n",
              "  </tbody>\n",
              "</table>\n",
              "<p>10 rows × 25 columns</p>\n",
              "</div>"
            ],
            "text/plain": [
              "   click  weekday  hour                                     bidid  \\\n",
              "0      0        5    22  b7bea80521fdecd95d2d761a38c91c3f09618066   \n",
              "1      0        1    20  4f51205475678f5a124bc76b2c54163bf8eaa7eb   \n",
              "2      0        3    13  b604e3fd054a658ab7ced4285ebf2ef54d2bd890   \n",
              "3      0        6    23  0348beeae93e561584c3b50fc9e7746a33048ad7   \n",
              "4      0        5     6  268149c1789bce2bc9798ffd97ec431219bafeb3   \n",
              "5      0        4    17  1be2cf4a47a2a6aee4b0fa64d1b786d3897be4f0   \n",
              "6      0        3    12  6b4f23dd215a5f11136c2f29214236cfee1f0122   \n",
              "7      0        3    16  f7c1d8ea177211249456c79e194617ce107bc077   \n",
              "8      0        5    14  9e97694096fe8692851048a893231a7f7ff87922   \n",
              "9      0        5     0  d1b7c7fdb88ce3aa78a540bb29848dd77329a574   \n",
              "\n",
              "                                     userid       useragent             IP  \\\n",
              "0  2e880fb7d690cf7377b2e42e701728e3f3c0e4c1      windows_ie   125.37.175.*   \n",
              "1  3a1fe01360ff8100e7d006b83b77a3e4c01d928c  windows_chrome    171.36.92.*   \n",
              "2  801d18a056b6fe6b06a794aef17fb0d6daff2414      windows_ie    59.46.106.*   \n",
              "3  0d6eaf2259699990e38a1fc5116f112070b9ecdc      windows_ie  114.250.226.*   \n",
              "4  a239d9bb642460d974ba67f85e63b8d3e214da0e      windows_ie   183.63.192.*   \n",
              "5  8810fd690f88ddfb797867e3e08e7816f274bd46      windows_ie   119.45.182.*   \n",
              "6  fbd1bcaf2b33108d2c7f88ac41f0b0194b508a9b      windows_ie    112.82.93.*   \n",
              "7  9b539ba886146562a3991fd9f94bb9f9bad1f647      windows_ie    118.75.92.*   \n",
              "8  ddc9c85b6a5726aafaa4c42239e90fb7a44a88d7      windows_ie   61.185.128.*   \n",
              "9  63b4f9a3638f81af361ab3c4190fd3e1b5e70fea  windows_chrome    117.9.211.*   \n",
              "\n",
              "   region  city  adexchange                       ...                         \\\n",
              "0       2     2         2.0                       ...                          \n",
              "1     238   239         1.0                       ...                          \n",
              "2      40    41         2.0                       ...                          \n",
              "3       1     1         1.0                       ...                          \n",
              "4     216   233         2.0                       ...                          \n",
              "5     276   277         1.0                       ...                          \n",
              "6      80    89         3.0                       ...                          \n",
              "7      15    19         1.0                       ...                          \n",
              "8     333   342         3.0                       ...                          \n",
              "9       2     2         3.0                       ...                          \n",
              "\n",
              "  slotheight slotvisibility  slotformat slotprice  \\\n",
              "0        200              2           0         5   \n",
              "1        250     FourthView          Na         0   \n",
              "2        250              2           0         5   \n",
              "3        600              2           1         0   \n",
              "4         90      OtherView          Na       133   \n",
              "5        280              2           1         0   \n",
              "6         90              0           0        20   \n",
              "7        600              2           1         0   \n",
              "8         90              0           0        70   \n",
              "9         90              0           0        70   \n",
              "\n",
              "                           creative  bidprice payprice  \\\n",
              "0  a4f763f78ef3eedfe614263b94a8924e       238        5   \n",
              "1                             10722       294       23   \n",
              "2  798b2d49952d77f1eace9f23c210d0b5       238       24   \n",
              "3  cb7c76e7784031272e37af8e7e9b062c       300       25   \n",
              "4                              7330       277      133   \n",
              "5  77819d3e0b3467fe5c7b16d68ad923a1       300      123   \n",
              "6  86c2543527c86a893d4d4f68810a0416       300       20   \n",
              "7  cb7c76e7784031272e37af8e7e9b062c       300      134   \n",
              "8  832b91d59d0cb5731431653204a76c0e       300       70   \n",
              "9  a10c31a8ff5f42930b4c34035e523886       241       77   \n",
              "\n",
              "                            keypage  advertiser  \\\n",
              "0  0f951a030abdaedd733ee8d114ce2944        3427   \n",
              "1                                 0        2821   \n",
              "2  0f951a030abdaedd733ee8d114ce2944        3427   \n",
              "3  bebefa5efe83beee17a3d245e7c5085b        1458   \n",
              "4                                 0        2259   \n",
              "5  bebefa5efe83beee17a3d245e7c5085b        1458   \n",
              "6  43f4a37f42a7c5e6219e2601b26c6976        3386   \n",
              "7  bebefa5efe83beee17a3d245e7c5085b        1458   \n",
              "8  bebefa5efe83beee17a3d245e7c5085b        1458   \n",
              "9  d29e59bf0f7f8243858b8183f14d4412        3358   \n",
              "\n",
              "                                           usertag  \n",
              "0                                                0  \n",
              "1                                                0  \n",
              "2                          10052,10006,13866,10110  \n",
              "3                                13866,10063,10111  \n",
              "4                                                0  \n",
              "5                    10006,10077,10063,10057,10110  \n",
              "6  10083,10024,10063,13496,10093,10006,10057,10110  \n",
              "7              10063,10024,13800,13866,10006,10111  \n",
              "8                          10063,10006,10083,10110  \n",
              "9  13403,10031,10063,10083,10006,10077,10075,10110  \n",
              "\n",
              "[10 rows x 25 columns]"
            ]
          },
          "metadata": {
            "tags": []
          },
          "execution_count": 2
        }
      ]
    },
    {
      "metadata": {
        "id": "h5crQbKdgX--",
        "colab_type": "text"
      },
      "cell_type": "markdown",
      "source": [
        "#Data Pre-Processing\n",
        "- One-hot representation for each features\n",
        "- Down sampling for data set"
      ]
    },
    {
      "metadata": {
        "id": "uwjYP5EMtqQF",
        "colab_type": "text"
      },
      "cell_type": "markdown",
      "source": [
        "## Feature Split"
      ]
    },
    {
      "metadata": {
        "id": "FqZOsldJtwJG",
        "colab_type": "code",
        "colab": {}
      },
      "cell_type": "code",
      "source": [
        "train = train[(train['payprice'] >= train['slotprice'])]\n",
        "val = val[(val['payprice'] >= val['slotprice'])]\n",
        "\n",
        "train['size'] = train['slotwidth'] * train['slotheight']\n",
        "val['size'] = val['slotwidth'] * val['slotheight']\n",
        "\n",
        "train['OS'], train['browser'] = zip(*train['useragent'].map(lambda x: x.split('_')))\n",
        "val['OS'], val['browser'] = zip(*val['useragent'].map(lambda x: x.split('_')))\n",
        "\n",
        "test['size'] = test['slotwidth'] * test['slotheight']\n",
        "test['OS'], test['browser'] = zip(*test['useragent'].map(lambda x: x.split('_')))"
      ],
      "execution_count": 0,
      "outputs": []
    },
    {
      "metadata": {
        "id": "nE1Vt8ePuXsj",
        "colab_type": "code",
        "colab": {}
      },
      "cell_type": "code",
      "source": [
        "train.head()"
      ],
      "execution_count": 0,
      "outputs": []
    },
    {
      "metadata": {
        "id": "bDpD9BZGvrzc",
        "colab_type": "text"
      },
      "cell_type": "markdown",
      "source": [
        "## Dummy Representation of Features"
      ]
    },
    {
      "metadata": {
        "id": "DxWPEGNM5NNx",
        "colab_type": "code",
        "colab": {}
      },
      "cell_type": "code",
      "source": [
        "def dummy_user_tag(da):\n",
        "  user_tag = da[\"usertag\"].dropna().reset_index(drop = True)\n",
        "  user_tag.fillna(0, inplace=True)\n",
        "  tags=[]\n",
        "  column=dict.fromkeys(\n",
        "        ['10048', '10063', '10006', '16661', '10145', '10067', '11092', '10146', '10149', '10148', '11944', '13874',\n",
        "         '13403', '10142', '13776', '10117', '10123', '10130', '10024', '10120', '10127', '10126', '10125', '10102',\n",
        "         '13678', '16706', '10077', '11278', '10076', '16617', '11680', '10083', '10079', '11724', '10110', '11423',\n",
        "         '13042', '10140', '16753', '10147', '16751', '10075', '10131', '10059', '10133', '10057', '13866', '10138',\n",
        "         '10052', '14273', '16593', '10118', '10116', '11576', '10074', '10115', '10031', '13800', '10684', '10111',\n",
        "         '10093', '11379', '10114', '10129', '11512', '15398', '13496', '11632'], 0).keys()\n",
        "  for line in user_tag:\n",
        "    tag = dict.fromkeys(\n",
        "        ['10048', '10063', '10006', '16661', '10145', '10067', '11092', '10146', '10149', '10148', '11944', '13874',\n",
        "         '13403', '10142', '13776', '10117', '10123', '10130', '10024', '10120', '10127', '10126', '10125', '10102',\n",
        "         '13678', '16706', '10077', '11278', '10076', '16617', '11680', '10083', '10079', '11724', '10110', '11423',\n",
        "         '13042', '10140', '16753', '10147', '16751', '10075', '10131', '10059', '10133', '10057', '13866', '10138',\n",
        "         '10052', '14273', '16593', '10118', '10116', '11576', '10074', '10115', '10031', '13800', '10684', '10111',\n",
        "         '10093', '11379', '10114', '10129', '11512', '15398', '13496', '11632'], 0)\n",
        "    if line!=line:\n",
        "        tags.append(list(tag.values()))\n",
        "    else:\n",
        "        arr=str(line).split(',')\n",
        "        for c in arr:\n",
        "            tag[c]=1    \n",
        "        tags.append(list(tag.values()))\n",
        "        \n",
        "        #print(tags[len(tags)-1].dtype)\n",
        "  #tags = np.array(tags)\n",
        "  #print(tags.shape)\n",
        "  for i in range(len(tags)):\n",
        "    if len(tags[i]) == 69:\n",
        "      tags[i] = tags[i][:68]\n",
        "  tags = np.array(tags, dtype = np.int32) \n",
        "  print(tags)\n",
        "  to_join = pd.DataFrame(columns=column, data=tags)\n",
        "  return to_join\n",
        "  "
      ],
      "execution_count": 0,
      "outputs": []
    },
    {
      "metadata": {
        "id": "AMZebhZevDlR",
        "colab_type": "code",
        "colab": {}
      },
      "cell_type": "code",
      "source": [
        "def dummy_features(data):\n",
        "  data.fillna(0, inplace=True)\n",
        "  data[\"adexchange\"] = data[\"adexchange\"].fillna(data[\"adexchange\"].dropna().mode()[0])\n",
        "  data[\"slotvisibility\"] = data[\"slotvisibility\"].fillna(data[\"slotvisibility\"].dropna().mode()[0])\n",
        "  data[\"usertag\"] = data[\"usertag\"].fillna(\"\")  ## not optimal\n",
        "  data.loc[data.slotprice.between(0, 20), 'slotpricegroup'] = 1\n",
        "  data.loc[data.slotprice.between(21, 70), 'slotpricegroup'] = 2\n",
        "  data.loc[data.slotprice.between(71, 200), 'slotpricegroup'] = 3\n",
        "  data.loc[data.slotprice.between(201, 5000), 'slotpricegroup'] = 4\n",
        "  data['slotpricegroup'] = data['slotpricegroup'].astype(np.uint8)\n",
        "  \n",
        "  dummy = data.drop(['bidid','userid','IP','url','urlid','slotid','useragent',\n",
        "                 'domain','slotwidth', 'slotheight','slotprice','usertag'],axis=1) \n",
        "  \n",
        "  dummy = pd.get_dummies(dummy, dummy_na=True,columns=['weekday', 'hour', \n",
        "                                                       'OS', 'browser', \n",
        "                                                       'region', 'city', 'adexchange', \n",
        "                                                       'slotvisibility', 'slotformat',\n",
        "                                                       'creative','advertiser'\n",
        "                                                        ,'keypage','size','slotpricegroup','click'])\n",
        "  \n",
        "  #dummy = data.drop(['click','bidid','userid','IP','url','urlid','slotid','useragent','bidprice','payprice','domain','slotwidth', 'slotheight','slotprice','usertag'],axis=1) \n",
        "  \n",
        "  #test\n",
        "  #dummy = pd.get_dummies(dummy, dummy_na=True,columns=['OS', 'browser', 'region', 'city', 'adexchange', 'creative','advertiser','keypage','size','slotpricegroup','slotvisibility','slotformat'])\n",
        "  \n",
        "  \n",
        "  return dummy"
      ],
      "execution_count": 0,
      "outputs": []
    },
    {
      "metadata": {
        "id": "Vnr4ltG7Yjtf",
        "colab_type": "code",
        "colab": {}
      },
      "cell_type": "code",
      "source": [
        "def dummy_features_test(data):\n",
        "  data[\"adexchange\"] = data[\"adexchange\"].fillna(data[\"adexchange\"].dropna().mode()[0])\n",
        "  data[\"slotvisibility\"] = data[\"slotvisibility\"].fillna(data[\"slotvisibility\"].dropna().mode()[0])\n",
        "  data[\"usertag\"] = data[\"usertag\"].fillna(\"\")  ## not optimal\n",
        "  data.fillna(0, inplace=True)\n",
        "  data.loc[data.slotprice.between(0, 20), 'slotpricegroup'] = 1\n",
        "  data.loc[data.slotprice.between(21, 70), 'slotpricegroup'] = 2\n",
        "  data.loc[data.slotprice.between(71, 200), 'slotpricegroup'] = 3\n",
        "  data.loc[data.slotprice.between(201, 5000), 'slotpricegroup'] = 4\n",
        "  data['slotpricegroup'] = data['slotpricegroup'].astype(np.uint8)\n",
        "  \n",
        "  dummy = data.drop(['bidid','userid','IP','url','urlid','slotid','useragent','slotprice',\n",
        "                 'domain','slotwidth', 'slotheight', 'usertag'],axis=1)\n",
        "  \n",
        "  dummy = pd.get_dummies(dummy, dummy_na=True,columns=['weekday', 'hour',\n",
        "                                                       'OS', 'browser', \n",
        "                                                       'region', 'city', 'adexchange', \n",
        "                                                       'slotvisibility', 'slotformat',\n",
        "                                                       'creative', 'slotpricegroup','advertiser','keypage','size'])\n",
        "  return dummy"
      ],
      "execution_count": 0,
      "outputs": []
    },
    {
      "metadata": {
        "id": "2RpsE4OqEbGI",
        "colab_type": "code",
        "colab": {}
      },
      "cell_type": "code",
      "source": [
        "def add_drop_features(data, columns):\n",
        "  add = np.setdiff1d(columns, data.columns)\n",
        "  #drop = np.setdiff1d(data.columns, columns)\n",
        "  #data = data.drop(drop)\n",
        "  data = data.assign(**{ele: 0 for ele in add})\n",
        "  return data\n",
        "\n",
        "#add_drop_features(valid_dum[:1], train_dum.columns)"
      ],
      "execution_count": 0,
      "outputs": []
    },
    {
      "metadata": {
        "id": "8m0FYDOd7ouK",
        "colab_type": "code",
        "outputId": "861ea922-d35e-4660-d9e4-2aff60a66e7a",
        "colab": {
          "base_uri": "https://localhost:8080/",
          "height": 1428
        }
      },
      "cell_type": "code",
      "source": [
        "#under sampling\n",
        "rus = RandomUnderSampler(random_state=3,ratio={1:1786,0:39000})\n",
        "x_train, y_train = rus.fit_sample(train,train['click'])\n",
        "rus = RandomOverSampler(random_state=3,ratio={1:30000,0:39000})\n",
        "x_train, y_train = rus.fit_sample(x_train,y_train)\n",
        "x_train = pd.DataFrame(columns = train.columns, data = x_train)\n",
        "\n",
        "x_train_usertag = dummy_user_tag(x_train)\n",
        "x_train = dummy_features(x_train)\n",
        "#x_train = x_train.join(x_train_usertag)\n",
        "y_train = x_train['click_1.0']\n",
        "x_train = x_train.drop(['click_1.0', 'click_0.0', 'click_nan'],axis = 1)\n",
        "#x_train = pd.concat([x_train, x_train_usertag],axis = 1)\n",
        "\n",
        "x_val_usertag = dummy_user_tag(val)\n",
        "x_val = dummy_features(val)\n",
        "#x_val = x_val.join(x_val_usertag)\n",
        "y_val = x_val['click_1.0']\n",
        "x_val = x_val.drop(['click_1.0','click_0.0','click_nan'],axis = 1)\n",
        "#x_val = pd.concat([x_val, x_val_usertag],axis = 1)\n",
        "\n",
        "x_test_usertag = dummy_user_tag(test)\n",
        "x_test = dummy_features_test(test)\n",
        "#x_test = x_test.join(x_test_usertag)\n",
        "#x_test = pd.concat([x_test, x_test_usertag], axis = 1)\n",
        "\n",
        "\n",
        "#y_val = val['click']\n",
        "\n",
        "columns_train_val = list(set(list(x_train.columns)+list(x_val.columns)+list(x_test.columns)))\n",
        "x_val = add_drop_features(x_val, columns_train_val)\n",
        "x_train = add_drop_features(x_train, columns_train_val)\n",
        "x_test = add_drop_features(x_test, columns_train_val)\n",
        "#ensure columns order\n",
        "x_val = x_val[x_train.columns]\n",
        "x_test = x_test[x_train.columns]\n",
        "print(x_train.shape)\n",
        "print(x_val.shape)\n",
        "print(x_test.shape)\n",
        "print(len(y_train))\n",
        "print(len(y_val))\n",
        "import operator\n",
        "print(operator.eq(x_train.columns,x_test.columns))\n",
        "\n",
        "#releas memory\n",
        "#train =[]\n",
        "#val = []\n",
        "#test = []"
      ],
      "execution_count": 0,
      "outputs": [
        {
          "output_type": "stream",
          "text": [
            "[[0 0 0 ... 0 0 0]\n",
            " [0 0 0 ... 0 0 0]\n",
            " [0 0 0 ... 0 0 0]\n",
            " ...\n",
            " [0 0 0 ... 0 0 0]\n",
            " [0 1 1 ... 0 0 0]\n",
            " [0 0 0 ... 0 0 0]]\n",
            "[[0 0 0 ... 0 0 0]\n",
            " [0 1 1 ... 0 0 0]\n",
            " [0 1 1 ... 0 0 0]\n",
            " ...\n",
            " [0 1 0 ... 0 0 0]\n",
            " [0 0 0 ... 0 0 0]\n",
            " [0 0 0 ... 0 0 0]]\n",
            "[[0 1 1 ... 0 0 0]\n",
            " [0 0 0 ... 0 0 0]\n",
            " [1 1 1 ... 0 0 0]\n",
            " ...\n",
            " [0 0 1 ... 0 0 0]\n",
            " [0 0 0 ... 0 0 0]\n",
            " [0 1 1 ... 0 0 0]]\n",
            "(69000, 676)\n",
            "(302408, 676)\n",
            "(303375, 676)\n",
            "69000\n",
            "302408\n",
            "[ True  True  True  True  True  True  True  True  True  True  True  True\n",
            "  True  True  True  True  True  True  True  True  True  True  True  True\n",
            "  True  True  True  True  True  True  True  True  True  True  True  True\n",
            "  True  True  True  True  True  True  True  True  True  True  True  True\n",
            "  True  True  True  True  True  True  True  True  True  True  True  True\n",
            "  True  True  True  True  True  True  True  True  True  True  True  True\n",
            "  True  True  True  True  True  True  True  True  True  True  True  True\n",
            "  True  True  True  True  True  True  True  True  True  True  True  True\n",
            "  True  True  True  True  True  True  True  True  True  True  True  True\n",
            "  True  True  True  True  True  True  True  True  True  True  True  True\n",
            "  True  True  True  True  True  True  True  True  True  True  True  True\n",
            "  True  True  True  True  True  True  True  True  True  True  True  True\n",
            "  True  True  True  True  True  True  True  True  True  True  True  True\n",
            "  True  True  True  True  True  True  True  True  True  True  True  True\n",
            "  True  True  True  True  True  True  True  True  True  True  True  True\n",
            "  True  True  True  True  True  True  True  True  True  True  True  True\n",
            "  True  True  True  True  True  True  True  True  True  True  True  True\n",
            "  True  True  True  True  True  True  True  True  True  True  True  True\n",
            "  True  True  True  True  True  True  True  True  True  True  True  True\n",
            "  True  True  True  True  True  True  True  True  True  True  True  True\n",
            "  True  True  True  True  True  True  True  True  True  True  True  True\n",
            "  True  True  True  True  True  True  True  True  True  True  True  True\n",
            "  True  True  True  True  True  True  True  True  True  True  True  True\n",
            "  True  True  True  True  True  True  True  True  True  True  True  True\n",
            "  True  True  True  True  True  True  True  True  True  True  True  True\n",
            "  True  True  True  True  True  True  True  True  True  True  True  True\n",
            "  True  True  True  True  True  True  True  True  True  True  True  True\n",
            "  True  True  True  True  True  True  True  True  True  True  True  True\n",
            "  True  True  True  True  True  True  True  True  True  True  True  True\n",
            "  True  True  True  True  True  True  True  True  True  True  True  True\n",
            "  True  True  True  True  True  True  True  True  True  True  True  True\n",
            "  True  True  True  True  True  True  True  True  True  True  True  True\n",
            "  True  True  True  True  True  True  True  True  True  True  True  True\n",
            "  True  True  True  True  True  True  True  True  True  True  True  True\n",
            "  True  True  True  True  True  True  True  True  True  True  True  True\n",
            "  True  True  True  True  True  True  True  True  True  True  True  True\n",
            "  True  True  True  True  True  True  True  True  True  True  True  True\n",
            "  True  True  True  True  True  True  True  True  True  True  True  True\n",
            "  True  True  True  True  True  True  True  True  True  True  True  True\n",
            "  True  True  True  True  True  True  True  True  True  True  True  True\n",
            "  True  True  True  True  True  True  True  True  True  True  True  True\n",
            "  True  True  True  True  True  True  True  True  True  True  True  True\n",
            "  True  True  True  True  True  True  True  True  True  True  True  True\n",
            "  True  True  True  True  True  True  True  True  True  True  True  True\n",
            "  True  True  True  True  True  True  True  True  True  True  True  True\n",
            "  True  True  True  True  True  True  True  True  True  True  True  True\n",
            "  True  True  True  True  True  True  True  True  True  True  True  True\n",
            "  True  True  True  True  True  True  True  True  True  True  True  True\n",
            "  True  True  True  True  True  True  True  True  True  True  True  True\n",
            "  True  True  True  True  True  True  True  True  True  True  True  True\n",
            "  True  True  True  True  True  True  True  True  True  True  True  True\n",
            "  True  True  True  True  True  True  True  True  True  True  True  True\n",
            "  True  True  True  True  True  True  True  True  True  True  True  True\n",
            "  True  True  True  True  True  True  True  True  True  True  True  True\n",
            "  True  True  True  True  True  True  True  True  True  True  True  True\n",
            "  True  True  True  True  True  True  True  True  True  True  True  True\n",
            "  True  True  True  True]\n"
          ],
          "name": "stdout"
        }
      ]
    },
    {
      "metadata": {
        "id": "pSdDRrBoqgbF",
        "colab_type": "code",
        "outputId": "afd42a07-7f04-4e35-9a88-c15fa6e3ed60",
        "colab": {
          "base_uri": "https://localhost:8080/",
          "height": 11509
        }
      },
      "cell_type": "code",
      "source": [
        "for x in x_train.columns:\n",
        "  print(x)"
      ],
      "execution_count": 0,
      "outputs": [
        {
          "output_type": "stream",
          "text": [
            "bidprice\n",
            "payprice\n",
            "weekday_0.0\n",
            "weekday_1.0\n",
            "weekday_2.0\n",
            "weekday_3.0\n",
            "weekday_4.0\n",
            "weekday_5.0\n",
            "weekday_6.0\n",
            "weekday_nan\n",
            "hour_0.0\n",
            "hour_1.0\n",
            "hour_2.0\n",
            "hour_3.0\n",
            "hour_4.0\n",
            "hour_5.0\n",
            "hour_6.0\n",
            "hour_7.0\n",
            "hour_8.0\n",
            "hour_9.0\n",
            "hour_10.0\n",
            "hour_11.0\n",
            "hour_12.0\n",
            "hour_13.0\n",
            "hour_14.0\n",
            "hour_15.0\n",
            "hour_16.0\n",
            "hour_17.0\n",
            "hour_18.0\n",
            "hour_19.0\n",
            "hour_20.0\n",
            "hour_21.0\n",
            "hour_22.0\n",
            "hour_23.0\n",
            "hour_nan\n",
            "OS_android\n",
            "OS_ios\n",
            "OS_linux\n",
            "OS_mac\n",
            "OS_other\n",
            "OS_windows\n",
            "OS_nan\n",
            "browser_chrome\n",
            "browser_firefox\n",
            "browser_ie\n",
            "browser_maxthon\n",
            "browser_opera\n",
            "browser_other\n",
            "browser_safari\n",
            "browser_sogou\n",
            "browser_theworld\n",
            "browser_nan\n",
            "region_0.0\n",
            "region_1.0\n",
            "region_2.0\n",
            "region_3.0\n",
            "region_15.0\n",
            "region_27.0\n",
            "region_40.0\n",
            "region_55.0\n",
            "region_65.0\n",
            "region_79.0\n",
            "region_80.0\n",
            "region_94.0\n",
            "region_106.0\n",
            "region_124.0\n",
            "region_134.0\n",
            "region_146.0\n",
            "region_164.0\n",
            "region_183.0\n",
            "region_201.0\n",
            "region_216.0\n",
            "region_238.0\n",
            "region_253.0\n",
            "region_275.0\n",
            "region_276.0\n",
            "region_298.0\n",
            "region_308.0\n",
            "region_325.0\n",
            "region_333.0\n",
            "region_344.0\n",
            "region_359.0\n",
            "region_368.0\n",
            "region_374.0\n",
            "region_393.0\n",
            "region_394.0\n",
            "region_395.0\n",
            "region_nan\n",
            "city_0.0\n",
            "city_1.0\n",
            "city_2.0\n",
            "city_3.0\n",
            "city_4.0\n",
            "city_5.0\n",
            "city_6.0\n",
            "city_7.0\n",
            "city_8.0\n",
            "city_9.0\n",
            "city_10.0\n",
            "city_11.0\n",
            "city_12.0\n",
            "city_13.0\n",
            "city_14.0\n",
            "city_15.0\n",
            "city_16.0\n",
            "city_17.0\n",
            "city_18.0\n",
            "city_19.0\n",
            "city_20.0\n",
            "city_21.0\n",
            "city_22.0\n",
            "city_23.0\n",
            "city_24.0\n",
            "city_25.0\n",
            "city_26.0\n",
            "city_27.0\n",
            "city_28.0\n",
            "city_29.0\n",
            "city_30.0\n",
            "city_31.0\n",
            "city_32.0\n",
            "city_33.0\n",
            "city_34.0\n",
            "city_35.0\n",
            "city_36.0\n",
            "city_37.0\n",
            "city_38.0\n",
            "city_39.0\n",
            "city_40.0\n",
            "city_41.0\n",
            "city_42.0\n",
            "city_43.0\n",
            "city_44.0\n",
            "city_45.0\n",
            "city_46.0\n",
            "city_47.0\n",
            "city_48.0\n",
            "city_49.0\n",
            "city_50.0\n",
            "city_51.0\n",
            "city_52.0\n",
            "city_53.0\n",
            "city_54.0\n",
            "city_56.0\n",
            "city_57.0\n",
            "city_58.0\n",
            "city_59.0\n",
            "city_60.0\n",
            "city_61.0\n",
            "city_62.0\n",
            "city_63.0\n",
            "city_64.0\n",
            "city_65.0\n",
            "city_66.0\n",
            "city_67.0\n",
            "city_68.0\n",
            "city_69.0\n",
            "city_70.0\n",
            "city_71.0\n",
            "city_72.0\n",
            "city_73.0\n",
            "city_74.0\n",
            "city_75.0\n",
            "city_76.0\n",
            "city_77.0\n",
            "city_78.0\n",
            "city_79.0\n",
            "city_80.0\n",
            "city_81.0\n",
            "city_82.0\n",
            "city_83.0\n",
            "city_84.0\n",
            "city_85.0\n",
            "city_86.0\n",
            "city_87.0\n",
            "city_88.0\n",
            "city_89.0\n",
            "city_90.0\n",
            "city_91.0\n",
            "city_92.0\n",
            "city_93.0\n",
            "city_94.0\n",
            "city_95.0\n",
            "city_96.0\n",
            "city_97.0\n",
            "city_98.0\n",
            "city_99.0\n",
            "city_100.0\n",
            "city_101.0\n",
            "city_102.0\n",
            "city_103.0\n",
            "city_104.0\n",
            "city_105.0\n",
            "city_106.0\n",
            "city_107.0\n",
            "city_108.0\n",
            "city_109.0\n",
            "city_110.0\n",
            "city_111.0\n",
            "city_112.0\n",
            "city_113.0\n",
            "city_114.0\n",
            "city_115.0\n",
            "city_116.0\n",
            "city_117.0\n",
            "city_118.0\n",
            "city_119.0\n",
            "city_120.0\n",
            "city_121.0\n",
            "city_122.0\n",
            "city_123.0\n",
            "city_124.0\n",
            "city_125.0\n",
            "city_126.0\n",
            "city_127.0\n",
            "city_128.0\n",
            "city_129.0\n",
            "city_130.0\n",
            "city_131.0\n",
            "city_132.0\n",
            "city_133.0\n",
            "city_134.0\n",
            "city_135.0\n",
            "city_136.0\n",
            "city_137.0\n",
            "city_138.0\n",
            "city_139.0\n",
            "city_140.0\n",
            "city_141.0\n",
            "city_142.0\n",
            "city_143.0\n",
            "city_144.0\n",
            "city_145.0\n",
            "city_146.0\n",
            "city_147.0\n",
            "city_148.0\n",
            "city_149.0\n",
            "city_150.0\n",
            "city_151.0\n",
            "city_152.0\n",
            "city_153.0\n",
            "city_154.0\n",
            "city_155.0\n",
            "city_156.0\n",
            "city_157.0\n",
            "city_158.0\n",
            "city_159.0\n",
            "city_160.0\n",
            "city_161.0\n",
            "city_162.0\n",
            "city_163.0\n",
            "city_164.0\n",
            "city_165.0\n",
            "city_166.0\n",
            "city_167.0\n",
            "city_168.0\n",
            "city_169.0\n",
            "city_170.0\n",
            "city_171.0\n",
            "city_172.0\n",
            "city_173.0\n",
            "city_174.0\n",
            "city_175.0\n",
            "city_176.0\n",
            "city_177.0\n",
            "city_178.0\n",
            "city_179.0\n",
            "city_180.0\n",
            "city_181.0\n",
            "city_183.0\n",
            "city_184.0\n",
            "city_185.0\n",
            "city_186.0\n",
            "city_187.0\n",
            "city_188.0\n",
            "city_189.0\n",
            "city_190.0\n",
            "city_191.0\n",
            "city_192.0\n",
            "city_193.0\n",
            "city_194.0\n",
            "city_195.0\n",
            "city_196.0\n",
            "city_201.0\n",
            "city_202.0\n",
            "city_203.0\n",
            "city_204.0\n",
            "city_205.0\n",
            "city_206.0\n",
            "city_207.0\n",
            "city_208.0\n",
            "city_209.0\n",
            "city_210.0\n",
            "city_211.0\n",
            "city_212.0\n",
            "city_213.0\n",
            "city_214.0\n",
            "city_215.0\n",
            "city_216.0\n",
            "city_217.0\n",
            "city_218.0\n",
            "city_219.0\n",
            "city_220.0\n",
            "city_221.0\n",
            "city_222.0\n",
            "city_223.0\n",
            "city_224.0\n",
            "city_225.0\n",
            "city_226.0\n",
            "city_227.0\n",
            "city_228.0\n",
            "city_229.0\n",
            "city_230.0\n",
            "city_231.0\n",
            "city_232.0\n",
            "city_233.0\n",
            "city_234.0\n",
            "city_235.0\n",
            "city_236.0\n",
            "city_237.0\n",
            "city_238.0\n",
            "city_239.0\n",
            "city_240.0\n",
            "city_241.0\n",
            "city_242.0\n",
            "city_243.0\n",
            "city_244.0\n",
            "city_245.0\n",
            "city_246.0\n",
            "city_247.0\n",
            "city_248.0\n",
            "city_249.0\n",
            "city_250.0\n",
            "city_251.0\n",
            "city_252.0\n",
            "city_253.0\n",
            "city_254.0\n",
            "city_255.0\n",
            "city_275.0\n",
            "city_276.0\n",
            "city_277.0\n",
            "city_278.0\n",
            "city_279.0\n",
            "city_280.0\n",
            "city_281.0\n",
            "city_282.0\n",
            "city_283.0\n",
            "city_284.0\n",
            "city_285.0\n",
            "city_286.0\n",
            "city_287.0\n",
            "city_288.0\n",
            "city_289.0\n",
            "city_290.0\n",
            "city_291.0\n",
            "city_292.0\n",
            "city_293.0\n",
            "city_294.0\n",
            "city_295.0\n",
            "city_296.0\n",
            "city_297.0\n",
            "city_299.0\n",
            "city_300.0\n",
            "city_301.0\n",
            "city_302.0\n",
            "city_303.0\n",
            "city_304.0\n",
            "city_305.0\n",
            "city_306.0\n",
            "city_307.0\n",
            "city_308.0\n",
            "city_309.0\n",
            "city_310.0\n",
            "city_311.0\n",
            "city_312.0\n",
            "city_313.0\n",
            "city_314.0\n",
            "city_315.0\n",
            "city_316.0\n",
            "city_317.0\n",
            "city_318.0\n",
            "city_319.0\n",
            "city_320.0\n",
            "city_321.0\n",
            "city_322.0\n",
            "city_323.0\n",
            "city_324.0\n",
            "city_326.0\n",
            "city_327.0\n",
            "city_328.0\n",
            "city_331.0\n",
            "city_332.0\n",
            "city_333.0\n",
            "city_334.0\n",
            "city_335.0\n",
            "city_336.0\n",
            "city_337.0\n",
            "city_338.0\n",
            "city_339.0\n",
            "city_340.0\n",
            "city_341.0\n",
            "city_342.0\n",
            "city_343.0\n",
            "city_344.0\n",
            "city_345.0\n",
            "city_346.0\n",
            "city_347.0\n",
            "city_348.0\n",
            "city_349.0\n",
            "city_350.0\n",
            "city_351.0\n",
            "city_352.0\n",
            "city_353.0\n",
            "city_354.0\n",
            "city_355.0\n",
            "city_356.0\n",
            "city_357.0\n",
            "city_358.0\n",
            "city_359.0\n",
            "city_360.0\n",
            "city_361.0\n",
            "city_364.0\n",
            "city_365.0\n",
            "city_366.0\n",
            "city_367.0\n",
            "city_368.0\n",
            "city_369.0\n",
            "city_370.0\n",
            "city_371.0\n",
            "city_372.0\n",
            "city_373.0\n",
            "city_375.0\n",
            "city_376.0\n",
            "city_377.0\n",
            "city_378.0\n",
            "city_379.0\n",
            "city_380.0\n",
            "city_381.0\n",
            "city_382.0\n",
            "city_383.0\n",
            "city_384.0\n",
            "city_385.0\n",
            "city_386.0\n",
            "city_387.0\n",
            "city_388.0\n",
            "city_393.0\n",
            "city_394.0\n",
            "city_395.0\n",
            "city_397.0\n",
            "city_398.0\n",
            "city_399.0\n",
            "city_nan\n",
            "adexchange_0.0\n",
            "adexchange_1.0\n",
            "adexchange_2.0\n",
            "adexchange_3.0\n",
            "adexchange_4.0\n",
            "adexchange_nan\n",
            "slotvisibility_0\n",
            "slotvisibility_1\n",
            "slotvisibility_2\n",
            "slotvisibility_255\n",
            "slotvisibility_FifthView\n",
            "slotvisibility_FirstView\n",
            "slotvisibility_FourthView\n",
            "slotvisibility_Na\n",
            "slotvisibility_OtherView\n",
            "slotvisibility_SecondView\n",
            "slotvisibility_ThirdView\n",
            "slotvisibility_nan\n",
            "slotformat_0\n",
            "slotformat_1\n",
            "slotformat_5\n",
            "slotformat_Na\n",
            "slotformat_nan\n",
            "creative_0055e8503dc053435b3599fe44af118b\n",
            "creative_00fccc64a1ee2809348509b7ac2a97a5\n",
            "creative_011c1a3d4d3f089a54f9b70a4c0a6eb3\n",
            "creative_0cd33fcb336655841d3e1441b915748d\n",
            "creative_10717\n",
            "creative_10718\n",
            "creative_10719\n",
            "creative_10720\n",
            "creative_10721\n",
            "creative_10722\n",
            "creative_10723\n",
            "creative_10733\n",
            "creative_10734\n",
            "creative_11908\n",
            "creative_12610\n",
            "creative_12611\n",
            "creative_12612\n",
            "creative_12613\n",
            "creative_12614\n",
            "creative_12615\n",
            "creative_12616\n",
            "creative_12618\n",
            "creative_12619\n",
            "creative_12620\n",
            "creative_12621\n",
            "creative_12622\n",
            "creative_12623\n",
            "creative_12624\n",
            "creative_12625\n",
            "creative_12626\n",
            "creative_12627\n",
            "creative_12628\n",
            "creative_12629\n",
            "creative_12630\n",
            "creative_12631\n",
            "creative_12632\n",
            "creative_12633\n",
            "creative_12782\n",
            "creative_12987\n",
            "creative_13606a7c541dcd9ca1948875a760bb31\n",
            "creative_16ff51916f0c796ec72eefc633c4a8ed\n",
            "creative_1a43f1ff53f48573803d4a3c31ebc163\n",
            "creative_23485fcd23122d755d38f8c89d46ca56\n",
            "creative_23d6dade7ed21cea308205b37594003e\n",
            "creative_266f17dcc3a2280172a48fec62be7d02\n",
            "creative_2abc9eaf57d17a96195af3f63c45dc72\n",
            "creative_2f88fc9cf0141b5bbaf251cab07f4ce7\n",
            "creative_3b805a00d99d5ee2493c8fb0063e30e9\n",
            "creative_3d8f1161832704a1a34e1ccdda11a81e\n",
            "creative_4400bf8dea968a0068824792fd336c4c\n",
            "creative_44966cc8da1ed40c95d59e863c8c75f0\n",
            "creative_449a22cd91d9042eda3d3a1b89a22ea8\n",
            "creative_47905feeb59223468fb898b3c9ac024d\n",
            "creative_48c6405fa5bdecc850ea6ef5e6cf4da5\n",
            "creative_48f2e9ba15708c0146bda5e1dd653caa\n",
            "creative_4ad7e35171a3d8de73bb862791575f2e\n",
            "creative_4b724cd63dfb905ebcd54e64572c646d\n",
            "creative_54c6e2569e059cf336f7e7742b44c3ba\n",
            "creative_59f065a795a663140e36eec106464524\n",
            "creative_5c4e0bb0db45e2d1b3a14f817196ebd6\n",
            "creative_612599432d200b093719dd1f372f7a30\n",
            "creative_62f7f9a6dca2f80cc00f17dcda730bc1\n",
            "creative_6455a6f45433aef94075f34dafd8d3bf\n",
            "creative_672fd361820651d4d99b47d7bf48d715\n",
            "creative_6b9331e0f0dbbfef42c308333681f0a3\n",
            "creative_6cdf8fdd3e01122b09b5b411510a2385\n",
            "creative_6fb071c11134e5078c1184ef1370a110\n",
            "creative_7097e4210dea4d69f07f0f5e4343529c\n",
            "creative_7184c9560e68e977187e67e45a4f3198\n",
            "creative_7314\n",
            "creative_7315\n",
            "creative_7317\n",
            "creative_7318\n",
            "creative_7319\n",
            "creative_7320\n",
            "creative_7321\n",
            "creative_7322\n",
            "creative_7323\n",
            "creative_7324\n",
            "creative_7325\n",
            "creative_7326\n",
            "creative_7328\n",
            "creative_7330\n",
            "creative_7331\n",
            "creative_7333\n",
            "creative_7334\n",
            "creative_7335\n",
            "creative_7336\n",
            "creative_77819d3e0b3467fe5c7b16d68ad923a1\n",
            "creative_798b2d49952d77f1eace9f23c210d0b5\n",
            "creative_7eb0065067225fa5f511f7ffb9895f24\n",
            "creative_80446133fda50388678789e3ebd9fdb1\n",
            "creative_80a776343079ed94d424f4607b35fd39\n",
            "creative_82f125e356439d73902ae85e2be96777\n",
            "creative_832b91d59d0cb5731431653204a76c0e\n",
            "creative_86c2543527c86a893d4d4f68810a0416\n",
            "creative_87945ed58e806dbdc291b3662f581354\n",
            "creative_8dff45ed862a740986dbe688aafee7e5\n",
            "creative_911b2d84826786018761e8c0b0a3a60c\n",
            "creative_a10c31a8ff5f42930b4c34035e523886\n",
            "creative_a499988a822facd86dd0e8e4ffef8532\n",
            "creative_a4f763f78ef3eedfe614263b94a8924e\n",
            "creative_b90c12ed2bd7950c6027bf9c6937c48a\n",
            "creative_bac72fe483c04a0ea2490539b4d06e6a\n",
            "creative_bc27493ad2351e2577bc8664172544f8\n",
            "creative_c46090c887c257b61ab1fa11baee91d8\n",
            "creative_c936045d792f6ea3aa22d86d93f5cf23\n",
            "creative_c938195f9e404b4f38c7e71bf50263e5\n",
            "creative_cb7c76e7784031272e37af8e7e9b062c\n",
            "creative_cc9b344e950b4f8c2b96537174a343b7\n",
            "creative_cd6f20e0b2a699c352f2e55a7a2091fd\n",
            "creative_d01411218cc79bc49d2a4078c4093b76\n",
            "creative_d5cecca9a6cbd7a0a48110f1306b26d1\n",
            "creative_d881a6c788e76c2c27ed1ef04f119544\n",
            "creative_dba9860463419dcd6c1b0152dfe7314c\n",
            "creative_dc0998c10f8f0b623b5d949e8272e4c7\n",
            "creative_e049ebe262e20bed5f9b975208db375b\n",
            "creative_e1096a0a4f557814cb226fa5ba2339b2\n",
            "creative_e1af08818a6cd6bbba118bb54a651961\n",
            "creative_e1b0b6fb39abeb138c0b1e37c5f6d777\n",
            "creative_e87d7633d474589c2e2e3ba4eda53f6c\n",
            "creative_f1691b7571803d5a46adcb1f39f94d44\n",
            "creative_f49541b4e0999d0c934ee3eea142a60e\n",
            "creative_f65c8bdb41e9015970bac52baa813239\n",
            "creative_fa8f0532dd5144b5fa748459e8d90b49\n",
            "creative_fb5afa9dba1274beaf3dad86baf97e89\n",
            "creative_fe222c13e927077ad3ea087a92c0935c\n",
            "creative_ff5123fb9333ca095034c62fdaaf51aa\n",
            "creative_nan\n",
            "advertiser_1458.0\n",
            "advertiser_2259.0\n",
            "advertiser_2261.0\n",
            "advertiser_2821.0\n",
            "advertiser_2997.0\n",
            "advertiser_3358.0\n",
            "advertiser_3386.0\n",
            "advertiser_3427.0\n",
            "advertiser_3476.0\n",
            "advertiser_nan\n",
            "keypage_0\n",
            "keypage_0f951a030abdaedd733ee8d114ce2944\n",
            "keypage_15b749127478946f161a54dc0dad27c8\n",
            "keypage_361e128affece850342293213691a043\n",
            "keypage_43f4a37f42a7c5e6219e2601b26c6976\n",
            "keypage_4f8e1c55abc204c2c8f1296dbc223af3\n",
            "keypage_7e0e909ea89f707bc20f9585c9072081\n",
            "keypage_9be83422522025c09a44593ecd1af8ca\n",
            "keypage_a3becb967c015e9acb5e72f22b100ef8\n",
            "keypage_a5d0bde104fea52ea466c77b37948424\n",
            "keypage_a8f8eeaae5c1e2e9924328e78d9925a5\n",
            "keypage_aa4976c67db0f076c563a29f6697928b\n",
            "keypage_b2e35064f3549d447edbbdfb1f707c8c\n",
            "keypage_bebefa5efe83beee17a3d245e7c5085b\n",
            "keypage_c8758e8658b05bc3a88af7b37bdf0575\n",
            "keypage_d29e59bf0f7f8243858b8183f14d4412\n",
            "keypage_d41d8cd98f00b204e9800998ecf8427e\n",
            "keypage_d4fc4aa65f6670f7fea6862f27084fbc\n",
            "keypage_f4a09c06b67d0fcce088ee6e86ca052a\n",
            "keypage_nan\n",
            "size_14040.0\n",
            "size_15625.0\n",
            "size_16000.0\n",
            "size_27000.0\n",
            "size_28080.0\n",
            "size_28800.0\n",
            "size_30000.0\n",
            "size_37200.0\n",
            "size_40000.0\n",
            "size_57500.0\n",
            "size_57600.0\n",
            "size_62500.0\n",
            "size_65520.0\n",
            "size_68400.0\n",
            "size_72000.0\n",
            "size_75000.0\n",
            "size_78400.0\n",
            "size_81900.0\n",
            "size_85500.0\n",
            "size_86400.0\n",
            "size_88200.0\n",
            "size_90000.0\n",
            "size_94080.0\n",
            "size_96000.0\n",
            "size_108000.0\n",
            "size_180000.0\n",
            "size_nan\n",
            "slotpricegroup_1.0\n",
            "slotpricegroup_2.0\n",
            "slotpricegroup_3.0\n",
            "slotpricegroup_4.0\n",
            "slotpricegroup_nan\n",
            "city_325.0\n",
            "city_329.0\n",
            "city_330.0\n",
            "city_362.0\n",
            "city_363.0\n",
            "city_374.0\n",
            "city_396.0\n",
            "creative_7316\n",
            "creative_7327\n",
            "creative_7332\n"
          ],
          "name": "stdout"
        }
      ]
    },
    {
      "metadata": {
        "id": "jz3L_JjwNHdl",
        "colab_type": "text"
      },
      "cell_type": "markdown",
      "source": [
        "#CTR Predict"
      ]
    },
    {
      "metadata": {
        "id": "EZJl_pxyNB-5",
        "colab_type": "text"
      },
      "cell_type": "markdown",
      "source": [
        "##XGBoots Parameters Search"
      ]
    },
    {
      "metadata": {
        "id": "WPPxLUzxNLsH",
        "colab_type": "code",
        "colab": {}
      },
      "cell_type": "code",
      "source": [
        "#train XGBoost\n",
        "\n",
        "xgb_model = xgboost.XGBClassifier()\n",
        "parameters = {'nthread':[4], \n",
        "              'objective':['binary:logistic'],\n",
        "              'learning_rate':[0.05],\n",
        "              'max_depth':[5,6,9], \n",
        "              'min_child_weight':[1,3],\n",
        "              'silent':[0],\n",
        "              'subsample':[0.8],\n",
        "              'colsample_bytree':[0.8],\n",
        "              'n_estimators':[50,100,200],\n",
        "              'missing':[-999],\n",
        "              'seed':[1337]\n",
        "             }\n",
        "model_xgb = GridSearchCV(xgb_model, param_grid=parameters, n_jobs=10,\n",
        "                       cv=5,\n",
        "                       scoring='roc_auc',\n",
        "                       verbose=10,\n",
        "                       refit=True)\n",
        "model_xgb.fit(x_train, y_train)\n",
        "\n",
        "best_parameters = model_xgb.cv_results_\n",
        "for param_name in sorted(best_parameters.keys()):\n",
        "    print(\"%s: %r\"%(param_name, best_parameters[param_name]))"
      ],
      "execution_count": 0,
      "outputs": []
    },
    {
      "metadata": {
        "id": "PEzRqh8ivXhE",
        "colab_type": "code",
        "colab": {}
      },
      "cell_type": "code",
      "source": [
        "best_parameters = model_xgb.cv_results_\n",
        "print(model_xgb.best_params_, model_xgb.best_score_)"
      ],
      "execution_count": 0,
      "outputs": []
    },
    {
      "metadata": {
        "id": "dPEpPkoZatK-",
        "colab_type": "text"
      },
      "cell_type": "markdown",
      "source": [
        "##Read Features"
      ]
    },
    {
      "metadata": {
        "id": "T6AkD33XasBx",
        "colab_type": "code",
        "colab": {}
      },
      "cell_type": "code",
      "source": [
        "x_train = pd.read_csv('/content/drive/My Drive/Multi_Agent Dataset/Dadataset/x_train.csv',sep=',')\n",
        "y_train = pd.read_csv('/content/drive/My Drive/Multi_Agent Dataset/Dadataset/y_train.csv',sep=',')\n",
        "x_val = pd.read_csv('/content/drive/My Drive/Multi_Agent Dataset/Dadataset/x_val.csv',sep=',')\n",
        "y_val = pd.read_csv('/content/drive/My Drive/Multi_Agent Dataset/Dadataset/y_val.csv',sep=',',header=None)\n",
        "x_test = pd.read_csv('/content/drive/My Drive/Multi_Agent Dataset/Dadataset/x_test.csv',sep=',')"
      ],
      "execution_count": 0,
      "outputs": []
    },
    {
      "metadata": {
        "id": "imP88-Ip86R3",
        "colab_type": "code",
        "colab": {}
      },
      "cell_type": "code",
      "source": [
        "x_train = x_train.loc[:, ~x_train.columns.str.contains('^Unnamed')]\n",
        "y_train = y_train.loc[:, ~y_train.columns.str.contains('^Unnamed')]\n",
        "x_val = x_val.loc[:, ~x_val.columns.str.contains('^Unnamed')]\n",
        "y_val = y_val.iloc[:,1]\n",
        "x_test = x_test.loc[:, ~x_test.columns.str.contains('^Unnamed')]\n"
      ],
      "execution_count": 0,
      "outputs": []
    },
    {
      "metadata": {
        "id": "QhflbpympMMs",
        "colab_type": "text"
      },
      "cell_type": "markdown",
      "source": [
        "##XGBoost"
      ]
    },
    {
      "metadata": {
        "id": "ki_A2isoF_cJ",
        "colab_type": "code",
        "outputId": "7e6e2472-b964-493e-b9b8-4830cc7ed07b",
        "colab": {
          "base_uri": "https://localhost:8080/",
          "height": 2587
        }
      },
      "cell_type": "code",
      "source": [
        "XGBoots = xgboost.XGBClassifier(max_depth = 8, n_estimators = 273,learning_rate=0.015, \n",
        "                                  silent = 0, objective='binary:logistic', subsample = 1, min_child_weight=3, colsample_bytree=0.8, eta = 0.1)\n",
        "model = XGBoots.fit(x_train.as_matrix(), y_train,eval_metric='auc', verbose=True, eval_set=[(x_val.as_matrix(),  y_val.as_matrix())], early_stopping_rounds=50)\n",
        "#XGBoots.fit(test_train_x[:50000], test_train_y[:50000])\n",
        "\n",
        "#print(y_val.as_matrix)\n",
        "\n"
      ],
      "execution_count": 0,
      "outputs": [
        {
          "output_type": "stream",
          "text": [
            "/usr/local/lib/python3.6/dist-packages/sklearn/preprocessing/label.py:219: DataConversionWarning: A column-vector y was passed when a 1d array was expected. Please change the shape of y to (n_samples, ), for example using ravel().\n",
            "  y = column_or_1d(y, warn=True)\n",
            "/usr/local/lib/python3.6/dist-packages/sklearn/preprocessing/label.py:252: DataConversionWarning: A column-vector y was passed when a 1d array was expected. Please change the shape of y to (n_samples, ), for example using ravel().\n",
            "  y = column_or_1d(y, warn=True)\n"
          ],
          "name": "stderr"
        },
        {
          "output_type": "stream",
          "text": [
            "[0]\tvalidation_0-auc:0.863241\n",
            "Will train until validation_0-auc hasn't improved in 50 rounds.\n",
            "[1]\tvalidation_0-auc:0.852381\n",
            "[2]\tvalidation_0-auc:0.863984\n",
            "[3]\tvalidation_0-auc:0.865318\n",
            "[4]\tvalidation_0-auc:0.862509\n",
            "[5]\tvalidation_0-auc:0.866643\n",
            "[6]\tvalidation_0-auc:0.869108\n",
            "[7]\tvalidation_0-auc:0.873337\n",
            "[8]\tvalidation_0-auc:0.871942\n",
            "[9]\tvalidation_0-auc:0.872914\n",
            "[10]\tvalidation_0-auc:0.874909\n",
            "[11]\tvalidation_0-auc:0.87518\n",
            "[12]\tvalidation_0-auc:0.873504\n",
            "[13]\tvalidation_0-auc:0.874972\n",
            "[14]\tvalidation_0-auc:0.87474\n",
            "[15]\tvalidation_0-auc:0.873873\n",
            "[16]\tvalidation_0-auc:0.875281\n",
            "[17]\tvalidation_0-auc:0.877908\n",
            "[18]\tvalidation_0-auc:0.878389\n",
            "[19]\tvalidation_0-auc:0.878854\n",
            "[20]\tvalidation_0-auc:0.878461\n",
            "[21]\tvalidation_0-auc:0.878099\n",
            "[22]\tvalidation_0-auc:0.87671\n",
            "[23]\tvalidation_0-auc:0.877411\n",
            "[24]\tvalidation_0-auc:0.877562\n",
            "[25]\tvalidation_0-auc:0.877618\n",
            "[26]\tvalidation_0-auc:0.877922\n",
            "[27]\tvalidation_0-auc:0.877676\n",
            "[28]\tvalidation_0-auc:0.877896\n",
            "[29]\tvalidation_0-auc:0.877767\n",
            "[30]\tvalidation_0-auc:0.877356\n",
            "[31]\tvalidation_0-auc:0.877308\n",
            "[32]\tvalidation_0-auc:0.876905\n",
            "[33]\tvalidation_0-auc:0.876956\n",
            "[34]\tvalidation_0-auc:0.87852\n",
            "[35]\tvalidation_0-auc:0.877924\n",
            "[36]\tvalidation_0-auc:0.879203\n",
            "[37]\tvalidation_0-auc:0.879546\n",
            "[38]\tvalidation_0-auc:0.879639\n",
            "[39]\tvalidation_0-auc:0.880048\n",
            "[40]\tvalidation_0-auc:0.879815\n",
            "[41]\tvalidation_0-auc:0.880903\n",
            "[42]\tvalidation_0-auc:0.880867\n",
            "[43]\tvalidation_0-auc:0.881404\n",
            "[44]\tvalidation_0-auc:0.881958\n",
            "[45]\tvalidation_0-auc:0.881682\n",
            "[46]\tvalidation_0-auc:0.882432\n",
            "[47]\tvalidation_0-auc:0.88268\n",
            "[48]\tvalidation_0-auc:0.882473\n",
            "[49]\tvalidation_0-auc:0.882603\n",
            "[50]\tvalidation_0-auc:0.882532\n",
            "[51]\tvalidation_0-auc:0.882542\n",
            "[52]\tvalidation_0-auc:0.882535\n",
            "[53]\tvalidation_0-auc:0.883063\n",
            "[54]\tvalidation_0-auc:0.88334\n",
            "[55]\tvalidation_0-auc:0.883428\n",
            "[56]\tvalidation_0-auc:0.88339\n",
            "[57]\tvalidation_0-auc:0.883524\n",
            "[58]\tvalidation_0-auc:0.883792\n",
            "[59]\tvalidation_0-auc:0.884964\n",
            "[60]\tvalidation_0-auc:0.885034\n",
            "[61]\tvalidation_0-auc:0.885442\n",
            "[62]\tvalidation_0-auc:0.885523\n",
            "[63]\tvalidation_0-auc:0.885287\n",
            "[64]\tvalidation_0-auc:0.885577\n",
            "[65]\tvalidation_0-auc:0.885801\n",
            "[66]\tvalidation_0-auc:0.886404\n",
            "[67]\tvalidation_0-auc:0.88611\n",
            "[68]\tvalidation_0-auc:0.886198\n",
            "[69]\tvalidation_0-auc:0.886073\n",
            "[70]\tvalidation_0-auc:0.88636\n",
            "[71]\tvalidation_0-auc:0.886288\n",
            "[72]\tvalidation_0-auc:0.886732\n",
            "[73]\tvalidation_0-auc:0.886793\n",
            "[74]\tvalidation_0-auc:0.88669\n",
            "[75]\tvalidation_0-auc:0.886694\n",
            "[76]\tvalidation_0-auc:0.886605\n",
            "[77]\tvalidation_0-auc:0.886644\n",
            "[78]\tvalidation_0-auc:0.886426\n",
            "[79]\tvalidation_0-auc:0.886179\n",
            "[80]\tvalidation_0-auc:0.885993\n",
            "[81]\tvalidation_0-auc:0.886091\n",
            "[82]\tvalidation_0-auc:0.885812\n",
            "[83]\tvalidation_0-auc:0.885723\n",
            "[84]\tvalidation_0-auc:0.885806\n",
            "[85]\tvalidation_0-auc:0.885909\n",
            "[86]\tvalidation_0-auc:0.88618\n",
            "[87]\tvalidation_0-auc:0.885811\n",
            "[88]\tvalidation_0-auc:0.886244\n",
            "[89]\tvalidation_0-auc:0.886079\n",
            "[90]\tvalidation_0-auc:0.886514\n",
            "[91]\tvalidation_0-auc:0.886821\n",
            "[92]\tvalidation_0-auc:0.88678\n",
            "[93]\tvalidation_0-auc:0.886579\n",
            "[94]\tvalidation_0-auc:0.886594\n",
            "[95]\tvalidation_0-auc:0.886704\n",
            "[96]\tvalidation_0-auc:0.886373\n",
            "[97]\tvalidation_0-auc:0.886108\n",
            "[98]\tvalidation_0-auc:0.886168\n",
            "[99]\tvalidation_0-auc:0.88601\n",
            "[100]\tvalidation_0-auc:0.885553\n",
            "[101]\tvalidation_0-auc:0.885455\n",
            "[102]\tvalidation_0-auc:0.885387\n",
            "[103]\tvalidation_0-auc:0.8854\n",
            "[104]\tvalidation_0-auc:0.885297\n",
            "[105]\tvalidation_0-auc:0.886022\n",
            "[106]\tvalidation_0-auc:0.886188\n",
            "[107]\tvalidation_0-auc:0.886024\n",
            "[108]\tvalidation_0-auc:0.886015\n",
            "[109]\tvalidation_0-auc:0.885873\n",
            "[110]\tvalidation_0-auc:0.885769\n",
            "[111]\tvalidation_0-auc:0.88568\n",
            "[112]\tvalidation_0-auc:0.885678\n",
            "[113]\tvalidation_0-auc:0.88562\n",
            "[114]\tvalidation_0-auc:0.885478\n",
            "[115]\tvalidation_0-auc:0.88544\n",
            "[116]\tvalidation_0-auc:0.88564\n",
            "[117]\tvalidation_0-auc:0.88571\n",
            "[118]\tvalidation_0-auc:0.885516\n",
            "[119]\tvalidation_0-auc:0.8856\n",
            "[120]\tvalidation_0-auc:0.885658\n",
            "[121]\tvalidation_0-auc:0.885405\n",
            "[122]\tvalidation_0-auc:0.88568\n",
            "[123]\tvalidation_0-auc:0.885695\n",
            "[124]\tvalidation_0-auc:0.885517\n",
            "[125]\tvalidation_0-auc:0.885562\n",
            "[126]\tvalidation_0-auc:0.885528\n",
            "[127]\tvalidation_0-auc:0.886032\n",
            "[128]\tvalidation_0-auc:0.885914\n",
            "[129]\tvalidation_0-auc:0.886233\n",
            "[130]\tvalidation_0-auc:0.88647\n",
            "[131]\tvalidation_0-auc:0.886551\n",
            "[132]\tvalidation_0-auc:0.886585\n",
            "[133]\tvalidation_0-auc:0.886541\n",
            "[134]\tvalidation_0-auc:0.886742\n",
            "[135]\tvalidation_0-auc:0.886587\n",
            "[136]\tvalidation_0-auc:0.886476\n",
            "[137]\tvalidation_0-auc:0.886155\n",
            "[138]\tvalidation_0-auc:0.88619\n",
            "[139]\tvalidation_0-auc:0.886467\n",
            "[140]\tvalidation_0-auc:0.886341\n",
            "[141]\tvalidation_0-auc:0.886417\n",
            "Stopping. Best iteration:\n",
            "[91]\tvalidation_0-auc:0.886821\n",
            "\n"
          ],
          "name": "stdout"
        }
      ]
    },
    {
      "metadata": {
        "id": "lGlHZ20nWHfO",
        "colab_type": "code",
        "outputId": "583c084d-af6d-42ee-b4ab-b1813166a6a8",
        "colab": {
          "base_uri": "https://localhost:8080/",
          "height": 136
        }
      },
      "cell_type": "code",
      "source": [
        "preds = XGBoots.predict_proba(x_val.as_matrix())\n",
        "print(preds)\n",
        "preds_label = XGBoots.predict(x_val.as_matrix())"
      ],
      "execution_count": 0,
      "outputs": [
        {
          "output_type": "stream",
          "text": [
            "[[0.9671728  0.0328272 ]\n",
            " [0.972539   0.02746098]\n",
            " [0.9614908  0.03850919]\n",
            " ...\n",
            " [0.8580946  0.14190541]\n",
            " [0.8853818  0.11461815]\n",
            " [0.91419905 0.08580097]]\n"
          ],
          "name": "stdout"
        }
      ]
    },
    {
      "metadata": {
        "id": "rQ0LO4CsQAnW",
        "colab_type": "code",
        "outputId": "386ea030-80a5-4006-c9c9-d9c0f903ccfb",
        "colab": {
          "base_uri": "https://localhost:8080/",
          "height": 68
        }
      },
      "cell_type": "code",
      "source": [
        "accuracy = accuracy_score(y_val.fillna(0).as_matrix(), preds_label)\n",
        "print(\"Accuracy: %.2f%%\" % (accuracy * 100.0))\n",
        "confusion_matrix(y_val.fillna(0).as_matrix(), preds_label)"
      ],
      "execution_count": 0,
      "outputs": [
        {
          "output_type": "stream",
          "text": [
            "Accuracy: 99.01%\n"
          ],
          "name": "stdout"
        },
        {
          "output_type": "execute_result",
          "data": {
            "text/plain": [
              "array([[300816,   2907],\n",
              "       [   111,     91]])"
            ]
          },
          "metadata": {
            "tags": []
          },
          "execution_count": 52
        }
      ]
    },
    {
      "metadata": {
        "id": "HK1NMsSyvu8w",
        "colab_type": "code",
        "colab": {}
      },
      "cell_type": "code",
      "source": [
        "pkl_filename = \"/content/drive/My Drive/pickle_model_xgb_4.pkl\"  \n",
        "with open(pkl_filename, 'wb') as file:  \n",
        "    pickle.dump(XGBoots, file)\n"
      ],
      "execution_count": 0,
      "outputs": []
    },
    {
      "metadata": {
        "id": "Sby6lVvIFHxJ",
        "colab_type": "code",
        "colab": {}
      },
      "cell_type": "code",
      "source": [
        "pred_df = pd.DataFrame(preds)\n",
        "pred_df.to_csv(\"/content/drive/My Drive/pred.csv\")#store dataframe to csv"
      ],
      "execution_count": 0,
      "outputs": []
    },
    {
      "metadata": {
        "id": "tiyxf7dWwnml",
        "colab_type": "text"
      },
      "cell_type": "markdown",
      "source": [
        "##Logestic Regression"
      ]
    },
    {
      "metadata": {
        "id": "1kkHDbttwmBG",
        "colab_type": "code",
        "outputId": "e38a646d-8b70-42ec-9f30-388202a2544a",
        "colab": {
          "base_uri": "https://localhost:8080/",
          "height": 105
        }
      },
      "cell_type": "code",
      "source": [
        "Logist = LogisticRegression(penalty = 'l1',max_iter =2, C = 0.05, solver = 'saga', class_weight = 'unbalanced').fit(x_train.as_matrix(), y_train)"
      ],
      "execution_count": 0,
      "outputs": [
        {
          "output_type": "stream",
          "text": [
            "/usr/local/lib/python3.6/dist-packages/sklearn/utils/validation.py:761: DataConversionWarning: A column-vector y was passed when a 1d array was expected. Please change the shape of y to (n_samples, ), for example using ravel().\n",
            "  y = column_or_1d(y, warn=True)\n",
            "/usr/local/lib/python3.6/dist-packages/sklearn/linear_model/sag.py:334: ConvergenceWarning: The max_iter was reached which means the coef_ did not converge\n",
            "  \"the coef_ did not converge\", ConvergenceWarning)\n"
          ],
          "name": "stderr"
        }
      ]
    },
    {
      "metadata": {
        "id": "iXnNdZMgdGnC",
        "colab_type": "code",
        "outputId": "df3d2abf-1a36-48ff-f580-ef9aa6dd77cd",
        "colab": {
          "base_uri": "https://localhost:8080/",
          "height": 136
        }
      },
      "cell_type": "code",
      "source": [
        "pred_logist = Logist.predict_proba(x_val.as_matrix())\n",
        "print(pred_logist)\n",
        "pred_logist_label = Logist.predict(x_val.as_matrix())"
      ],
      "execution_count": 0,
      "outputs": [
        {
          "output_type": "stream",
          "text": [
            "[[0.93256284 0.06743716]\n",
            " [0.96476681 0.03523319]\n",
            " [0.96270671 0.03729329]\n",
            " ...\n",
            " [0.87484462 0.12515538]\n",
            " [0.97462984 0.02537016]\n",
            " [0.92812949 0.07187051]]\n"
          ],
          "name": "stdout"
        }
      ]
    },
    {
      "metadata": {
        "id": "-L1D2_lfGJU1",
        "colab_type": "code",
        "colab": {}
      },
      "cell_type": "code",
      "source": [
        "sss = pd.DataFrame(pred_logist)\n",
        "sss.to_csv('pred_logist_2.csv')"
      ],
      "execution_count": 0,
      "outputs": []
    },
    {
      "metadata": {
        "id": "YKj034cgdRBh",
        "colab_type": "code",
        "outputId": "818b18e9-da10-47ad-f05e-f8a386d87924",
        "colab": {
          "base_uri": "https://localhost:8080/",
          "height": 68
        }
      },
      "cell_type": "code",
      "source": [
        "accuracy = accuracy_score(y_val.as_matrix(), pred_logist_label)\n",
        "print(\"Accuracy: %.2f%%\" % (accuracy * 100.0))\n",
        "confusion_matrix(y_val.as_matrix(), pred_logist_label)"
      ],
      "execution_count": 0,
      "outputs": [
        {
          "output_type": "stream",
          "text": [
            "Accuracy: 98.70%\n"
          ],
          "name": "stdout"
        },
        {
          "output_type": "execute_result",
          "data": {
            "text/plain": [
              "array([[299913,   3810],\n",
              "       [   144,     58]])"
            ]
          },
          "metadata": {
            "tags": []
          },
          "execution_count": 15
        }
      ]
    },
    {
      "metadata": {
        "id": "YyeUwgKvSkIc",
        "colab_type": "code",
        "colab": {}
      },
      "cell_type": "code",
      "source": [
        "pkl_filename = \"/content/drive/My Drive/pickle_model_logistic.pkl\"  \n",
        "with open(pkl_filename, 'wb') as file:  \n",
        "    pickle.dump(Logist, file)\n"
      ],
      "execution_count": 0,
      "outputs": []
    },
    {
      "metadata": {
        "id": "Eh6qdObkJh4V",
        "colab_type": "text"
      },
      "cell_type": "markdown",
      "source": [
        "#Bidding Estimation"
      ]
    },
    {
      "metadata": {
        "id": "w-wDjHGKKcDC",
        "colab_type": "text"
      },
      "cell_type": "markdown",
      "source": [
        "##Linear Stratagy"
      ]
    },
    {
      "metadata": {
        "id": "axhvhfFNKbMD",
        "colab_type": "code",
        "outputId": "577ffcab-95d6-481d-a439-610fb1558f6f",
        "colab": {
          "base_uri": "https://localhost:8080/",
          "height": 68
        }
      },
      "cell_type": "code",
      "source": [
        "with open('/content/drive/My Drive/pickle_model_xgb_4.pkl', 'rb') as file:  \n",
        "    XGBoots = pickle.load(file)\n",
        "preds = XGBoots.predict_proba(x_val.as_matrix())\n",
        "preds_label = XGBoots.predict(x_val.as_matrix())\n",
        "accuracy = accuracy_score(y_val.fillna(0).as_matrix(), preds_label)\n",
        "print(\"Accuracy: %.2f%%\" % (accuracy * 100.0))\n",
        "confusion_matrix(y_val.fillna(0).as_matrix(), preds_label)"
      ],
      "execution_count": 0,
      "outputs": [
        {
          "output_type": "stream",
          "text": [
            "Accuracy: 99.01%\n"
          ],
          "name": "stdout"
        },
        {
          "output_type": "execute_result",
          "data": {
            "text/plain": [
              "array([[300816,   2907],\n",
              "       [   111,     91]])"
            ]
          },
          "metadata": {
            "tags": []
          },
          "execution_count": 22
        }
      ]
    },
    {
      "metadata": {
        "id": "dEGhi6O2KiXj",
        "colab_type": "code",
        "outputId": "be22fefd-94ad-4338-b2a5-5b06e325e185",
        "colab": {
          "base_uri": "https://localhost:8080/",
          "height": 34
        }
      },
      "cell_type": "code",
      "source": [
        "import math\n",
        "preds_1 = [pred[1] for pred in preds]\n",
        "#preds_1 = [pred[1] for pred in pred_logist]\n",
        "avgCTR = sum(y_val)*100/len(y_val)\n",
        "print(avgCTR)"
      ],
      "execution_count": 0,
      "outputs": [
        {
          "output_type": "stream",
          "text": [
            "0.06646376573167723\n"
          ],
          "name": "stdout"
        }
      ]
    },
    {
      "metadata": {
        "id": "ifIUgfj4Kqn0",
        "colab_type": "code",
        "outputId": "2fd315e3-1e4d-4c94-da0a-4bb67776a684",
        "colab": {
          "base_uri": "https://localhost:8080/",
          "height": 187
        }
      },
      "cell_type": "code",
      "source": [
        "\n",
        "eval_linear_df = pd.DataFrame(columns=['bid_base','impressions','spend','clicks'])\n",
        "\n",
        "spend = 0\n",
        "iteration = 0\n",
        "budget = 6250000\n",
        "for bid_base in range(42,52):\n",
        "    num_click = 0\n",
        "    flag = True\n",
        "    Imps = 0\n",
        "    spend = 0\n",
        "    iteration += 1\n",
        "    count = 0\n",
        "    for i in range(val.shape[0]):\n",
        "        bid = bid_base*(preds_1[i]/avgCTR)\n",
        "        #print(bid, preds_1[i], i)\n",
        "        if bid >= val['payprice'].iloc[i] and flag:\n",
        "            spend = spend + val['payprice'].iloc[i]\n",
        "            if spend > budget:\n",
        "                spend = spend - val['payprice'].iloc[i]\n",
        "                flag = False\n",
        "                break\n",
        "            num_click = num_click + val['click'].iloc[i]\n",
        "            Imps = Imps + 1\n",
        "        count += 1\n",
        "    print(bid_base, count)\n",
        "    eval_linear_df.loc[iteration,'bid_base'] = bid_base\n",
        "    eval_linear_df.loc[iteration,'clicks'] = num_click\n",
        "    eval_linear_df.loc[iteration,'spend'] = spend/1000\n",
        "    eval_linear_df.loc[iteration,'impressions'] = Imps\n",
        "\n",
        "        \n",
        "eval_linear_df['CTR'] = eval_linear_df['clicks']/eval_linear_df['impressions']\n",
        "eval_linear_df['eCPC'] = eval_linear_df['spend']/eval_linear_df['clicks']\n",
        "eval_linear_df['CPM'] = eval_linear_df['spend']*1000/eval_linear_df['impressions']"
      ],
      "execution_count": 0,
      "outputs": [
        {
          "output_type": "stream",
          "text": [
            "42 303925\n",
            "43 303925\n",
            "44 303925\n",
            "45 303925\n",
            "46 303925\n",
            "47 303925\n",
            "48 303925\n",
            "49 303925\n",
            "50 303925\n",
            "51 303925\n"
          ],
          "name": "stdout"
        }
      ]
    },
    {
      "metadata": {
        "id": "SCho__xkoHvh",
        "colab_type": "code",
        "outputId": "751c451f-34b2-4a92-b15c-626b51446d53",
        "colab": {
          "base_uri": "https://localhost:8080/",
          "height": 359
        }
      },
      "cell_type": "code",
      "source": [
        "#sort dataframe via click and CTR in order to find optimal bid price\n",
        "eval_linear_df.sort_values(by=['clicks','CTR'], ascending=False, inplace=True)#sort dataframe via click and CTR\n",
        "eval_linear_df.head(30)"
      ],
      "execution_count": 0,
      "outputs": [
        {
          "output_type": "execute_result",
          "data": {
            "text/html": [
              "<div>\n",
              "<style scoped>\n",
              "    .dataframe tbody tr th:only-of-type {\n",
              "        vertical-align: middle;\n",
              "    }\n",
              "\n",
              "    .dataframe tbody tr th {\n",
              "        vertical-align: top;\n",
              "    }\n",
              "\n",
              "    .dataframe thead th {\n",
              "        text-align: right;\n",
              "    }\n",
              "</style>\n",
              "<table border=\"1\" class=\"dataframe\">\n",
              "  <thead>\n",
              "    <tr style=\"text-align: right;\">\n",
              "      <th></th>\n",
              "      <th>bid_base</th>\n",
              "      <th>impressions</th>\n",
              "      <th>spend</th>\n",
              "      <th>clicks</th>\n",
              "      <th>CTR</th>\n",
              "      <th>eCPC</th>\n",
              "      <th>CPM</th>\n",
              "    </tr>\n",
              "  </thead>\n",
              "  <tbody>\n",
              "    <tr>\n",
              "      <th>6</th>\n",
              "      <td>47</td>\n",
              "      <td>129887</td>\n",
              "      <td>5336.42</td>\n",
              "      <td>165</td>\n",
              "      <td>0.00127033</td>\n",
              "      <td>32.342</td>\n",
              "      <td>41.0851</td>\n",
              "    </tr>\n",
              "    <tr>\n",
              "      <th>7</th>\n",
              "      <td>48</td>\n",
              "      <td>131917</td>\n",
              "      <td>5462.33</td>\n",
              "      <td>165</td>\n",
              "      <td>0.00125079</td>\n",
              "      <td>33.105</td>\n",
              "      <td>41.4073</td>\n",
              "    </tr>\n",
              "    <tr>\n",
              "      <th>8</th>\n",
              "      <td>49</td>\n",
              "      <td>133882</td>\n",
              "      <td>5587.06</td>\n",
              "      <td>165</td>\n",
              "      <td>0.00123243</td>\n",
              "      <td>33.861</td>\n",
              "      <td>41.7312</td>\n",
              "    </tr>\n",
              "    <tr>\n",
              "      <th>9</th>\n",
              "      <td>50</td>\n",
              "      <td>136022</td>\n",
              "      <td>5724.66</td>\n",
              "      <td>165</td>\n",
              "      <td>0.00121304</td>\n",
              "      <td>34.6949</td>\n",
              "      <td>42.0863</td>\n",
              "    </tr>\n",
              "    <tr>\n",
              "      <th>10</th>\n",
              "      <td>51</td>\n",
              "      <td>137997</td>\n",
              "      <td>5852.1</td>\n",
              "      <td>165</td>\n",
              "      <td>0.00119568</td>\n",
              "      <td>35.4673</td>\n",
              "      <td>42.4075</td>\n",
              "    </tr>\n",
              "    <tr>\n",
              "      <th>4</th>\n",
              "      <td>45</td>\n",
              "      <td>125552</td>\n",
              "      <td>5078.75</td>\n",
              "      <td>163</td>\n",
              "      <td>0.00129827</td>\n",
              "      <td>31.158</td>\n",
              "      <td>40.4513</td>\n",
              "    </tr>\n",
              "    <tr>\n",
              "      <th>5</th>\n",
              "      <td>46</td>\n",
              "      <td>127768</td>\n",
              "      <td>5208.02</td>\n",
              "      <td>163</td>\n",
              "      <td>0.00127575</td>\n",
              "      <td>31.9511</td>\n",
              "      <td>40.7616</td>\n",
              "    </tr>\n",
              "    <tr>\n",
              "      <th>3</th>\n",
              "      <td>44</td>\n",
              "      <td>123209</td>\n",
              "      <td>4943.65</td>\n",
              "      <td>162</td>\n",
              "      <td>0.00131484</td>\n",
              "      <td>30.5163</td>\n",
              "      <td>40.1241</td>\n",
              "    </tr>\n",
              "    <tr>\n",
              "      <th>2</th>\n",
              "      <td>43</td>\n",
              "      <td>120891</td>\n",
              "      <td>4809.69</td>\n",
              "      <td>161</td>\n",
              "      <td>0.00133178</td>\n",
              "      <td>29.8739</td>\n",
              "      <td>39.7854</td>\n",
              "    </tr>\n",
              "    <tr>\n",
              "      <th>1</th>\n",
              "      <td>42</td>\n",
              "      <td>118493</td>\n",
              "      <td>4668.63</td>\n",
              "      <td>159</td>\n",
              "      <td>0.00134185</td>\n",
              "      <td>29.3625</td>\n",
              "      <td>39.4001</td>\n",
              "    </tr>\n",
              "  </tbody>\n",
              "</table>\n",
              "</div>"
            ],
            "text/plain": [
              "   bid_base impressions    spend clicks         CTR     eCPC      CPM\n",
              "6        47      129887  5336.42    165  0.00127033   32.342  41.0851\n",
              "7        48      131917  5462.33    165  0.00125079   33.105  41.4073\n",
              "8        49      133882  5587.06    165  0.00123243   33.861  41.7312\n",
              "9        50      136022  5724.66    165  0.00121304  34.6949  42.0863\n",
              "10       51      137997   5852.1    165  0.00119568  35.4673  42.4075\n",
              "4        45      125552  5078.75    163  0.00129827   31.158  40.4513\n",
              "5        46      127768  5208.02    163  0.00127575  31.9511  40.7616\n",
              "3        44      123209  4943.65    162  0.00131484  30.5163  40.1241\n",
              "2        43      120891  4809.69    161  0.00133178  29.8739  39.7854\n",
              "1        42      118493  4668.63    159  0.00134185  29.3625  39.4001"
            ]
          },
          "metadata": {
            "tags": []
          },
          "execution_count": 34
        }
      ]
    },
    {
      "metadata": {
        "id": "DPqkNqVp1Hra",
        "colab_type": "text"
      },
      "cell_type": "markdown",
      "source": [
        "###Plot"
      ]
    },
    {
      "metadata": {
        "id": "Y86xcEV11HHS",
        "colab_type": "code",
        "outputId": "41420ad1-ef74-4b44-f331-d86054c7b3b9",
        "colab": {
          "base_uri": "https://localhost:8080/",
          "height": 627
        }
      },
      "cell_type": "code",
      "source": [
        "eval_linear_df.sort_values(by=['bid_base'], ascending=False, inplace=True)#sort dataframe via click and CTR\n",
        "fig = plt.figure(figsize=(20,10))\n",
        "ax1 = fig.add_subplot(311)\n",
        "eval_linear_df['clicks'].plot(subplots = True, ax = ax1)\n",
        "ax2 = fig.add_subplot(312)\n",
        "eval_linear_df['CTR'].plot(subplots = True, ax = ax2)\n",
        "ax3 = fig.add_subplot(313)\n",
        "eval_linear_df['spend'].plot(subplots = True, ax = ax3)\n",
        "\n",
        "ax3.set_xlabel('Base Bid', fontweight = 'bold', fontsize = 15)\n",
        "ax1.set_ylabel('Click', fontweight = 'bold', fontsize = 15)\n",
        "ax2.set_ylabel('CTR', fontweight = 'bold', fontsize = 15)\n",
        "ax3.set_ylabel('Spend', fontweight = 'bold', fontsize = 15)"
      ],
      "execution_count": 0,
      "outputs": [
        {
          "output_type": "execute_result",
          "data": {
            "text/plain": [
              "Text(0, 0.5, 'Spend')"
            ]
          },
          "metadata": {
            "tags": []
          },
          "execution_count": 163
        },
        {
          "output_type": "display_data",
          "data": {
            "image/png": "[encoded data removed]",
            "text/plain": [
              "<Figure size 1440x720 with 3 Axes>"
            ]
          },
          "metadata": {
            "tags": []
          }
        }
      ]
    },
    {
      "metadata": {
        "id": "Jh-_f43EKHRK",
        "colab_type": "text"
      },
      "cell_type": "markdown",
      "source": [
        "##Non-Linear Stratagy"
      ]
    },
    {
      "metadata": {
        "id": "4mCE4myFSO7b",
        "colab_type": "text"
      },
      "cell_type": "markdown",
      "source": [
        "##Polynomial Bidding(Inspire from Quaderic Bidding)"
      ]
    },
    {
      "metadata": {
        "id": "ks8S0I1NuR-R",
        "colab_type": "code",
        "outputId": "1c87b59b-90fd-4bde-dec1-ad0b1eb5d31b",
        "colab": {
          "base_uri": "https://localhost:8080/",
          "height": 68
        }
      },
      "cell_type": "code",
      "source": [
        "with open('/content/drive/My Drive/pickle_model_xgb_4.pkl', 'rb') as file:  \n",
        "    XGBoots = pickle.load(file)\n",
        "preds = XGBoots.predict_proba(x_val.as_matrix())\n",
        "preds_label = XGBoots.predict(x_val.as_matrix())\n",
        "accuracy = accuracy_score(y_val.fillna(0).as_matrix(), preds_label)\n",
        "print(\"Accuracy: %.2f%%\" % (accuracy * 100.0))\n",
        "confusion_matrix(y_val.fillna(0).as_matrix(), preds_label)"
      ],
      "execution_count": 0,
      "outputs": [
        {
          "output_type": "stream",
          "text": [
            "Accuracy: 99.01%\n"
          ],
          "name": "stdout"
        },
        {
          "output_type": "execute_result",
          "data": {
            "text/plain": [
              "array([[300816,   2907],\n",
              "       [   111,     91]])"
            ]
          },
          "metadata": {
            "tags": []
          },
          "execution_count": 6
        }
      ]
    },
    {
      "metadata": {
        "id": "JHiznAnKKLhz",
        "colab_type": "code",
        "outputId": "ee2f075a-3072-4772-aad3-192a3d3b8d78",
        "colab": {
          "base_uri": "https://localhost:8080/",
          "height": 34
        }
      },
      "cell_type": "code",
      "source": [
        "preds_1 = [pred[1] for pred in preds]\n",
        "avgCTR = sum(y_val)*100/len(y_val)\n",
        "print(avgCTR)"
      ],
      "execution_count": 0,
      "outputs": [
        {
          "output_type": "stream",
          "text": [
            "0.06646376573167723\n"
          ],
          "name": "stdout"
        }
      ]
    },
    {
      "metadata": {
        "id": "krzzwiPYPnCq",
        "colab_type": "code",
        "outputId": "fbfdfd8e-652b-41b6-99dd-6e8fb90930a5",
        "colab": {
          "base_uri": "https://localhost:8080/",
          "height": 527
        }
      },
      "cell_type": "code",
      "source": [
        "\n",
        "eval_poly = pd.DataFrame(columns=['exponent','bid_base','Imps','spend','clicks','CTR','eCPC','CPM'])\n",
        "\n",
        "spend = 0\n",
        "budget = 6250000\n",
        "exp_iter = 0\n",
        "for exp in range(4,5):\n",
        "  iteration = 0\n",
        "  for bid_base in np.arange(12,15,0.1):\n",
        "      num_click = 0\n",
        "      flag = True\n",
        "      Imps = 0\n",
        "      spend = 0\n",
        "      iteration += 1\n",
        "      count = 0\n",
        "      for i in range(val.shape[0]):\n",
        "          bid = bid_base*(preds_1[i]/avgCTR)**exp\n",
        "          #print(bid, preds_1[i], i)\n",
        "          if bid >= val['payprice'].iloc[i] and flag:\n",
        "              spend = spend + val['payprice'].iloc[i]\n",
        "              if spend > budget:\n",
        "                  spend = spend - val['payprice'].iloc[i]\n",
        "                  flag = False\n",
        "                  break\n",
        "              num_click = num_click + val['click'].iloc[i]\n",
        "              Imps = Imps + 1\n",
        "          count += 1\n",
        "      print(bid_base, count)\n",
        "      CTR = num_click/Imps\n",
        "      eCPC = spend/1000/num_click\n",
        "      CPM = spend*1000/Imps\n",
        "      tmp = pd.DataFrame( [[exp, bid_base, Imps, spend, num_click, CTR, eCPC, CPM]], columns=['exponent','bid_base','Imps','spend','clicks','CTR','eCPC','CPM'])\n",
        "      eval_poly = pd.concat([eval_poly, tmp], ignore_index = True)\n"
      ],
      "execution_count": 0,
      "outputs": [
        {
          "output_type": "stream",
          "text": [
            "12.0 303925\n",
            "12.1 303925\n",
            "12.2 303925\n",
            "12.299999999999999 303925\n",
            "12.399999999999999 303925\n",
            "12.499999999999998 303925\n",
            "12.599999999999998 303925\n",
            "12.699999999999998 303925\n",
            "12.799999999999997 303925\n",
            "12.899999999999997 303925\n",
            "12.999999999999996 303925\n",
            "13.099999999999996 303925\n",
            "13.199999999999996 303925\n",
            "13.299999999999995 303925\n",
            "13.399999999999995 303925\n",
            "13.499999999999995 303925\n",
            "13.599999999999994 303925\n",
            "13.699999999999994 303925\n",
            "13.799999999999994 303925\n",
            "13.899999999999993 303866\n",
            "13.999999999999993 302818\n",
            "14.099999999999993 301869\n",
            "14.199999999999992 301253\n",
            "14.299999999999992 300235\n",
            "14.399999999999991 299152\n",
            "14.499999999999991 298292\n",
            "14.59999999999999 297514\n",
            "14.69999999999999 296669\n",
            "14.79999999999999 295749\n",
            "14.89999999999999 294988\n"
          ],
          "name": "stdout"
        }
      ]
    },
    {
      "metadata": {
        "id": "BQp2W2n7RheH",
        "colab_type": "code",
        "outputId": "8efebe42-b4fa-4753-9c66-5300ebd3533f",
        "colab": {
          "base_uri": "https://localhost:8080/",
          "height": 979
        }
      },
      "cell_type": "code",
      "source": [
        "#sort dataframe via click and CTR in order to find optimal bid price\n",
        "eval_poly.sort_values(by=['clicks', 'CTR'], ascending=False, inplace=True)#sort dataframe via click and CTR\n",
        "eval_poly.head(30)"
      ],
      "execution_count": 0,
      "outputs": [
        {
          "output_type": "execute_result",
          "data": {
            "text/html": [
              "<div>\n",
              "<style scoped>\n",
              "    .dataframe tbody tr th:only-of-type {\n",
              "        vertical-align: middle;\n",
              "    }\n",
              "\n",
              "    .dataframe tbody tr th {\n",
              "        vertical-align: top;\n",
              "    }\n",
              "\n",
              "    .dataframe thead th {\n",
              "        text-align: right;\n",
              "    }\n",
              "</style>\n",
              "<table border=\"1\" class=\"dataframe\">\n",
              "  <thead>\n",
              "    <tr style=\"text-align: right;\">\n",
              "      <th></th>\n",
              "      <th>exponent</th>\n",
              "      <th>bid_base</th>\n",
              "      <th>Imps</th>\n",
              "      <th>spend</th>\n",
              "      <th>clicks</th>\n",
              "      <th>CTR</th>\n",
              "      <th>eCPC</th>\n",
              "      <th>CPM</th>\n",
              "    </tr>\n",
              "  </thead>\n",
              "  <tbody>\n",
              "    <tr>\n",
              "      <th>11</th>\n",
              "      <td>4</td>\n",
              "      <td>13.1</td>\n",
              "      <td>94693</td>\n",
              "      <td>6086279</td>\n",
              "      <td>172</td>\n",
              "      <td>0.001816</td>\n",
              "      <td>35.385343</td>\n",
              "      <td>64273.800598</td>\n",
              "    </tr>\n",
              "    <tr>\n",
              "      <th>12</th>\n",
              "      <td>4</td>\n",
              "      <td>13.2</td>\n",
              "      <td>94958</td>\n",
              "      <td>6104573</td>\n",
              "      <td>172</td>\n",
              "      <td>0.001811</td>\n",
              "      <td>35.491703</td>\n",
              "      <td>64287.084816</td>\n",
              "    </tr>\n",
              "    <tr>\n",
              "      <th>13</th>\n",
              "      <td>4</td>\n",
              "      <td>13.3</td>\n",
              "      <td>95230</td>\n",
              "      <td>6125322</td>\n",
              "      <td>172</td>\n",
              "      <td>0.001806</td>\n",
              "      <td>35.612337</td>\n",
              "      <td>64321.348315</td>\n",
              "    </tr>\n",
              "    <tr>\n",
              "      <th>14</th>\n",
              "      <td>4</td>\n",
              "      <td>13.4</td>\n",
              "      <td>95530</td>\n",
              "      <td>6146284</td>\n",
              "      <td>172</td>\n",
              "      <td>0.001800</td>\n",
              "      <td>35.734209</td>\n",
              "      <td>64338.783628</td>\n",
              "    </tr>\n",
              "    <tr>\n",
              "      <th>15</th>\n",
              "      <td>4</td>\n",
              "      <td>13.5</td>\n",
              "      <td>95810</td>\n",
              "      <td>6166022</td>\n",
              "      <td>172</td>\n",
              "      <td>0.001795</td>\n",
              "      <td>35.848965</td>\n",
              "      <td>64356.768605</td>\n",
              "    </tr>\n",
              "    <tr>\n",
              "      <th>16</th>\n",
              "      <td>4</td>\n",
              "      <td>13.6</td>\n",
              "      <td>96085</td>\n",
              "      <td>6186710</td>\n",
              "      <td>172</td>\n",
              "      <td>0.001790</td>\n",
              "      <td>35.969244</td>\n",
              "      <td>64387.885726</td>\n",
              "    </tr>\n",
              "    <tr>\n",
              "      <th>17</th>\n",
              "      <td>4</td>\n",
              "      <td>13.7</td>\n",
              "      <td>96360</td>\n",
              "      <td>6206838</td>\n",
              "      <td>172</td>\n",
              "      <td>0.001785</td>\n",
              "      <td>36.086267</td>\n",
              "      <td>64413.013699</td>\n",
              "    </tr>\n",
              "    <tr>\n",
              "      <th>18</th>\n",
              "      <td>4</td>\n",
              "      <td>13.8</td>\n",
              "      <td>96719</td>\n",
              "      <td>6230110</td>\n",
              "      <td>172</td>\n",
              "      <td>0.001778</td>\n",
              "      <td>36.221570</td>\n",
              "      <td>64414.541093</td>\n",
              "    </tr>\n",
              "    <tr>\n",
              "      <th>19</th>\n",
              "      <td>4</td>\n",
              "      <td>13.9</td>\n",
              "      <td>97006</td>\n",
              "      <td>6249864</td>\n",
              "      <td>172</td>\n",
              "      <td>0.001773</td>\n",
              "      <td>36.336419</td>\n",
              "      <td>64427.602416</td>\n",
              "    </tr>\n",
              "    <tr>\n",
              "      <th>6</th>\n",
              "      <td>4</td>\n",
              "      <td>12.6</td>\n",
              "      <td>93218</td>\n",
              "      <td>5983747</td>\n",
              "      <td>171</td>\n",
              "      <td>0.001834</td>\n",
              "      <td>34.992673</td>\n",
              "      <td>64190.896608</td>\n",
              "    </tr>\n",
              "    <tr>\n",
              "      <th>7</th>\n",
              "      <td>4</td>\n",
              "      <td>12.7</td>\n",
              "      <td>93500</td>\n",
              "      <td>6003041</td>\n",
              "      <td>171</td>\n",
              "      <td>0.001829</td>\n",
              "      <td>35.105503</td>\n",
              "      <td>64203.647059</td>\n",
              "    </tr>\n",
              "    <tr>\n",
              "      <th>8</th>\n",
              "      <td>4</td>\n",
              "      <td>12.8</td>\n",
              "      <td>93811</td>\n",
              "      <td>6024371</td>\n",
              "      <td>171</td>\n",
              "      <td>0.001823</td>\n",
              "      <td>35.230240</td>\n",
              "      <td>64218.172709</td>\n",
              "    </tr>\n",
              "    <tr>\n",
              "      <th>9</th>\n",
              "      <td>4</td>\n",
              "      <td>12.9</td>\n",
              "      <td>94105</td>\n",
              "      <td>6043445</td>\n",
              "      <td>171</td>\n",
              "      <td>0.001817</td>\n",
              "      <td>35.341784</td>\n",
              "      <td>64220.232719</td>\n",
              "    </tr>\n",
              "    <tr>\n",
              "      <th>10</th>\n",
              "      <td>4</td>\n",
              "      <td>13.0</td>\n",
              "      <td>94370</td>\n",
              "      <td>6063190</td>\n",
              "      <td>171</td>\n",
              "      <td>0.001812</td>\n",
              "      <td>35.457251</td>\n",
              "      <td>64249.125781</td>\n",
              "    </tr>\n",
              "    <tr>\n",
              "      <th>0</th>\n",
              "      <td>4</td>\n",
              "      <td>12.0</td>\n",
              "      <td>91410</td>\n",
              "      <td>5859150</td>\n",
              "      <td>170</td>\n",
              "      <td>0.001860</td>\n",
              "      <td>34.465588</td>\n",
              "      <td>64097.472924</td>\n",
              "    </tr>\n",
              "    <tr>\n",
              "      <th>1</th>\n",
              "      <td>4</td>\n",
              "      <td>12.1</td>\n",
              "      <td>91707</td>\n",
              "      <td>5879834</td>\n",
              "      <td>170</td>\n",
              "      <td>0.001854</td>\n",
              "      <td>34.587259</td>\n",
              "      <td>64115.432846</td>\n",
              "    </tr>\n",
              "    <tr>\n",
              "      <th>2</th>\n",
              "      <td>4</td>\n",
              "      <td>12.2</td>\n",
              "      <td>91999</td>\n",
              "      <td>5899985</td>\n",
              "      <td>170</td>\n",
              "      <td>0.001848</td>\n",
              "      <td>34.705794</td>\n",
              "      <td>64130.968815</td>\n",
              "    </tr>\n",
              "    <tr>\n",
              "      <th>3</th>\n",
              "      <td>4</td>\n",
              "      <td>12.3</td>\n",
              "      <td>92303</td>\n",
              "      <td>5921410</td>\n",
              "      <td>170</td>\n",
              "      <td>0.001842</td>\n",
              "      <td>34.831824</td>\n",
              "      <td>64151.869387</td>\n",
              "    </tr>\n",
              "    <tr>\n",
              "      <th>4</th>\n",
              "      <td>4</td>\n",
              "      <td>12.4</td>\n",
              "      <td>92615</td>\n",
              "      <td>5940989</td>\n",
              "      <td>170</td>\n",
              "      <td>0.001836</td>\n",
              "      <td>34.946994</td>\n",
              "      <td>64147.157588</td>\n",
              "    </tr>\n",
              "    <tr>\n",
              "      <th>5</th>\n",
              "      <td>4</td>\n",
              "      <td>12.5</td>\n",
              "      <td>92909</td>\n",
              "      <td>5960680</td>\n",
              "      <td>170</td>\n",
              "      <td>0.001830</td>\n",
              "      <td>35.062824</td>\n",
              "      <td>64156.109742</td>\n",
              "    </tr>\n",
              "    <tr>\n",
              "      <th>20</th>\n",
              "      <td>4</td>\n",
              "      <td>14.0</td>\n",
              "      <td>97012</td>\n",
              "      <td>6249994</td>\n",
              "      <td>170</td>\n",
              "      <td>0.001752</td>\n",
              "      <td>36.764671</td>\n",
              "      <td>64424.957737</td>\n",
              "    </tr>\n",
              "    <tr>\n",
              "      <th>21</th>\n",
              "      <td>4</td>\n",
              "      <td>14.1</td>\n",
              "      <td>97013</td>\n",
              "      <td>6249938</td>\n",
              "      <td>170</td>\n",
              "      <td>0.001752</td>\n",
              "      <td>36.764341</td>\n",
              "      <td>64423.716409</td>\n",
              "    </tr>\n",
              "    <tr>\n",
              "      <th>22</th>\n",
              "      <td>4</td>\n",
              "      <td>14.2</td>\n",
              "      <td>97038</td>\n",
              "      <td>6249957</td>\n",
              "      <td>169</td>\n",
              "      <td>0.001742</td>\n",
              "      <td>36.981994</td>\n",
              "      <td>64407.314660</td>\n",
              "    </tr>\n",
              "    <tr>\n",
              "      <th>25</th>\n",
              "      <td>4</td>\n",
              "      <td>14.5</td>\n",
              "      <td>96987</td>\n",
              "      <td>6249967</td>\n",
              "      <td>168</td>\n",
              "      <td>0.001732</td>\n",
              "      <td>37.202185</td>\n",
              "      <td>64441.285946</td>\n",
              "    </tr>\n",
              "    <tr>\n",
              "      <th>23</th>\n",
              "      <td>4</td>\n",
              "      <td>14.3</td>\n",
              "      <td>96993</td>\n",
              "      <td>6249924</td>\n",
              "      <td>168</td>\n",
              "      <td>0.001732</td>\n",
              "      <td>37.201929</td>\n",
              "      <td>64436.856268</td>\n",
              "    </tr>\n",
              "    <tr>\n",
              "      <th>24</th>\n",
              "      <td>4</td>\n",
              "      <td>14.4</td>\n",
              "      <td>97023</td>\n",
              "      <td>6249970</td>\n",
              "      <td>168</td>\n",
              "      <td>0.001732</td>\n",
              "      <td>37.202202</td>\n",
              "      <td>64417.406182</td>\n",
              "    </tr>\n",
              "    <tr>\n",
              "      <th>26</th>\n",
              "      <td>4</td>\n",
              "      <td>14.6</td>\n",
              "      <td>96953</td>\n",
              "      <td>6249998</td>\n",
              "      <td>166</td>\n",
              "      <td>0.001712</td>\n",
              "      <td>37.650590</td>\n",
              "      <td>64464.204305</td>\n",
              "    </tr>\n",
              "    <tr>\n",
              "      <th>28</th>\n",
              "      <td>4</td>\n",
              "      <td>14.8</td>\n",
              "      <td>96880</td>\n",
              "      <td>6249949</td>\n",
              "      <td>165</td>\n",
              "      <td>0.001703</td>\n",
              "      <td>37.878479</td>\n",
              "      <td>64512.272915</td>\n",
              "    </tr>\n",
              "    <tr>\n",
              "      <th>27</th>\n",
              "      <td>4</td>\n",
              "      <td>14.7</td>\n",
              "      <td>96902</td>\n",
              "      <td>6249853</td>\n",
              "      <td>165</td>\n",
              "      <td>0.001703</td>\n",
              "      <td>37.877897</td>\n",
              "      <td>64496.635776</td>\n",
              "    </tr>\n",
              "    <tr>\n",
              "      <th>29</th>\n",
              "      <td>4</td>\n",
              "      <td>14.9</td>\n",
              "      <td>96903</td>\n",
              "      <td>6249705</td>\n",
              "      <td>164</td>\n",
              "      <td>0.001692</td>\n",
              "      <td>38.107957</td>\n",
              "      <td>64494.442897</td>\n",
              "    </tr>\n",
              "  </tbody>\n",
              "</table>\n",
              "</div>"
            ],
            "text/plain": [
              "   exponent  bid_base   Imps    spend clicks       CTR       eCPC  \\\n",
              "11        4      13.1  94693  6086279    172  0.001816  35.385343   \n",
              "12        4      13.2  94958  6104573    172  0.001811  35.491703   \n",
              "13        4      13.3  95230  6125322    172  0.001806  35.612337   \n",
              "14        4      13.4  95530  6146284    172  0.001800  35.734209   \n",
              "15        4      13.5  95810  6166022    172  0.001795  35.848965   \n",
              "16        4      13.6  96085  6186710    172  0.001790  35.969244   \n",
              "17        4      13.7  96360  6206838    172  0.001785  36.086267   \n",
              "18        4      13.8  96719  6230110    172  0.001778  36.221570   \n",
              "19        4      13.9  97006  6249864    172  0.001773  36.336419   \n",
              "6         4      12.6  93218  5983747    171  0.001834  34.992673   \n",
              "7         4      12.7  93500  6003041    171  0.001829  35.105503   \n",
              "8         4      12.8  93811  6024371    171  0.001823  35.230240   \n",
              "9         4      12.9  94105  6043445    171  0.001817  35.341784   \n",
              "10        4      13.0  94370  6063190    171  0.001812  35.457251   \n",
              "0         4      12.0  91410  5859150    170  0.001860  34.465588   \n",
              "1         4      12.1  91707  5879834    170  0.001854  34.587259   \n",
              "2         4      12.2  91999  5899985    170  0.001848  34.705794   \n",
              "3         4      12.3  92303  5921410    170  0.001842  34.831824   \n",
              "4         4      12.4  92615  5940989    170  0.001836  34.946994   \n",
              "5         4      12.5  92909  5960680    170  0.001830  35.062824   \n",
              "20        4      14.0  97012  6249994    170  0.001752  36.764671   \n",
              "21        4      14.1  97013  6249938    170  0.001752  36.764341   \n",
              "22        4      14.2  97038  6249957    169  0.001742  36.981994   \n",
              "25        4      14.5  96987  6249967    168  0.001732  37.202185   \n",
              "23        4      14.3  96993  6249924    168  0.001732  37.201929   \n",
              "24        4      14.4  97023  6249970    168  0.001732  37.202202   \n",
              "26        4      14.6  96953  6249998    166  0.001712  37.650590   \n",
              "28        4      14.8  96880  6249949    165  0.001703  37.878479   \n",
              "27        4      14.7  96902  6249853    165  0.001703  37.877897   \n",
              "29        4      14.9  96903  6249705    164  0.001692  38.107957   \n",
              "\n",
              "             CPM  \n",
              "11  64273.800598  \n",
              "12  64287.084816  \n",
              "13  64321.348315  \n",
              "14  64338.783628  \n",
              "15  64356.768605  \n",
              "16  64387.885726  \n",
              "17  64413.013699  \n",
              "18  64414.541093  \n",
              "19  64427.602416  \n",
              "6   64190.896608  \n",
              "7   64203.647059  \n",
              "8   64218.172709  \n",
              "9   64220.232719  \n",
              "10  64249.125781  \n",
              "0   64097.472924  \n",
              "1   64115.432846  \n",
              "2   64130.968815  \n",
              "3   64151.869387  \n",
              "4   64147.157588  \n",
              "5   64156.109742  \n",
              "20  64424.957737  \n",
              "21  64423.716409  \n",
              "22  64407.314660  \n",
              "25  64441.285946  \n",
              "23  64436.856268  \n",
              "24  64417.406182  \n",
              "26  64464.204305  \n",
              "28  64512.272915  \n",
              "27  64496.635776  \n",
              "29  64494.442897  "
            ]
          },
          "metadata": {
            "tags": []
          },
          "execution_count": 89
        }
      ]
    },
    {
      "metadata": {
        "id": "q6IQA9IjXUEp",
        "colab_type": "text"
      },
      "cell_type": "markdown",
      "source": [
        "##ORTB1"
      ]
    },
    {
      "metadata": {
        "id": "Uy8FlU54XXHh",
        "colab_type": "code",
        "outputId": "53d12fe3-428d-4b85-ae08-db81ddab156d",
        "colab": {
          "base_uri": "https://localhost:8080/",
          "height": 68
        }
      },
      "cell_type": "code",
      "source": [
        "with open('/content/drive/My Drive/pickle_model_xgb.pkl', 'rb') as file:  \n",
        "    XGBoots = pickle.load(file)\n",
        "preds = XGBoots.predict_proba(x_val.as_matrix())\n",
        "preds_label = XGBoots.predict(x_val.as_matrix())\n",
        "accuracy = accuracy_score(y_val.fillna(0).as_matrix(), preds_label)\n",
        "print(\"Accuracy: %.2f%%\" % (accuracy * 100.0))\n",
        "confusion_matrix(y_val.fillna(0).as_matrix(), preds_label)"
      ],
      "execution_count": 0,
      "outputs": [
        {
          "output_type": "stream",
          "text": [
            "Accuracy: 99.20%\n"
          ],
          "name": "stdout"
        },
        {
          "output_type": "execute_result",
          "data": {
            "text/plain": [
              "array([[301393,   2330],\n",
              "       [   108,     94]])"
            ]
          },
          "metadata": {
            "tags": []
          },
          "execution_count": 10
        }
      ]
    },
    {
      "metadata": {
        "id": "v5EwHURjXWs5",
        "colab_type": "code",
        "outputId": "d77ac03d-b2c0-4afd-eea9-3e629ed84bd7",
        "colab": {
          "base_uri": "https://localhost:8080/",
          "height": 34
        }
      },
      "cell_type": "code",
      "source": [
        "preds_1 = [pred[1] for pred in preds]\n",
        "avgCTR = sum(y_val)*100/len(y_val)\n",
        "print(avgCTR)"
      ],
      "execution_count": 0,
      "outputs": [
        {
          "output_type": "stream",
          "text": [
            "0.06646376573167723\n"
          ],
          "name": "stdout"
        }
      ]
    },
    {
      "metadata": {
        "id": "lfDO15y4Xj9J",
        "colab_type": "code",
        "outputId": "0a5f1467-9991-46b3-a7e1-c02337ef3301",
        "colab": {
          "base_uri": "https://localhost:8080/",
          "height": 153
        }
      },
      "cell_type": "code",
      "source": [
        "\n",
        "eval_ortb_df = pd.DataFrame(columns=['c','m','clicks','spend','Imps','CTR','eCPC','CPM'])\n",
        "\n",
        "spend = 0\n",
        "budget = 6250000\n",
        "exp_iter = 0\n",
        "#m_list = [1e-7,1e-6,1e-5,1e-4,1e-3]\n",
        "m_list = [1e-6]\n",
        "for c in np.arange(0.0671,0.0679,0.0001):\n",
        "  iteration = 0\n",
        "  for m in m_list:\n",
        "      num_click = 0\n",
        "      flag = True\n",
        "      Imps = 0\n",
        "      spend = 0\n",
        "      iteration += 1\n",
        "      count = 0\n",
        "      for i in range(val.shape[0]):\n",
        "          bid = np.sqrt(c / m * preds_1[i] + c ** 2) - c\n",
        "          #print(bid, preds_1[i], i)\n",
        "          if bid >= val['payprice'].iloc[i] and flag:\n",
        "              spend = spend + val['payprice'].iloc[i]\n",
        "              if spend > budget:\n",
        "                  spend = spend - val['payprice'].iloc[i]\n",
        "                  flag = False\n",
        "                  break\n",
        "              num_click = num_click + val['click'].iloc[i]\n",
        "              Imps = Imps + 1\n",
        "          count += 1\n",
        "      print(c,m, count)\n",
        "      CTR = num_click/Imps\n",
        "      eCPC = spend/1000/num_click\n",
        "      CPM = spend*1000/Imps\n",
        "      tmp = pd.DataFrame( [[c, m, num_click, spend/1000, Imps, CTR, eCPC, CPM]], columns=['c','m','clicks','spend','Imps','CTR','eCPC','CPM'])\n",
        "      eval_ortb_df = pd.concat([eval_ortb_df, tmp], ignore_index = True)\n"
      ],
      "execution_count": 0,
      "outputs": [
        {
          "output_type": "stream",
          "text": [
            "0.0671 1e-06 303617\n",
            "0.06720000000000001 1e-06 303347\n",
            "0.06730000000000001 1e-06 302990\n",
            "0.06740000000000002 1e-06 302656\n",
            "0.06750000000000002 1e-06 301900\n",
            "0.06760000000000002 1e-06 301584\n",
            "0.06770000000000002 1e-06 301146\n",
            "0.06780000000000003 1e-06 300931\n"
          ],
          "name": "stdout"
        }
      ]
    },
    {
      "metadata": {
        "id": "8jkIHrELqwmp",
        "colab_type": "code",
        "outputId": "90aba342-46ba-444c-f8d5-0d3f5367a658",
        "colab": {
          "base_uri": "https://localhost:8080/",
          "height": 297
        }
      },
      "cell_type": "code",
      "source": [
        "#sort dataframe via click and CTR in order to find optimal bid price\n",
        "eval_ortb_df.sort_values(by=['clicks', 'CTR'], ascending=False, inplace=True)#sort dataframe via click and CTR\n",
        "eval_ortb_df.head(10)"
      ],
      "execution_count": 0,
      "outputs": [
        {
          "output_type": "execute_result",
          "data": {
            "text/html": [
              "<div>\n",
              "<style scoped>\n",
              "    .dataframe tbody tr th:only-of-type {\n",
              "        vertical-align: middle;\n",
              "    }\n",
              "\n",
              "    .dataframe tbody tr th {\n",
              "        vertical-align: top;\n",
              "    }\n",
              "\n",
              "    .dataframe thead th {\n",
              "        text-align: right;\n",
              "    }\n",
              "</style>\n",
              "<table border=\"1\" class=\"dataframe\">\n",
              "  <thead>\n",
              "    <tr style=\"text-align: right;\">\n",
              "      <th></th>\n",
              "      <th>c</th>\n",
              "      <th>m</th>\n",
              "      <th>clicks</th>\n",
              "      <th>spend</th>\n",
              "      <th>Imps</th>\n",
              "      <th>CTR</th>\n",
              "      <th>eCPC</th>\n",
              "      <th>CPM</th>\n",
              "    </tr>\n",
              "  </thead>\n",
              "  <tbody>\n",
              "    <tr>\n",
              "      <th>1</th>\n",
              "      <td>0.0672</td>\n",
              "      <td>0.000001</td>\n",
              "      <td>149</td>\n",
              "      <td>6249.993</td>\n",
              "      <td>156455</td>\n",
              "      <td>0.000952</td>\n",
              "      <td>41.946262</td>\n",
              "      <td>39947.544022</td>\n",
              "    </tr>\n",
              "    <tr>\n",
              "      <th>0</th>\n",
              "      <td>0.0671</td>\n",
              "      <td>0.000001</td>\n",
              "      <td>149</td>\n",
              "      <td>6249.975</td>\n",
              "      <td>156502</td>\n",
              "      <td>0.000952</td>\n",
              "      <td>41.946141</td>\n",
              "      <td>39935.432135</td>\n",
              "    </tr>\n",
              "    <tr>\n",
              "      <th>5</th>\n",
              "      <td>0.0676</td>\n",
              "      <td>0.000001</td>\n",
              "      <td>148</td>\n",
              "      <td>6249.944</td>\n",
              "      <td>156079</td>\n",
              "      <td>0.000948</td>\n",
              "      <td>42.229351</td>\n",
              "      <td>40043.465168</td>\n",
              "    </tr>\n",
              "    <tr>\n",
              "      <th>4</th>\n",
              "      <td>0.0675</td>\n",
              "      <td>0.000001</td>\n",
              "      <td>148</td>\n",
              "      <td>6249.948</td>\n",
              "      <td>156149</td>\n",
              "      <td>0.000948</td>\n",
              "      <td>42.229378</td>\n",
              "      <td>40025.539709</td>\n",
              "    </tr>\n",
              "    <tr>\n",
              "      <th>3</th>\n",
              "      <td>0.0674</td>\n",
              "      <td>0.000001</td>\n",
              "      <td>148</td>\n",
              "      <td>6249.986</td>\n",
              "      <td>156290</td>\n",
              "      <td>0.000947</td>\n",
              "      <td>42.229635</td>\n",
              "      <td>39989.673044</td>\n",
              "    </tr>\n",
              "    <tr>\n",
              "      <th>2</th>\n",
              "      <td>0.0673</td>\n",
              "      <td>0.000001</td>\n",
              "      <td>148</td>\n",
              "      <td>6249.960</td>\n",
              "      <td>156365</td>\n",
              "      <td>0.000947</td>\n",
              "      <td>42.229459</td>\n",
              "      <td>39970.325840</td>\n",
              "    </tr>\n",
              "    <tr>\n",
              "      <th>7</th>\n",
              "      <td>0.0678</td>\n",
              "      <td>0.000001</td>\n",
              "      <td>147</td>\n",
              "      <td>6249.938</td>\n",
              "      <td>155938</td>\n",
              "      <td>0.000943</td>\n",
              "      <td>42.516585</td>\n",
              "      <td>40079.634214</td>\n",
              "    </tr>\n",
              "    <tr>\n",
              "      <th>6</th>\n",
              "      <td>0.0677</td>\n",
              "      <td>0.000001</td>\n",
              "      <td>147</td>\n",
              "      <td>6249.989</td>\n",
              "      <td>155984</td>\n",
              "      <td>0.000942</td>\n",
              "      <td>42.516932</td>\n",
              "      <td>40068.141604</td>\n",
              "    </tr>\n",
              "  </tbody>\n",
              "</table>\n",
              "</div>"
            ],
            "text/plain": [
              "        c         m clicks     spend    Imps       CTR       eCPC  \\\n",
              "1  0.0672  0.000001    149  6249.993  156455  0.000952  41.946262   \n",
              "0  0.0671  0.000001    149  6249.975  156502  0.000952  41.946141   \n",
              "5  0.0676  0.000001    148  6249.944  156079  0.000948  42.229351   \n",
              "4  0.0675  0.000001    148  6249.948  156149  0.000948  42.229378   \n",
              "3  0.0674  0.000001    148  6249.986  156290  0.000947  42.229635   \n",
              "2  0.0673  0.000001    148  6249.960  156365  0.000947  42.229459   \n",
              "7  0.0678  0.000001    147  6249.938  155938  0.000943  42.516585   \n",
              "6  0.0677  0.000001    147  6249.989  155984  0.000942  42.516932   \n",
              "\n",
              "            CPM  \n",
              "1  39947.544022  \n",
              "0  39935.432135  \n",
              "5  40043.465168  \n",
              "4  40025.539709  \n",
              "3  39989.673044  \n",
              "2  39970.325840  \n",
              "7  40079.634214  \n",
              "6  40068.141604  "
            ]
          },
          "metadata": {
            "tags": []
          },
          "execution_count": 115
        }
      ]
    },
    {
      "metadata": {
        "id": "pWBATmuK-dKR",
        "colab_type": "text"
      },
      "cell_type": "markdown",
      "source": [
        "##ORTB2"
      ]
    },
    {
      "metadata": {
        "id": "n9XZ03Im-gXM",
        "colab_type": "code",
        "outputId": "9c43e179-bbfa-4ff0-cc68-68e05817fcd4",
        "colab": {
          "base_uri": "https://localhost:8080/",
          "height": 68
        }
      },
      "cell_type": "code",
      "source": [
        "with open('/content/drive/My Drive/pickle_model_xgb.pkl', 'rb') as file:  \n",
        "    XGBoots = pickle.load(file)\n",
        "preds = XGBoots.predict_proba(x_val.as_matrix())\n",
        "preds_label = XGBoots.predict(x_val.as_matrix())\n",
        "accuracy = accuracy_score(y_val.fillna(0).as_matrix(), preds_label)\n",
        "print(\"Accuracy: %.2f%%\" % (accuracy * 100.0))\n",
        "confusion_matrix(y_val.fillna(0).as_matrix(), preds_label)"
      ],
      "execution_count": 0,
      "outputs": [
        {
          "output_type": "stream",
          "text": [
            "Accuracy: 99.14%\n"
          ],
          "name": "stdout"
        },
        {
          "output_type": "execute_result",
          "data": {
            "text/plain": [
              "array([[301222,   2501],\n",
              "       [   114,     88]])"
            ]
          },
          "metadata": {
            "tags": []
          },
          "execution_count": 164
        }
      ]
    },
    {
      "metadata": {
        "id": "0oMypRYX-gVJ",
        "colab_type": "code",
        "outputId": "485a9d30-ab59-4d3b-ddb2-12bed3c460e3",
        "colab": {
          "base_uri": "https://localhost:8080/",
          "height": 34
        }
      },
      "cell_type": "code",
      "source": [
        "preds_1 = [pred[1] for pred in preds]\n",
        "avgCTR = sum(y_val)*100/len(y_val)\n",
        "print(avgCTR)"
      ],
      "execution_count": 0,
      "outputs": [
        {
          "output_type": "stream",
          "text": [
            "0.06646376573167723\n"
          ],
          "name": "stdout"
        }
      ]
    },
    {
      "metadata": {
        "id": "KH378XRr-gQz",
        "colab_type": "code",
        "outputId": "4c30dd0e-2243-4b25-d680-74ce4803fa78",
        "colab": {
          "base_uri": "https://localhost:8080/",
          "height": 136
        }
      },
      "cell_type": "code",
      "source": [
        "\n",
        "eval_ortb2_df = pd.DataFrame(columns=['c','m','clicks','spend','Imps','CTR','eCPC','CPM'])\n",
        "\n",
        "spend = 0\n",
        "budget = 6250000\n",
        "exp_iter = 0\n",
        "#m_list = [1e-7,1e-6,1e-5,1e-4,1e-3]\n",
        "m_list = [1e-4]\n",
        "for c in np.arange(18,25,1):\n",
        "  iteration = 0\n",
        "  for m in m_list:\n",
        "      num_click = 0\n",
        "      flag = True\n",
        "      Imps = 0\n",
        "      spend = 0\n",
        "      iteration += 1\n",
        "      count = 0\n",
        "      for i in range(val.shape[0]):\n",
        "          bid = c*(((preds_1[i]+np.sqrt((c**2)*(m**2)+(preds_1[i]**2)))/(c*m))**(1/3) - ((c*m)/preds_1[i]+np.sqrt((c**2)*(m**2)+(preds_1[i])**2))**(1/3))\n",
        "          #print(bid, preds_1[i], i)\n",
        "          if bid >= val['payprice'].iloc[i] and flag:\n",
        "              spend = spend + val['payprice'].iloc[i]\n",
        "              if spend > budget:\n",
        "                  spend = spend - val['payprice'].iloc[i]\n",
        "                  flag = False\n",
        "                  break\n",
        "              num_click = num_click + val['click'].iloc[i]\n",
        "              Imps = Imps + 1\n",
        "          count += 1\n",
        "      print(c,m, count)\n",
        "      CTR = num_click/Imps\n",
        "      eCPC = spend/1000/num_click\n",
        "      CPM = spend*1000/Imps\n",
        "      tmp = pd.DataFrame( [[c, m, num_click, spend/1000, Imps, CTR, eCPC, CPM]], columns=['c','m','clicks','spend','Imps','CTR','eCPC','CPM'])\n",
        "      eval_ortb2_df = pd.concat([eval_ortb2_df, tmp], ignore_index = True)\n"
      ],
      "execution_count": 0,
      "outputs": [
        {
          "output_type": "stream",
          "text": [
            "18 0.0001 303925\n",
            "19 0.0001 296085\n",
            "20 0.0001 280148\n",
            "21 0.0001 267428\n",
            "22 0.0001 256212\n",
            "23 0.0001 244585\n",
            "24 0.0001 235178\n"
          ],
          "name": "stdout"
        }
      ]
    },
    {
      "metadata": {
        "id": "Kvj5Tsyj-f9Z",
        "colab_type": "code",
        "outputId": "d8edf96b-449a-404f-8e8f-319f8117b5c2",
        "colab": {
          "base_uri": "https://localhost:8080/",
          "height": 266
        }
      },
      "cell_type": "code",
      "source": [
        "#sort dataframe via click and CTR in order to find optimal bid price\n",
        "eval_ortb2_df.sort_values(by=['clicks', 'CTR'], ascending=False, inplace=True)#sort dataframe via click and CTR\n",
        "eval_ortb2_df.head(10)"
      ],
      "execution_count": 0,
      "outputs": [
        {
          "output_type": "execute_result",
          "data": {
            "text/html": [
              "<div>\n",
              "<style scoped>\n",
              "    .dataframe tbody tr th:only-of-type {\n",
              "        vertical-align: middle;\n",
              "    }\n",
              "\n",
              "    .dataframe tbody tr th {\n",
              "        vertical-align: top;\n",
              "    }\n",
              "\n",
              "    .dataframe thead th {\n",
              "        text-align: right;\n",
              "    }\n",
              "</style>\n",
              "<table border=\"1\" class=\"dataframe\">\n",
              "  <thead>\n",
              "    <tr style=\"text-align: right;\">\n",
              "      <th></th>\n",
              "      <th>c</th>\n",
              "      <th>m</th>\n",
              "      <th>clicks</th>\n",
              "      <th>spend</th>\n",
              "      <th>Imps</th>\n",
              "      <th>CTR</th>\n",
              "      <th>eCPC</th>\n",
              "      <th>CPM</th>\n",
              "    </tr>\n",
              "  </thead>\n",
              "  <tbody>\n",
              "    <tr>\n",
              "      <th>0</th>\n",
              "      <td>18</td>\n",
              "      <td>0.0001</td>\n",
              "      <td>134</td>\n",
              "      <td>6053.927</td>\n",
              "      <td>157343</td>\n",
              "      <td>0.000852</td>\n",
              "      <td>45.178560</td>\n",
              "      <td>38475.985586</td>\n",
              "    </tr>\n",
              "    <tr>\n",
              "      <th>1</th>\n",
              "      <td>19</td>\n",
              "      <td>0.0001</td>\n",
              "      <td>130</td>\n",
              "      <td>6249.993</td>\n",
              "      <td>158407</td>\n",
              "      <td>0.000821</td>\n",
              "      <td>48.076869</td>\n",
              "      <td>39455.282910</td>\n",
              "    </tr>\n",
              "    <tr>\n",
              "      <th>2</th>\n",
              "      <td>20</td>\n",
              "      <td>0.0001</td>\n",
              "      <td>117</td>\n",
              "      <td>6249.957</td>\n",
              "      <td>154620</td>\n",
              "      <td>0.000757</td>\n",
              "      <td>53.418436</td>\n",
              "      <td>40421.400854</td>\n",
              "    </tr>\n",
              "    <tr>\n",
              "      <th>3</th>\n",
              "      <td>21</td>\n",
              "      <td>0.0001</td>\n",
              "      <td>115</td>\n",
              "      <td>6249.987</td>\n",
              "      <td>151566</td>\n",
              "      <td>0.000759</td>\n",
              "      <td>54.347713</td>\n",
              "      <td>41236.075373</td>\n",
              "    </tr>\n",
              "    <tr>\n",
              "      <th>5</th>\n",
              "      <td>23</td>\n",
              "      <td>0.0001</td>\n",
              "      <td>114</td>\n",
              "      <td>6249.939</td>\n",
              "      <td>145703</td>\n",
              "      <td>0.000782</td>\n",
              "      <td>54.824026</td>\n",
              "      <td>42895.060500</td>\n",
              "    </tr>\n",
              "    <tr>\n",
              "      <th>4</th>\n",
              "      <td>22</td>\n",
              "      <td>0.0001</td>\n",
              "      <td>114</td>\n",
              "      <td>6249.975</td>\n",
              "      <td>148727</td>\n",
              "      <td>0.000767</td>\n",
              "      <td>54.824342</td>\n",
              "      <td>42023.136350</td>\n",
              "    </tr>\n",
              "    <tr>\n",
              "      <th>6</th>\n",
              "      <td>24</td>\n",
              "      <td>0.0001</td>\n",
              "      <td>113</td>\n",
              "      <td>6249.998</td>\n",
              "      <td>143226</td>\n",
              "      <td>0.000789</td>\n",
              "      <td>55.309717</td>\n",
              "      <td>43637.314454</td>\n",
              "    </tr>\n",
              "  </tbody>\n",
              "</table>\n",
              "</div>"
            ],
            "text/plain": [
              "    c       m clicks     spend    Imps       CTR       eCPC           CPM\n",
              "0  18  0.0001    134  6053.927  157343  0.000852  45.178560  38475.985586\n",
              "1  19  0.0001    130  6249.993  158407  0.000821  48.076869  39455.282910\n",
              "2  20  0.0001    117  6249.957  154620  0.000757  53.418436  40421.400854\n",
              "3  21  0.0001    115  6249.987  151566  0.000759  54.347713  41236.075373\n",
              "5  23  0.0001    114  6249.939  145703  0.000782  54.824026  42895.060500\n",
              "4  22  0.0001    114  6249.975  148727  0.000767  54.824342  42023.136350\n",
              "6  24  0.0001    113  6249.998  143226  0.000789  55.309717  43637.314454"
            ]
          },
          "metadata": {
            "tags": []
          },
          "execution_count": 175
        }
      ]
    },
    {
      "metadata": {
        "id": "fl3jHgJKWcC2",
        "colab_type": "text"
      },
      "cell_type": "markdown",
      "source": [
        "#Test  Set"
      ]
    },
    {
      "metadata": {
        "id": "L_F5Oh2l7hvG",
        "colab_type": "text"
      },
      "cell_type": "markdown",
      "source": [
        "##Creteria 1"
      ]
    },
    {
      "metadata": {
        "id": "7DVFHqSFWrDw",
        "colab_type": "code",
        "outputId": "cc3c3bfb-1b6a-4c46-c357-2e7b25e8e0e5",
        "colab": {
          "base_uri": "https://localhost:8080/",
          "height": 136
        }
      },
      "cell_type": "code",
      "source": [
        "bid_id = test['bidid']\n",
        "preds = XGBoots.predict_proba(x_test.as_matrix())\n",
        "#preds = Logist.predict_proba(x_test.as_matrix())\n",
        "print(preds)\n",
        "w = 27860/2430981\n",
        "valid_score = preds[:,1]/(preds[:,1]+(1-preds[:,1])/w)\n",
        "avgCTR = sum(val['click'])*100/len(val)\n",
        "preds_1 = [pred[1] for pred in preds]\n",
        "ORTB_bid_price = []\n",
        "for pred in preds_1: \n",
        "  ORTB_bid_price.append(14*(pred/avgCTR)**4)\n",
        " "
      ],
      "execution_count": 0,
      "outputs": [
        {
          "output_type": "stream",
          "text": [
            "[[0.82908845 0.17091155]\n",
            " [0.6390007  0.3609993 ]\n",
            " [0.9685633  0.03143671]\n",
            " ...\n",
            " [0.9640061  0.03599386]\n",
            " [0.78628105 0.21371897]\n",
            " [0.9643451  0.03565488]]\n"
          ],
          "name": "stdout"
        }
      ]
    },
    {
      "metadata": {
        "id": "jFX7pAcaYODJ",
        "colab_type": "code",
        "outputId": "ab6324b6-d3af-4a39-f319-250e65fdd45b",
        "colab": {
          "base_uri": "https://localhost:8080/",
          "height": 54
        }
      },
      "cell_type": "code",
      "source": [
        "print(ORTB_bid_price[0:500])\n",
        "result_df = pd.DataFrame(columns = ['bidid','bidprice'])\n",
        "result_df['bidprice'] = ORTB_bid_price\n",
        "result_df['bidid'] = bid_id"
      ],
      "execution_count": 0,
      "outputs": [
        {
          "output_type": "stream",
          "text": [
            "[612.172640418439, 12184.666082803595, 0.7007070616167914, 26.38687032050764, 12.673322536978999, 447.8048295209878, 5.465371745025843, 153.65808416290167, 86.7560479896922, 86.96709805588829, 14.663039350048145, 24258.418752029465, 80.83302829248883, 27.173086565940604, 198.11350357992643, 6.471929522200709, 11.563750860352268, 1.973051428398556, 18.230858799817156, 98.61886957754457, 0.8931867155179558, 397.61704872273964, 15.889007523407388, 33.79536274978834, 0.25288682041851124, 7745.8238049385745, 13.330755534465926, 110.65790680891483, 40.827140695638334, 0.5366397156437577, 2.8244559478985924, 8.854575979566361, 0.15542042740893985, 43.121727729802934, 2254.445100158867, 20.71235604347518, 133.3074168257127, 22.273270249545615, 26.856636157550906, 6.547425561491358, 24.327186487270716, 2.291240573000504, 12.801416307823784, 186.60448331280767, 8.191406606422365, 39.30279491117504, 0.7294836328281594, 37.841318373440586, 5.888654549089454, 5.563340653291087, 145.8656078621996, 0.3039361110715593, 12.767691106217839, 9.22811885566414, 12.693183131098662, 23.286965056120568, 0.41587759458256585, 23.92418630634884, 303.7005950509572, 11.082402245638072, 0.34960331637575315, 1.7258405622280892, 3.638109170410519, 244.96315996358655, 14.66034233535521, 9.991476451952229, 13.243031418286343, 506.89672743811815, 0.3049430257111631, 1.2005963369047605, 448.52733982414827, 13.571142749640185, 37.50250877006842, 14.817011955210386, 67.20153766037105, 454.6211950055152, 55.45840879232223, 1.3260093400881525, 21.48818026274029, 0.24248688974035307, 36.255039186987716, 35.89927473227542, 1.963248026384752, 1.461637175840957, 0.7193610140331006, 0.29873853960579294, 12.456316051077858, 5.132012563807441, 236.59746096752366, 0.7635141619537333, 163.1721831895098, 2.2881948500322435, 0.2543892972172371, 51.98630784991634, 11.715149605175217, 155.77988359233527, 0.9754572360957856, 501.59403712724946, 3747.291617029252, 34.8415578782981, 13.490492675279766, 12.257720906703128, 120.66432957215267, 7.9733591813068045, 10171.292360812991, 1550.237663679382, 17.065068940486498, 99.73433971127632, 35.628697364802896, 31.162222606431936, 118.21088079843788, 125.50493331439073, 1.8223462271133068, 78.74235165361246, 3.4854844605158743, 10.302032637724846, 116.51886422802329, 137.21427553929482, 7.713963537721037, 0.39796549576397394, 0.4379029872026695, 2113.0085258670892, 1.5676576390969366, 51.079745516418825, 26.342517317031763, 1.6096083584240095, 41.14952877256217, 16.45284886191824, 25.007586839832932, 8.100026316783557, 40.92460477963588, 18.85803020639885, 2.338899493053714, 9.79533702099663, 201.11707544948803, 772.487816872076, 725.0808791069107, 0.1372115691178193, 10.70312402290825, 16.152624401105797, 229.84338248533794, 2445.358411556721, 5.668105472101677, 25033.184959594495, 11.742112812895362, 3.3379550535181055, 12.469398854871105, 21.14511524238746, 1678.3632662434434, 595.714425696577, 47.879262682574534, 19.28782980886571, 1.2010007827135505, 0.24054532666997627, 7.0364582497667865, 1.9773506765384739, 138.32813753827122, 12.082220980286852, 48.8570767685073, 355.38646862590446, 15.94074427860971, 17.980976023002935, 30.398113808434516, 3.180732956146438, 96.26900830630524, 0.308732496641406, 8.791245068183473, 14.606182031314702, 0.14497372942355882, 5.172133186778534, 93.24415524894836, 28.208771209304462, 101.14027951322292, 286.29975845195065, 2.3254868077839617, 87.60958795256417, 93.05999916016336, 1.0587533474665076, 7.076058182660006, 94.01215941524131, 2589.785419271066, 20.078956217435554, 411.21096992190553, 0.8508200859541503, 6.85860849417708, 165.5707226876038, 8.545529833120241, 0.3065110522241218, 0.2735141958912252, 0.46175360088654605, 20.981210391501552, 0.5277574825237727, 828.9392617466679, 0.45499166328593005, 61.36460393074611, 0.2961984129902907, 37.22926248717325, 70.17594526170728, 0.8568026434291189, 8215.166414077605, 60.032306454992295, 104.51136805636035, 6764.158492810442, 0.45181270318848366, 4659.145377332687, 0.8526660797345128, 8.0198758068168, 76.79727447923032, 4.884985236823848, 90.37801899316845, 78094.55786360602, 6.419577404810248, 1.1441216184649223, 19.64772256848577, 40.839834380851535, 5.405460251683515, 30.089182054099343, 13.01601657418783, 18.71946900922459, 84.12731079021859, 182.09848519422167, 3.713290273586763, 10.250761577426319, 38.606680148318695, 25.03885339748357, 39.55645322455868, 15.79946213597696, 0.9284954269840049, 1.1348479319664393, 17.624535436033945, 1.1915680427182642, 296.05541587837257, 22.115551357497274, 457.5599156229223, 0.9454667139792579, 25.559972990735428, 1.7769844553316654, 1.0082659865049945, 0.9133793898036923, 27.628445084025763, 14.678975573474888, 5.989816652671593, 45.838762830761276, 1.883159009890338, 33.94409783775778, 0.9343567378424635, 789.0564122248006, 113.0059259367417, 299.27789813087225, 39.663942859459254, 46.69105919880366, 0.6693015510834396, 3.5542065895039174, 59.0209909763998, 159.6977249243749, 0.32110045813494975, 9.94996282568085, 6741.379141534512, 20.987664881737413, 21.758292019495798, 20.45528584006575, 4968.601082187258, 78.28640339129564, 0.3631945352061258, 2.848232496683697, 20.360204580487377, 842.3090161629736, 0.21183630418408744, 45.45953550373853, 64.27159321147917, 3344.550506473552, 163.1089135466512, 116.77540358064789, 56.4597796049106, 59.37872174720811, 1.4710376357848889, 11.071658769286914, 603.3921390924921, 9.15132809209595, 18.945558232532477, 21.42359710168424, 4.117495886346613, 0.8447149079609726, 0.543808432127449, 30340.773881329726, 3.474379652083564, 247.23937511879026, 52.49436749045112, 95766.99832018006, 2.248141920983856, 20.734200613893577, 43.197908329246424, 3.6581587323305986, 13466.887856994115, 0.2987521210115451, 0.6154216960389056, 0.25440118115441573, 32.05307627078513, 141.20688307181786, 8.617037726643268, 28638.200059573603, 155.01965729689024, 1.9413574932338504, 37.47731720789273, 1.0024031782033647, 1.0841261511853375, 3.156630617136371, 23.14408024629885, 2.617828827468487, 0.5190420565185796, 18.10495080293256, 0.4746357313818297, 42.02657375138078, 15.815263396696157, 5.124082406220428, 258.41370242239543, 7946.796939490776, 592.7722239079939, 5643.869149402248, 674.8345171328061, 0.2618427001509534, 740.9474229094202, 0.37733021083590346, 5131.101253787142, 19.02158511091572, 8.974633704917846, 16.45284886191824, 4.911162185715205, 16.819255826388936, 0.6680175513068254, 7.532566371415286, 5.79304515865644, 292.8194858949051, 540.5676781351392, 641.646298755533, 0.8039992402773941, 1.8628241523510927, 13.522525954410003, 29.43219760209326, 0.4282202458501415, 50.3804981449138, 653.8710553359078, 43.431267133374945, 35.782133378205025, 1.4268157597023592, 47.03670802315146, 6.919598819017311, 1.751462305602664, 11.048019081616609, 334.1812105144523, 0.3876259653748198, 194.12658052032228, 12254.80389072315, 16.95533297281913, 37.5569958871882, 3.6610078974038998, 10.73557267035095, 10.63628386127566, 40.839834380851535, 9.684870978943836, 52.95831292753891, 14.416576279025053, 155325.31196412136, 58.09816279698093, 7391.332710197531, 0.22799914064412896, 17.095544583373037, 43.51208926883036, 14.599080842427687, 1.790485565077114, 175.24921971982363, 185.75035713074587, 19.71515407241395, 8.562529679546342, 30.997177649788476, 46.09552985887295, 537.6928592874017, 413.2604635701434, 0.9852253792763029, 4.851752450244634, 147.01351896538858, 62.067801354937714, 4.210999415831794, 5.395366497656109, 1.9478927459046194, 23.841061433504468, 0.44134755440610796, 18.89955475084055, 7143.184350432858, 2.030189987363527, 45132.84671130302, 12.083249641131806, 22.879033430089436, 32.33630052025418, 77.04587692195986, 355.1071178557357, 4.90922956497562, 0.23017545552876442, 0.2051790514274261, 8.723982946234301, 13.02691476793075, 9.340321232602209, 17.166015826877185, 89.7119279177441, 8.61236011087561, 18.793656033414074, 2.3615006605767297, 2983.1487475225167, 1.6754197157517816, 13.17953725610792, 5.771116015779724, 18.812938416425617, 1.66479120894818, 0.9738309163120028, 170.93609053532, 0.523868546828189, 42.853244851440834, 96.37952265491121, 68.51553292153142, 195.30877468103557, 0.26889502972714147, 1.5349869409408252, 9.070628443635961, 0.9603077039084702, 0.28899843474052395, 29.213836091278633, 2.2575728594619258, 14.210467225450643, 0.1577817009823661, 27.648309928547853, 55.939253837367616, 20303.7557336404, 1.0814594179297763, 23.164917762627592, 148.48640970678528, 0.9151817785762719, 800.2798764602197, 12.629486976202635, 3.6164051673971254, 8.796792799833348, 418.3517593422726, 0.553761969828169, 5.393613440518304, 8.607900159876262, 1847.732360461588, 14.263020864645233, 80.08308955651538, 51.186206444607144, 0.5230174603638849, 0.7893403937876476, 3.3968185667618362, 0.2567534998777219, 25.896270624361744, 6.094318457920416, 4.378089409016702, 48.56921806572511, 1.9398130385786492, 6.412682013650346, 0.3164425326686813, 8.69300624371048, 0.6680806818751541, 0.41721810796460507, 0.43908346964217937, 16.945123817206536, 54.68957503893862, 0.2626327887706802, 23.483381836846032, 1.9207031653201745, 8.107087437256645, 55.28321273688941, 1292.1021554930708, 92773.26750268572, 16.320472670514206, 2887.082057924276, 0.5891276633144314, 168.94237532432322, 5.517586447095528, 17.011097204314503, 747.8231926256353, 128.23083381627424, 0.42045986082799464, 8.36326190544613, 4.563994815891657, 10676.484834100764, 0.2954543071761647, 98.54736568386672, 9.57503974935916, 5.472997964358048, 17.20474355970528, 531.7582316027738, 150.23085360374048, 2.5610522955805113, 0.2933766262610897, 366.4270291968737, 726.2814607353495, 0.204686283447862, 131.22048497005585, 7.128023612598793, 19.055641553180543, 139.65386884957317]\n"
          ],
          "name": "stdout"
        }
      ]
    },
    {
      "metadata": {
        "id": "nUXPaEsbaxov",
        "colab_type": "code",
        "outputId": "6e8c7d8f-27be-4b85-f51d-f46fa95c2fec",
        "colab": {
          "base_uri": "https://localhost:8080/",
          "height": 204
        }
      },
      "cell_type": "code",
      "source": [
        "result_df.head()"
      ],
      "execution_count": 0,
      "outputs": [
        {
          "output_type": "execute_result",
          "data": {
            "text/html": [
              "<div>\n",
              "<style scoped>\n",
              "    .dataframe tbody tr th:only-of-type {\n",
              "        vertical-align: middle;\n",
              "    }\n",
              "\n",
              "    .dataframe tbody tr th {\n",
              "        vertical-align: top;\n",
              "    }\n",
              "\n",
              "    .dataframe thead th {\n",
              "        text-align: right;\n",
              "    }\n",
              "</style>\n",
              "<table border=\"1\" class=\"dataframe\">\n",
              "  <thead>\n",
              "    <tr style=\"text-align: right;\">\n",
              "      <th></th>\n",
              "      <th>bidid</th>\n",
              "      <th>bidprice</th>\n",
              "    </tr>\n",
              "  </thead>\n",
              "  <tbody>\n",
              "    <tr>\n",
              "      <th>0</th>\n",
              "      <td>366c563de7d90feb9d4dab53e795a93fb3157387</td>\n",
              "      <td>612.172640</td>\n",
              "    </tr>\n",
              "    <tr>\n",
              "      <th>1</th>\n",
              "      <td>29167d4caa719788b5a342dbaa25151d53121f80</td>\n",
              "      <td>12184.666083</td>\n",
              "    </tr>\n",
              "    <tr>\n",
              "      <th>2</th>\n",
              "      <td>ff8bc3f4d44a3ea60c5f3a3a8fbe7cd98fb2966e</td>\n",
              "      <td>0.700707</td>\n",
              "    </tr>\n",
              "    <tr>\n",
              "      <th>3</th>\n",
              "      <td>844c2da00d45315f20b748ec131c26ee99a7cbc7</td>\n",
              "      <td>26.386870</td>\n",
              "    </tr>\n",
              "    <tr>\n",
              "      <th>4</th>\n",
              "      <td>c6017f0ad0c44d7d0c9b62583ea863f28941c0ca</td>\n",
              "      <td>12.673323</td>\n",
              "    </tr>\n",
              "  </tbody>\n",
              "</table>\n",
              "</div>"
            ],
            "text/plain": [
              "                                      bidid      bidprice\n",
              "0  366c563de7d90feb9d4dab53e795a93fb3157387    612.172640\n",
              "1  29167d4caa719788b5a342dbaa25151d53121f80  12184.666083\n",
              "2  ff8bc3f4d44a3ea60c5f3a3a8fbe7cd98fb2966e      0.700707\n",
              "3  844c2da00d45315f20b748ec131c26ee99a7cbc7     26.386870\n",
              "4  c6017f0ad0c44d7d0c9b62583ea863f28941c0ca     12.673323"
            ]
          },
          "metadata": {
            "tags": []
          },
          "execution_count": 13
        }
      ]
    },
    {
      "metadata": {
        "id": "RK6SqUZrdEnz",
        "colab_type": "code",
        "colab": {}
      },
      "cell_type": "code",
      "source": [
        "result_df.to_csv(\"/content/drive/My Drive/result_polynominal_xgb_4_14.1.csv\")#store dataframe to csv"
      ],
      "execution_count": 0,
      "outputs": []
    },
    {
      "metadata": {
        "id": "boCsNhZw7lu2",
        "colab_type": "text"
      },
      "cell_type": "markdown",
      "source": [
        "##Creteria 2"
      ]
    },
    {
      "metadata": {
        "id": "RYCwt51ndbPw",
        "colab_type": "code",
        "outputId": "3c4a823c-fb03-4f81-b152-dc749237f190",
        "colab": {
          "base_uri": "https://localhost:8080/",
          "height": 136
        }
      },
      "cell_type": "code",
      "source": [
        "bid_id = test['bidid']\n",
        "preds = XGBoots.predict_proba(x_test.as_matrix())\n",
        "#preds = Logist.predict_proba(x_test.as_matrix())\n",
        "print(preds)\n",
        "w = 27860/2430981\n",
        "valid_score = preds[:,1]/(preds[:,1]+(1-preds[:,1])/w)\n",
        "avgCTR = sum(val['click'])*100/len(val)\n",
        "preds_1 = [pred[1] for pred in preds]"
      ],
      "execution_count": 0,
      "outputs": [
        {
          "output_type": "stream",
          "text": [
            "[[0.82908845 0.17091155]\n",
            " [0.6390007  0.3609993 ]\n",
            " [0.9685633  0.03143671]\n",
            " ...\n",
            " [0.9640061  0.03599386]\n",
            " [0.78628105 0.21371897]\n",
            " [0.9643451  0.03565488]]\n"
          ],
          "name": "stdout"
        }
      ]
    },
    {
      "metadata": {
        "id": "Sb2MXfoW8oqJ",
        "colab_type": "text"
      },
      "cell_type": "markdown",
      "source": [
        "###Increase bidding price in given prdeict probability range"
      ]
    },
    {
      "metadata": {
        "id": "8OARskEXzZKV",
        "colab_type": "text"
      },
      "cell_type": "markdown",
      "source": [
        "###Polynomial"
      ]
    },
    {
      "metadata": {
        "id": "QwgtUbmR8lDI",
        "colab_type": "code",
        "colab": {}
      },
      "cell_type": "code",
      "source": [
        "import sys\n",
        "lower_prob = 0.3 # @param {type:'number'}\n",
        "higher_prob = 0.85 # @param {type:'number'}\n",
        "ORTB_bid_price = []\n",
        "for pred in preds_1: \n",
        "  if pred >= lower_prob and pred <= higher_prob:\n",
        "    ORTB_bid_price.append((14*(pred/avgCTR)**4)*1.1)\n",
        "  elif pred<lower_prob:\n",
        "    ORTB_bid_price.append((14*(pred/avgCTR)**4)*(1/0.3*pred))\n",
        "  else:\n",
        "    ORTB_bid_price.append((14*(pred/avgCTR)**4)*(((1-1/0.15)/0.85)*pred+1/0.15))"
      ],
      "execution_count": 0,
      "outputs": []
    },
    {
      "metadata": {
        "id": "oOaszN-HzeH5",
        "colab_type": "text"
      },
      "cell_type": "markdown",
      "source": [
        "###Linear"
      ]
    },
    {
      "metadata": {
        "id": "BXHtnQqQzWol",
        "colab_type": "code",
        "colab": {}
      },
      "cell_type": "code",
      "source": [
        "import sys\n",
        "lower_prob = 0.3 # @param {type:'number'}\n",
        "higher_prob = 0.85 # @param {type:'number'}\n",
        "ORTB_bid_price = []\n",
        "for pred in preds_1: \n",
        "    if pred >0.09 and pred <=0.4:\n",
        "      ORTB_bid_price.append(47*(pred/avgCTR)*3)\n",
        "    elif pred>0.4 and pred <=0.85:\n",
        "      ORTB_bid_price.append(47*(pred/avgCTR))\n",
        "    elif pred>0.85:\n",
        "      ORTB_bid_price.append(300)\n",
        "    else:\n",
        "      ORTB_bid_price.append(0)\n",
        "    "
      ],
      "execution_count": 0,
      "outputs": []
    },
    {
      "metadata": {
        "id": "N6ZHC5BY-nt5",
        "colab_type": "code",
        "outputId": "77922258-785d-4e57-8655-2904404874f4",
        "colab": {
          "base_uri": "https://localhost:8080/",
          "height": 54
        }
      },
      "cell_type": "code",
      "source": [
        "print(ORTB_bid_price[0:500])\n",
        "result_df = pd.DataFrame(columns = ['bidid','bidprice'])\n",
        "result_df['bidprice'] = ORTB_bid_price\n",
        "result_df['bidid'] = bid_id"
      ],
      "execution_count": 0,
      "outputs": [
        {
          "output_type": "stream",
          "text": [
            "[362.58145108523934, 765.8443482744664, 0, 0, 0, 335.31987609264286, 0, 256.640951784512, 222.4651792126772, 222.6003528430523, 0, 303.23649711475366, 218.56686149121697, 0, 273.47373577769804, 0, 0, 0, 0, 229.70852268514875, 0, 325.5017689546884, 0, 0, 0, 683.8392232613693, 0, 236.41918532070844, 0, 0, 0, 0, 0, 0, 502.2813116747996, 0, 247.68555651740675, 0, 0, 0, 0, 0, 0, 269.4124257180212, 0, 0, 0, 0, 0, 0, 253.3234128135782, 0, 0, 0, 0, 0, 0, 0, 304.29759114589723, 0, 0, 0, 0, 288.3781142984471, 0, 0, 0, 345.8732506461478, 0, 0, 335.4550497230179, 0, 0, 0, 208.70454473631216, 336.58869367972534, 198.92023100595145, 0, 0, 0, 0, 0, 0, 0, 0, 0, 0, 0, 285.8838510187803, 0, 260.5245382356835, 0, 0, 195.73087937626434, 0, 257.5223622527342, 0, 344.9651278959642, 570.3172093209728, 0, 0, 0, 241.59159986130746, 0, 732.0338068856387, 457.39000993369535, 0, 230.35533925463065, 0, 0, 240.35406251446258, 243.97891917662454, 0, 217.13968274853016, 0, 0, 239.48932746486128, 249.48068508954884, 0, 0, 0, 494.2110096934888, 0, 194.87192935340732, 0, 0, 0, 0, 0, 0, 0, 0, 0, 0, 274.50441890322406, 384.29082295086494, 378.2541633492686, 0, 0, 0, 283.8213783418483, 512.593074428268, 0, 305.629222110799, 0, 0, 0, 0, 466.5611740534959, 360.1194954412703, 191.74496433727148, 0, 0, 0, 0, 0, 249.98545238211528, 0, 192.7165327086344, 316.49170044302423, 0, 0, 0, 0, 228.32776641117243, 0, 0, 0, 0, 0, 226.51267475493728, 0, 231.16290369840098, 299.8419192903998, 0, 223.01034685594976, 226.40075187412742, 0, 0, 226.9776581340737, 519.9996473302161, 0, 328.2488979662003, 0, 0, 261.4766967358934, 0, 0, 0, 0, 0, 0, 391.12698589339107, 0, 204.01710827111054, 0, 0, 210.9765428627592, 0, 693.9707966572282, 202.900613915544, 233.0654978356647, 661.0594949993756, 0, 602.231779321733, 0, 0, 215.78614455120322, 0, 224.75160829381701, 406.1823441285161, 0, 0, 0, 0, 0, 0, 0, 0, 220.76049305318787, 267.7710903432073, 0, 0, 0, 0, 0, 0, 0, 0, 0, 0, 302.36419095091594, 0, 337.13131654347376, 0, 0, 0, 0, 0, 0, 0, 0, 0, 0, 0, 0, 386.3350554068601, 237.6634560593376, 303.1836415698549, 0, 0, 0, 0, 202.04063649722696, 259.1264742997263, 0, 0, 660.5022357018424, 0, 0, 0, 611.9918465192364, 216.82466749439365, 0, 0, 0, 392.69463330459325, 0, 0, 206.39152982188295, 554.3340339549992, 260.4992801134502, 239.62103956284017, 199.8121525200342, 202.34608907054297, 0, 0, 361.2742563262028, 0, 0, 0, 0, 0, 0, 320.68047076408374, 0, 289.045700062306, 196.2073537784693, 427.434741030899, 0, 0, 0, 0, 785.2427125983309, 0, 0, 0, 0, 251.2760349468669, 0, 316.0838297140775, 257.2075998959417, 0, 0, 0, 0, 0, 0, 0, 0, 0, 0, 0, 0, 0, 292.2577176164504, 688.2324294728955, 359.67401676979097, 631.8024967381785, 371.5236166600359, 0, 380.30667819328016, 0, 616.9354838000075, 0, 0, 0, 0, 0, 0, 0, 0, 301.53456121388047, 351.47919445872157, 366.869009431304, 0, 0, 0, 0, 0, 194.2015617187642, 368.6040748842429, 0, 0, 0, 0, 0, 0, 0, 311.6611082750271, 0, 272.0873525378174, 766.944072374908, 0, 0, 0, 0, 0, 0, 0, 196.63944469679993, 0, 482.3656879833134, 201.24620690926133, 675.8771929554641, 0, 0, 0, 0, 0, 265.21685878084145, 269.1036064488131, 0, 0, 0, 0, 351.01095502628107, 328.6571375037737, 0, 0, 253.82034028848022, 204.59908828402104, 0, 0, 0, 0, 0, 0, 670.131554972491, 0, 354.1514553190163, 0, 0, 0, 215.96056468815237, 316.42948769639696, 0, 0, 0, 0, 0, 0, 0, 224.33635085494728, 0, 0, 0, 538.7109844069006, 0, 0, 0, 0, 0, 0, 263.5697383792831, 0, 0, 228.39326682327183, 209.71735118083322, 272.5006500222711, 0, 0, 0, 0, 0, 0, 0, 0, 0, 0, 199.35001423601798, 290.04136744307556, 0, 0, 254.4537058804774, 0, 387.7015862052357, 0, 0, 0, 329.66474374665853, 0, 0, 0, 477.9108275067946, 0, 218.05814267765027, 194.97338860660864, 0, 0, 0, 0, 0, 0, 0, 192.43203900270345, 0, 0, 0, 0, 0, 0, 0, 0, 198.22719744685114, 0, 0, 0, 0, 198.76294466405926, 437.03006668355647, 424.0543886821458, 0, 534.3205600661585, 0, 262.79781665493465, 0, 0, 381.18590742191026, 245.2930370004534, 0, 0, 0, 740.9589967262184, 0, 229.6668736538066, 0, 0, 0, 350.0383750655421, 255.19777728481642, 0, 0, 318.9216329608076, 378.4106435808768, 0, 246.7104317771437, 0, 0, 250.58227430790254]\n"
          ],
          "name": "stdout"
        }
      ]
    },
    {
      "metadata": {
        "id": "KiUIeFxu-rEh",
        "colab_type": "code",
        "outputId": "6f23eb99-1f33-4478-8a4d-c2883129a22d",
        "colab": {
          "base_uri": "https://localhost:8080/",
          "height": 204
        }
      },
      "cell_type": "code",
      "source": [
        "result_df.head()"
      ],
      "execution_count": 0,
      "outputs": [
        {
          "output_type": "execute_result",
          "data": {
            "text/html": [
              "<div>\n",
              "<style scoped>\n",
              "    .dataframe tbody tr th:only-of-type {\n",
              "        vertical-align: middle;\n",
              "    }\n",
              "\n",
              "    .dataframe tbody tr th {\n",
              "        vertical-align: top;\n",
              "    }\n",
              "\n",
              "    .dataframe thead th {\n",
              "        text-align: right;\n",
              "    }\n",
              "</style>\n",
              "<table border=\"1\" class=\"dataframe\">\n",
              "  <thead>\n",
              "    <tr style=\"text-align: right;\">\n",
              "      <th></th>\n",
              "      <th>bidid</th>\n",
              "      <th>bidprice</th>\n",
              "    </tr>\n",
              "  </thead>\n",
              "  <tbody>\n",
              "    <tr>\n",
              "      <th>0</th>\n",
              "      <td>366c563de7d90feb9d4dab53e795a93fb3157387</td>\n",
              "      <td>362.581451</td>\n",
              "    </tr>\n",
              "    <tr>\n",
              "      <th>1</th>\n",
              "      <td>29167d4caa719788b5a342dbaa25151d53121f80</td>\n",
              "      <td>765.844348</td>\n",
              "    </tr>\n",
              "    <tr>\n",
              "      <th>2</th>\n",
              "      <td>ff8bc3f4d44a3ea60c5f3a3a8fbe7cd98fb2966e</td>\n",
              "      <td>0.000000</td>\n",
              "    </tr>\n",
              "    <tr>\n",
              "      <th>3</th>\n",
              "      <td>844c2da00d45315f20b748ec131c26ee99a7cbc7</td>\n",
              "      <td>0.000000</td>\n",
              "    </tr>\n",
              "    <tr>\n",
              "      <th>4</th>\n",
              "      <td>c6017f0ad0c44d7d0c9b62583ea863f28941c0ca</td>\n",
              "      <td>0.000000</td>\n",
              "    </tr>\n",
              "  </tbody>\n",
              "</table>\n",
              "</div>"
            ],
            "text/plain": [
              "                                      bidid    bidprice\n",
              "0  366c563de7d90feb9d4dab53e795a93fb3157387  362.581451\n",
              "1  29167d4caa719788b5a342dbaa25151d53121f80  765.844348\n",
              "2  ff8bc3f4d44a3ea60c5f3a3a8fbe7cd98fb2966e    0.000000\n",
              "3  844c2da00d45315f20b748ec131c26ee99a7cbc7    0.000000\n",
              "4  c6017f0ad0c44d7d0c9b62583ea863f28941c0ca    0.000000"
            ]
          },
          "metadata": {
            "tags": []
          },
          "execution_count": 52
        }
      ]
    },
    {
      "metadata": {
        "id": "qsnuDsFS-tc5",
        "colab_type": "code",
        "colab": {}
      },
      "cell_type": "code",
      "source": [
        "result_df.to_csv(\"/content/drive/My Drive/result_polynominal_xgb_4_cret2.csv\")#store dataframe to csv"
      ],
      "execution_count": 0,
      "outputs": []
    },
    {
      "metadata": {
        "id": "DSl59jgaP396",
        "colab_type": "text"
      },
      "cell_type": "markdown",
      "source": [
        "###Distribution Plot"
      ]
    },
    {
      "metadata": {
        "id": "BcF2qTf6P_mi",
        "colab_type": "code",
        "outputId": "bf9c3a0c-ac16-4403-a1b5-d8483b7db82e",
        "colab": {
          "base_uri": "https://localhost:8080/",
          "height": 610
        }
      },
      "cell_type": "code",
      "source": [
        "import matplotlib.pyplot as plt\n",
        "import seaborn\n",
        "\n",
        "seaborn.set(style=\"whitegrid\", palette=\"muted\", color_codes=True)\n",
        "p1 = plt.figure(figsize=(6,4),dpi=144)\n",
        "seaborn.distplot(preds_1, color=\"b\")\n",
        "\n",
        "plt.title('Probability Distribution of Predicted Test Set')"
      ],
      "execution_count": 0,
      "outputs": [
        {
          "output_type": "stream",
          "text": [
            "/usr/local/lib/python3.6/dist-packages/matplotlib/axes/_axes.py:6521: MatplotlibDeprecationWarning: \n",
            "The 'normed' kwarg was deprecated in Matplotlib 2.1 and will be removed in 3.1. Use 'density' instead.\n",
            "  alternative=\"'density'\", removal=\"3.1\")\n"
          ],
          "name": "stderr"
        },
        {
          "output_type": "execute_result",
          "data": {
            "text/plain": [
              "Text(0.5, 1.0, 'Probability Distribution of Predicted Test Set')"
            ]
          },
          "metadata": {
            "tags": []
          },
          "execution_count": 120
        },
        {
          "output_type": "display_data",
          "data": {
            "image/png": "[encoded data removed]",
            "text/plain": [
              "<Figure size 864x576 with 1 Axes>"
            ]
          },
          "metadata": {
            "tags": []
          }
        }
      ]
    },
    {
      "metadata": {
        "id": "jJeUH54pQF0a",
        "colab_type": "code",
        "colab": {}
      },
      "cell_type": "code",
      "source": [
        ""
      ],
      "execution_count": 0,
      "outputs": []
    }
  ]
}