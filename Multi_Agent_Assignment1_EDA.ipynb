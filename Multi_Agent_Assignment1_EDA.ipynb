{
  "nbformat": 4,
  "nbformat_minor": 0,
  "metadata": {
    "colab": {
      "name": "Multi_Agent_Assignment1_EDA",
      "version": "0.3.2",
      "provenance": [],
      "collapsed_sections": [],
      "toc_visible": true
    },
    "kernelspec": {
      "name": "python3",
      "display_name": "Python 3"
    }
  },
  "cells": [
    {
      "metadata": {
        "id": "VDNg4xLsb399",
        "colab_type": "text"
      },
      "cell_type": "markdown",
      "source": [
        "# Connecting to Google Drive"
      ]
    },
    {
      "metadata": {
        "id": "oWA7KByFb-k9",
        "colab_type": "code",
        "outputId": "d5e6e2d0-0914-4673-ca7a-9afa01634560",
        "colab": {
          "base_uri": "https://localhost:8080/",
          "height": 122
        }
      },
      "cell_type": "code",
      "source": [
        "# Load the Drive helper and mount\n",
        "from google.colab import drive\n",
        "\n",
        "# This will prompt for authorization.\n",
        "drive.mount('/content/drive')"
      ],
      "execution_count": 0,
      "outputs": [
        {
          "output_type": "stream",
          "text": [
            "Go to this URL in a browser: https://accounts.google.com/o/oauth2/auth?client_id=947318989803-6bn6qk8qdgf4n4g3pfee6491hc0brc4i.apps.googleusercontent.com&redirect_uri=urn%3Aietf%3Awg%3Aoauth%3A2.0%3Aoob&scope=email%20https%3A%2F%2Fwww.googleapis.com%2Fauth%2Fdocs.test%20https%3A%2F%2Fwww.googleapis.com%2Fauth%2Fdrive%20https%3A%2F%2Fwww.googleapis.com%2Fauth%2Fdrive.photos.readonly%20https%3A%2F%2Fwww.googleapis.com%2Fauth%2Fpeopleapi.readonly&response_type=code\n",
            "\n",
            "Enter your authorization code:\n",
            "··········\n",
            "Mounted at /content/drive\n"
          ],
          "name": "stdout"
        }
      ]
    },
    {
      "metadata": {
        "id": "C-8F4OB9cHg1",
        "colab_type": "text"
      },
      "cell_type": "markdown",
      "source": [
        "# Dataset EDA"
      ]
    },
    {
      "metadata": {
        "id": "BaSshIPoX9-5",
        "colab_type": "text"
      },
      "cell_type": "markdown",
      "source": [
        "##Train Set"
      ]
    },
    {
      "metadata": {
        "id": "a7AFUVeKcBqW",
        "colab_type": "code",
        "colab": {}
      },
      "cell_type": "code",
      "source": [
        "import pandas as pd\n",
        "import numpy as np"
      ],
      "execution_count": 0,
      "outputs": []
    },
    {
      "metadata": {
        "id": "fgw-Ap2ycf93",
        "colab_type": "code",
        "outputId": "f9227367-b9d1-4921-cc3e-04800ea13795",
        "colab": {
          "base_uri": "https://localhost:8080/",
          "height": 425
        }
      },
      "cell_type": "code",
      "source": [
        "#read data\n",
        "df = pd.read_csv('/content/drive/My Drive/Multi_Agent Dataset/train.csv',sep=',')\n",
        "print('Total rows: ', len(df))\n",
        "#df.head(10)\n",
        "validation = pd.read_csv('/content/drive/My Drive/Multi_Agent Dataset/validation.csv',sep=',')[0:5000]\n",
        "df.head(10)"
      ],
      "execution_count": 0,
      "outputs": [
        {
          "output_type": "stream",
          "text": [
            "Total rows:  2430981\n"
          ],
          "name": "stdout"
        },
        {
          "output_type": "execute_result",
          "data": {
            "text/html": [
              "<div>\n",
              "<style scoped>\n",
              "    .dataframe tbody tr th:only-of-type {\n",
              "        vertical-align: middle;\n",
              "    }\n",
              "\n",
              "    .dataframe tbody tr th {\n",
              "        vertical-align: top;\n",
              "    }\n",
              "\n",
              "    .dataframe thead th {\n",
              "        text-align: right;\n",
              "    }\n",
              "</style>\n",
              "<table border=\"1\" class=\"dataframe\">\n",
              "  <thead>\n",
              "    <tr style=\"text-align: right;\">\n",
              "      <th></th>\n",
              "      <th>click</th>\n",
              "      <th>weekday</th>\n",
              "      <th>hour</th>\n",
              "      <th>bidid</th>\n",
              "      <th>userid</th>\n",
              "      <th>useragent</th>\n",
              "      <th>IP</th>\n",
              "      <th>region</th>\n",
              "      <th>city</th>\n",
              "      <th>adexchange</th>\n",
              "      <th>...</th>\n",
              "      <th>slotheight</th>\n",
              "      <th>slotvisibility</th>\n",
              "      <th>slotformat</th>\n",
              "      <th>slotprice</th>\n",
              "      <th>creative</th>\n",
              "      <th>bidprice</th>\n",
              "      <th>payprice</th>\n",
              "      <th>keypage</th>\n",
              "      <th>advertiser</th>\n",
              "      <th>usertag</th>\n",
              "    </tr>\n",
              "  </thead>\n",
              "  <tbody>\n",
              "    <tr>\n",
              "      <th>0</th>\n",
              "      <td>0</td>\n",
              "      <td>5</td>\n",
              "      <td>22</td>\n",
              "      <td>b7bea80521fdecd95d2d761a38c91c3f09618066</td>\n",
              "      <td>2e880fb7d690cf7377b2e42e701728e3f3c0e4c1</td>\n",
              "      <td>windows_ie</td>\n",
              "      <td>125.37.175.*</td>\n",
              "      <td>2</td>\n",
              "      <td>2</td>\n",
              "      <td>2.0</td>\n",
              "      <td>...</td>\n",
              "      <td>200</td>\n",
              "      <td>2</td>\n",
              "      <td>0</td>\n",
              "      <td>5</td>\n",
              "      <td>a4f763f78ef3eedfe614263b94a8924e</td>\n",
              "      <td>238</td>\n",
              "      <td>5</td>\n",
              "      <td>0f951a030abdaedd733ee8d114ce2944</td>\n",
              "      <td>3427</td>\n",
              "      <td>NaN</td>\n",
              "    </tr>\n",
              "    <tr>\n",
              "      <th>1</th>\n",
              "      <td>0</td>\n",
              "      <td>1</td>\n",
              "      <td>20</td>\n",
              "      <td>4f51205475678f5a124bc76b2c54163bf8eaa7eb</td>\n",
              "      <td>3a1fe01360ff8100e7d006b83b77a3e4c01d928c</td>\n",
              "      <td>windows_chrome</td>\n",
              "      <td>171.36.92.*</td>\n",
              "      <td>238</td>\n",
              "      <td>239</td>\n",
              "      <td>1.0</td>\n",
              "      <td>...</td>\n",
              "      <td>250</td>\n",
              "      <td>FourthView</td>\n",
              "      <td>Na</td>\n",
              "      <td>0</td>\n",
              "      <td>10722</td>\n",
              "      <td>294</td>\n",
              "      <td>23</td>\n",
              "      <td>NaN</td>\n",
              "      <td>2821</td>\n",
              "      <td>NaN</td>\n",
              "    </tr>\n",
              "    <tr>\n",
              "      <th>2</th>\n",
              "      <td>0</td>\n",
              "      <td>3</td>\n",
              "      <td>13</td>\n",
              "      <td>b604e3fd054a658ab7ced4285ebf2ef54d2bd890</td>\n",
              "      <td>801d18a056b6fe6b06a794aef17fb0d6daff2414</td>\n",
              "      <td>windows_ie</td>\n",
              "      <td>59.46.106.*</td>\n",
              "      <td>40</td>\n",
              "      <td>41</td>\n",
              "      <td>2.0</td>\n",
              "      <td>...</td>\n",
              "      <td>250</td>\n",
              "      <td>2</td>\n",
              "      <td>0</td>\n",
              "      <td>5</td>\n",
              "      <td>798b2d49952d77f1eace9f23c210d0b5</td>\n",
              "      <td>238</td>\n",
              "      <td>24</td>\n",
              "      <td>0f951a030abdaedd733ee8d114ce2944</td>\n",
              "      <td>3427</td>\n",
              "      <td>10052,10006,13866,10110</td>\n",
              "    </tr>\n",
              "    <tr>\n",
              "      <th>3</th>\n",
              "      <td>0</td>\n",
              "      <td>6</td>\n",
              "      <td>23</td>\n",
              "      <td>0348beeae93e561584c3b50fc9e7746a33048ad7</td>\n",
              "      <td>0d6eaf2259699990e38a1fc5116f112070b9ecdc</td>\n",
              "      <td>windows_ie</td>\n",
              "      <td>114.250.226.*</td>\n",
              "      <td>1</td>\n",
              "      <td>1</td>\n",
              "      <td>1.0</td>\n",
              "      <td>...</td>\n",
              "      <td>600</td>\n",
              "      <td>2</td>\n",
              "      <td>1</td>\n",
              "      <td>0</td>\n",
              "      <td>cb7c76e7784031272e37af8e7e9b062c</td>\n",
              "      <td>300</td>\n",
              "      <td>25</td>\n",
              "      <td>bebefa5efe83beee17a3d245e7c5085b</td>\n",
              "      <td>1458</td>\n",
              "      <td>13866,10063,10111</td>\n",
              "    </tr>\n",
              "    <tr>\n",
              "      <th>4</th>\n",
              "      <td>0</td>\n",
              "      <td>5</td>\n",
              "      <td>6</td>\n",
              "      <td>268149c1789bce2bc9798ffd97ec431219bafeb3</td>\n",
              "      <td>a239d9bb642460d974ba67f85e63b8d3e214da0e</td>\n",
              "      <td>windows_ie</td>\n",
              "      <td>183.63.192.*</td>\n",
              "      <td>216</td>\n",
              "      <td>233</td>\n",
              "      <td>2.0</td>\n",
              "      <td>...</td>\n",
              "      <td>90</td>\n",
              "      <td>OtherView</td>\n",
              "      <td>Na</td>\n",
              "      <td>133</td>\n",
              "      <td>7330</td>\n",
              "      <td>277</td>\n",
              "      <td>133</td>\n",
              "      <td>NaN</td>\n",
              "      <td>2259</td>\n",
              "      <td>NaN</td>\n",
              "    </tr>\n",
              "    <tr>\n",
              "      <th>5</th>\n",
              "      <td>0</td>\n",
              "      <td>4</td>\n",
              "      <td>17</td>\n",
              "      <td>1be2cf4a47a2a6aee4b0fa64d1b786d3897be4f0</td>\n",
              "      <td>8810fd690f88ddfb797867e3e08e7816f274bd46</td>\n",
              "      <td>windows_ie</td>\n",
              "      <td>119.45.182.*</td>\n",
              "      <td>276</td>\n",
              "      <td>277</td>\n",
              "      <td>1.0</td>\n",
              "      <td>...</td>\n",
              "      <td>280</td>\n",
              "      <td>2</td>\n",
              "      <td>1</td>\n",
              "      <td>0</td>\n",
              "      <td>77819d3e0b3467fe5c7b16d68ad923a1</td>\n",
              "      <td>300</td>\n",
              "      <td>123</td>\n",
              "      <td>bebefa5efe83beee17a3d245e7c5085b</td>\n",
              "      <td>1458</td>\n",
              "      <td>10006,10077,10063,10057,10110</td>\n",
              "    </tr>\n",
              "    <tr>\n",
              "      <th>6</th>\n",
              "      <td>0</td>\n",
              "      <td>3</td>\n",
              "      <td>12</td>\n",
              "      <td>6b4f23dd215a5f11136c2f29214236cfee1f0122</td>\n",
              "      <td>fbd1bcaf2b33108d2c7f88ac41f0b0194b508a9b</td>\n",
              "      <td>windows_ie</td>\n",
              "      <td>112.82.93.*</td>\n",
              "      <td>80</td>\n",
              "      <td>89</td>\n",
              "      <td>3.0</td>\n",
              "      <td>...</td>\n",
              "      <td>90</td>\n",
              "      <td>0</td>\n",
              "      <td>0</td>\n",
              "      <td>20</td>\n",
              "      <td>86c2543527c86a893d4d4f68810a0416</td>\n",
              "      <td>300</td>\n",
              "      <td>20</td>\n",
              "      <td>43f4a37f42a7c5e6219e2601b26c6976</td>\n",
              "      <td>3386</td>\n",
              "      <td>10083,10024,10063,13496,10093,10006,10057,10110</td>\n",
              "    </tr>\n",
              "    <tr>\n",
              "      <th>7</th>\n",
              "      <td>0</td>\n",
              "      <td>3</td>\n",
              "      <td>16</td>\n",
              "      <td>f7c1d8ea177211249456c79e194617ce107bc077</td>\n",
              "      <td>9b539ba886146562a3991fd9f94bb9f9bad1f647</td>\n",
              "      <td>windows_ie</td>\n",
              "      <td>118.75.92.*</td>\n",
              "      <td>15</td>\n",
              "      <td>19</td>\n",
              "      <td>1.0</td>\n",
              "      <td>...</td>\n",
              "      <td>600</td>\n",
              "      <td>2</td>\n",
              "      <td>1</td>\n",
              "      <td>0</td>\n",
              "      <td>cb7c76e7784031272e37af8e7e9b062c</td>\n",
              "      <td>300</td>\n",
              "      <td>134</td>\n",
              "      <td>bebefa5efe83beee17a3d245e7c5085b</td>\n",
              "      <td>1458</td>\n",
              "      <td>10063,10024,13800,13866,10006,10111</td>\n",
              "    </tr>\n",
              "    <tr>\n",
              "      <th>8</th>\n",
              "      <td>0</td>\n",
              "      <td>5</td>\n",
              "      <td>14</td>\n",
              "      <td>9e97694096fe8692851048a893231a7f7ff87922</td>\n",
              "      <td>ddc9c85b6a5726aafaa4c42239e90fb7a44a88d7</td>\n",
              "      <td>windows_ie</td>\n",
              "      <td>61.185.128.*</td>\n",
              "      <td>333</td>\n",
              "      <td>342</td>\n",
              "      <td>3.0</td>\n",
              "      <td>...</td>\n",
              "      <td>90</td>\n",
              "      <td>0</td>\n",
              "      <td>0</td>\n",
              "      <td>70</td>\n",
              "      <td>832b91d59d0cb5731431653204a76c0e</td>\n",
              "      <td>300</td>\n",
              "      <td>70</td>\n",
              "      <td>bebefa5efe83beee17a3d245e7c5085b</td>\n",
              "      <td>1458</td>\n",
              "      <td>10063,10006,10083,10110</td>\n",
              "    </tr>\n",
              "    <tr>\n",
              "      <th>9</th>\n",
              "      <td>0</td>\n",
              "      <td>5</td>\n",
              "      <td>0</td>\n",
              "      <td>d1b7c7fdb88ce3aa78a540bb29848dd77329a574</td>\n",
              "      <td>63b4f9a3638f81af361ab3c4190fd3e1b5e70fea</td>\n",
              "      <td>windows_chrome</td>\n",
              "      <td>117.9.211.*</td>\n",
              "      <td>2</td>\n",
              "      <td>2</td>\n",
              "      <td>3.0</td>\n",
              "      <td>...</td>\n",
              "      <td>90</td>\n",
              "      <td>0</td>\n",
              "      <td>0</td>\n",
              "      <td>70</td>\n",
              "      <td>a10c31a8ff5f42930b4c34035e523886</td>\n",
              "      <td>241</td>\n",
              "      <td>77</td>\n",
              "      <td>d29e59bf0f7f8243858b8183f14d4412</td>\n",
              "      <td>3358</td>\n",
              "      <td>13403,10031,10063,10083,10006,10077,10075,10110</td>\n",
              "    </tr>\n",
              "  </tbody>\n",
              "</table>\n",
              "<p>10 rows × 25 columns</p>\n",
              "</div>"
            ],
            "text/plain": [
              "   click  weekday  hour                                     bidid  \\\n",
              "0      0        5    22  b7bea80521fdecd95d2d761a38c91c3f09618066   \n",
              "1      0        1    20  4f51205475678f5a124bc76b2c54163bf8eaa7eb   \n",
              "2      0        3    13  b604e3fd054a658ab7ced4285ebf2ef54d2bd890   \n",
              "3      0        6    23  0348beeae93e561584c3b50fc9e7746a33048ad7   \n",
              "4      0        5     6  268149c1789bce2bc9798ffd97ec431219bafeb3   \n",
              "5      0        4    17  1be2cf4a47a2a6aee4b0fa64d1b786d3897be4f0   \n",
              "6      0        3    12  6b4f23dd215a5f11136c2f29214236cfee1f0122   \n",
              "7      0        3    16  f7c1d8ea177211249456c79e194617ce107bc077   \n",
              "8      0        5    14  9e97694096fe8692851048a893231a7f7ff87922   \n",
              "9      0        5     0  d1b7c7fdb88ce3aa78a540bb29848dd77329a574   \n",
              "\n",
              "                                     userid       useragent             IP  \\\n",
              "0  2e880fb7d690cf7377b2e42e701728e3f3c0e4c1      windows_ie   125.37.175.*   \n",
              "1  3a1fe01360ff8100e7d006b83b77a3e4c01d928c  windows_chrome    171.36.92.*   \n",
              "2  801d18a056b6fe6b06a794aef17fb0d6daff2414      windows_ie    59.46.106.*   \n",
              "3  0d6eaf2259699990e38a1fc5116f112070b9ecdc      windows_ie  114.250.226.*   \n",
              "4  a239d9bb642460d974ba67f85e63b8d3e214da0e      windows_ie   183.63.192.*   \n",
              "5  8810fd690f88ddfb797867e3e08e7816f274bd46      windows_ie   119.45.182.*   \n",
              "6  fbd1bcaf2b33108d2c7f88ac41f0b0194b508a9b      windows_ie    112.82.93.*   \n",
              "7  9b539ba886146562a3991fd9f94bb9f9bad1f647      windows_ie    118.75.92.*   \n",
              "8  ddc9c85b6a5726aafaa4c42239e90fb7a44a88d7      windows_ie   61.185.128.*   \n",
              "9  63b4f9a3638f81af361ab3c4190fd3e1b5e70fea  windows_chrome    117.9.211.*   \n",
              "\n",
              "   region  city  adexchange                       ...                         \\\n",
              "0       2     2         2.0                       ...                          \n",
              "1     238   239         1.0                       ...                          \n",
              "2      40    41         2.0                       ...                          \n",
              "3       1     1         1.0                       ...                          \n",
              "4     216   233         2.0                       ...                          \n",
              "5     276   277         1.0                       ...                          \n",
              "6      80    89         3.0                       ...                          \n",
              "7      15    19         1.0                       ...                          \n",
              "8     333   342         3.0                       ...                          \n",
              "9       2     2         3.0                       ...                          \n",
              "\n",
              "  slotheight slotvisibility  slotformat slotprice  \\\n",
              "0        200              2           0         5   \n",
              "1        250     FourthView          Na         0   \n",
              "2        250              2           0         5   \n",
              "3        600              2           1         0   \n",
              "4         90      OtherView          Na       133   \n",
              "5        280              2           1         0   \n",
              "6         90              0           0        20   \n",
              "7        600              2           1         0   \n",
              "8         90              0           0        70   \n",
              "9         90              0           0        70   \n",
              "\n",
              "                           creative  bidprice payprice  \\\n",
              "0  a4f763f78ef3eedfe614263b94a8924e       238        5   \n",
              "1                             10722       294       23   \n",
              "2  798b2d49952d77f1eace9f23c210d0b5       238       24   \n",
              "3  cb7c76e7784031272e37af8e7e9b062c       300       25   \n",
              "4                              7330       277      133   \n",
              "5  77819d3e0b3467fe5c7b16d68ad923a1       300      123   \n",
              "6  86c2543527c86a893d4d4f68810a0416       300       20   \n",
              "7  cb7c76e7784031272e37af8e7e9b062c       300      134   \n",
              "8  832b91d59d0cb5731431653204a76c0e       300       70   \n",
              "9  a10c31a8ff5f42930b4c34035e523886       241       77   \n",
              "\n",
              "                            keypage  advertiser  \\\n",
              "0  0f951a030abdaedd733ee8d114ce2944        3427   \n",
              "1                               NaN        2821   \n",
              "2  0f951a030abdaedd733ee8d114ce2944        3427   \n",
              "3  bebefa5efe83beee17a3d245e7c5085b        1458   \n",
              "4                               NaN        2259   \n",
              "5  bebefa5efe83beee17a3d245e7c5085b        1458   \n",
              "6  43f4a37f42a7c5e6219e2601b26c6976        3386   \n",
              "7  bebefa5efe83beee17a3d245e7c5085b        1458   \n",
              "8  bebefa5efe83beee17a3d245e7c5085b        1458   \n",
              "9  d29e59bf0f7f8243858b8183f14d4412        3358   \n",
              "\n",
              "                                           usertag  \n",
              "0                                              NaN  \n",
              "1                                              NaN  \n",
              "2                          10052,10006,13866,10110  \n",
              "3                                13866,10063,10111  \n",
              "4                                              NaN  \n",
              "5                    10006,10077,10063,10057,10110  \n",
              "6  10083,10024,10063,13496,10093,10006,10057,10110  \n",
              "7              10063,10024,13800,13866,10006,10111  \n",
              "8                          10063,10006,10083,10110  \n",
              "9  13403,10031,10063,10083,10006,10077,10075,10110  \n",
              "\n",
              "[10 rows x 25 columns]"
            ]
          },
          "metadata": {
            "tags": []
          },
          "execution_count": 4
        }
      ]
    },
    {
      "metadata": {
        "id": "x4eMqyBLeP4W",
        "colab_type": "text"
      },
      "cell_type": "markdown",
      "source": [
        "## Data Processing-split original datafram in to several sub-dataframe according to their advitor"
      ]
    },
    {
      "metadata": {
        "id": "fQD8eSWxc5YY",
        "colab_type": "code",
        "outputId": "01a80d34-f734-4677-b4b5-eedf61bac5bb",
        "colab": {
          "base_uri": "https://localhost:8080/",
          "height": 4777
        }
      },
      "cell_type": "code",
      "source": [
        "advertisers = df['advertiser'].drop_duplicates().tolist()#retrive all advertiser into a list\n",
        "print(advertisers)\n",
        "sub_dataframes = []#list used to store sub data frame\n",
        "column_list = []\n",
        "for column in df:\n",
        "  column_list.append(column)\n",
        "for advertiser in advertisers:\n",
        "  sub_dataframes.append(df[(df['advertiser'] == advertiser)])\n",
        "for sub_df in sub_dataframes:\n",
        "  print(sub_df.info())"
      ],
      "execution_count": 0,
      "outputs": [
        {
          "output_type": "stream",
          "text": [
            "[3427, 2821, 1458, 2259, 3386, 3358, 3476, 2261, 2997]\n",
            "<class 'pandas.core.frame.DataFrame'>\n",
            "Int64Index: 402806 entries, 0 to 2430977\n",
            "Data columns (total 25 columns):\n",
            "click             402806 non-null int64\n",
            "weekday           402806 non-null int64\n",
            "hour              402806 non-null int64\n",
            "bidid             402806 non-null object\n",
            "userid            402806 non-null object\n",
            "useragent         402806 non-null object\n",
            "IP                402806 non-null object\n",
            "region            402806 non-null int64\n",
            "city              402806 non-null int64\n",
            "adexchange        402806 non-null float64\n",
            "domain            384560 non-null object\n",
            "url               400440 non-null object\n",
            "urlid             0 non-null float64\n",
            "slotid            402806 non-null object\n",
            "slotwidth         402806 non-null int64\n",
            "slotheight        402806 non-null int64\n",
            "slotvisibility    402806 non-null object\n",
            "slotformat        402806 non-null object\n",
            "slotprice         402806 non-null int64\n",
            "creative          402806 non-null object\n",
            "bidprice          402806 non-null int64\n",
            "payprice          402806 non-null int64\n",
            "keypage           402806 non-null object\n",
            "advertiser        402806 non-null int64\n",
            "usertag           339832 non-null object\n",
            "dtypes: float64(2), int64(11), object(12)\n",
            "memory usage: 79.9+ MB\n",
            "None\n",
            "<class 'pandas.core.frame.DataFrame'>\n",
            "Int64Index: 211366 entries, 1 to 2430979\n",
            "Data columns (total 25 columns):\n",
            "click             211366 non-null int64\n",
            "weekday           211366 non-null int64\n",
            "hour              211366 non-null int64\n",
            "bidid             211366 non-null object\n",
            "userid            211366 non-null object\n",
            "useragent         211366 non-null object\n",
            "IP                211366 non-null object\n",
            "region            211366 non-null int64\n",
            "city              211366 non-null int64\n",
            "adexchange        211366 non-null float64\n",
            "domain            211274 non-null object\n",
            "url               202978 non-null object\n",
            "urlid             0 non-null float64\n",
            "slotid            211366 non-null object\n",
            "slotwidth         211366 non-null int64\n",
            "slotheight        211366 non-null int64\n",
            "slotvisibility    211366 non-null object\n",
            "slotformat        211366 non-null object\n",
            "slotprice         211366 non-null int64\n",
            "creative          211366 non-null object\n",
            "bidprice          211366 non-null int64\n",
            "payprice          211366 non-null int64\n",
            "keypage           0 non-null object\n",
            "advertiser        211366 non-null int64\n",
            "usertag           128545 non-null object\n",
            "dtypes: float64(2), int64(11), object(12)\n",
            "memory usage: 41.9+ MB\n",
            "None\n",
            "<class 'pandas.core.frame.DataFrame'>\n",
            "Int64Index: 492353 entries, 3 to 2430980\n",
            "Data columns (total 25 columns):\n",
            "click             492353 non-null int64\n",
            "weekday           492353 non-null int64\n",
            "hour              492353 non-null int64\n",
            "bidid             492353 non-null object\n",
            "userid            492353 non-null object\n",
            "useragent         492353 non-null object\n",
            "IP                492353 non-null object\n",
            "region            492353 non-null int64\n",
            "city              492353 non-null int64\n",
            "adexchange        492353 non-null float64\n",
            "domain            465179 non-null object\n",
            "url               481349 non-null object\n",
            "urlid             0 non-null float64\n",
            "slotid            492353 non-null object\n",
            "slotwidth         492353 non-null int64\n",
            "slotheight        492353 non-null int64\n",
            "slotvisibility    492353 non-null object\n",
            "slotformat        492353 non-null object\n",
            "slotprice         492353 non-null int64\n",
            "creative          492353 non-null object\n",
            "bidprice          492353 non-null int64\n",
            "payprice          492353 non-null int64\n",
            "keypage           492353 non-null object\n",
            "advertiser        492353 non-null int64\n",
            "usertag           428334 non-null object\n",
            "dtypes: float64(2), int64(11), object(12)\n",
            "memory usage: 97.7+ MB\n",
            "None\n",
            "<class 'pandas.core.frame.DataFrame'>\n",
            "Int64Index: 133673 entries, 4 to 2430970\n",
            "Data columns (total 25 columns):\n",
            "click             133673 non-null int64\n",
            "weekday           133673 non-null int64\n",
            "hour              133673 non-null int64\n",
            "bidid             133673 non-null object\n",
            "userid            133673 non-null object\n",
            "useragent         133673 non-null object\n",
            "IP                133673 non-null object\n",
            "region            133673 non-null int64\n",
            "city              133673 non-null int64\n",
            "adexchange        133673 non-null float64\n",
            "domain            133617 non-null object\n",
            "url               127124 non-null object\n",
            "urlid             0 non-null float64\n",
            "slotid            133673 non-null object\n",
            "slotwidth         133673 non-null int64\n",
            "slotheight        133673 non-null int64\n",
            "slotvisibility    133673 non-null object\n",
            "slotformat        133673 non-null object\n",
            "slotprice         133673 non-null int64\n",
            "creative          133673 non-null object\n",
            "bidprice          133673 non-null int64\n",
            "payprice          133673 non-null int64\n",
            "keypage           0 non-null object\n",
            "advertiser        133673 non-null int64\n",
            "usertag           81646 non-null object\n",
            "dtypes: float64(2), int64(11), object(12)\n",
            "memory usage: 26.5+ MB\n",
            "None\n",
            "<class 'pandas.core.frame.DataFrame'>\n",
            "Int64Index: 455041 entries, 6 to 2430978\n",
            "Data columns (total 25 columns):\n",
            "click             455041 non-null int64\n",
            "weekday           455041 non-null int64\n",
            "hour              455041 non-null int64\n",
            "bidid             455041 non-null object\n",
            "userid            455041 non-null object\n",
            "useragent         455041 non-null object\n",
            "IP                455041 non-null object\n",
            "region            455041 non-null int64\n",
            "city              455041 non-null int64\n",
            "adexchange        455041 non-null float64\n",
            "domain            434430 non-null object\n",
            "url               452006 non-null object\n",
            "urlid             0 non-null float64\n",
            "slotid            455041 non-null object\n",
            "slotwidth         455041 non-null int64\n",
            "slotheight        455041 non-null int64\n",
            "slotvisibility    455041 non-null object\n",
            "slotformat        455041 non-null object\n",
            "slotprice         455041 non-null int64\n",
            "creative          455041 non-null object\n",
            "bidprice          455041 non-null int64\n",
            "payprice          455041 non-null int64\n",
            "keypage           455041 non-null object\n",
            "advertiser        455041 non-null int64\n",
            "usertag           377050 non-null object\n",
            "dtypes: float64(2), int64(11), object(12)\n",
            "memory usage: 90.3+ MB\n",
            "None\n",
            "<class 'pandas.core.frame.DataFrame'>\n",
            "Int64Index: 264956 entries, 9 to 2430969\n",
            "Data columns (total 25 columns):\n",
            "click             264956 non-null int64\n",
            "weekday           264956 non-null int64\n",
            "hour              264956 non-null int64\n",
            "bidid             264956 non-null object\n",
            "userid            264956 non-null object\n",
            "useragent         264956 non-null object\n",
            "IP                264956 non-null object\n",
            "region            264956 non-null int64\n",
            "city              264956 non-null int64\n",
            "adexchange        264956 non-null float64\n",
            "domain            251854 non-null object\n",
            "url               261479 non-null object\n",
            "urlid             0 non-null float64\n",
            "slotid            264956 non-null object\n",
            "slotwidth         264956 non-null int64\n",
            "slotheight        264956 non-null int64\n",
            "slotvisibility    264956 non-null object\n",
            "slotformat        264956 non-null object\n",
            "slotprice         264956 non-null int64\n",
            "creative          264956 non-null object\n",
            "bidprice          264956 non-null int64\n",
            "payprice          264956 non-null int64\n",
            "keypage           264956 non-null object\n",
            "advertiser        264956 non-null int64\n",
            "usertag           212504 non-null object\n",
            "dtypes: float64(2), int64(11), object(12)\n",
            "memory usage: 52.6+ MB\n",
            "None\n",
            "<class 'pandas.core.frame.DataFrame'>\n",
            "Int64Index: 310835 entries, 26 to 2430974\n",
            "Data columns (total 25 columns):\n",
            "click             310835 non-null int64\n",
            "weekday           310835 non-null int64\n",
            "hour              310835 non-null int64\n",
            "bidid             310835 non-null object\n",
            "userid            310835 non-null object\n",
            "useragent         310835 non-null object\n",
            "IP                310835 non-null object\n",
            "region            310835 non-null int64\n",
            "city              310835 non-null int64\n",
            "adexchange        310835 non-null float64\n",
            "domain            295154 non-null object\n",
            "url               309486 non-null object\n",
            "urlid             0 non-null float64\n",
            "slotid            310835 non-null object\n",
            "slotwidth         310835 non-null int64\n",
            "slotheight        310835 non-null int64\n",
            "slotvisibility    310835 non-null object\n",
            "slotformat        310835 non-null object\n",
            "slotprice         310835 non-null int64\n",
            "creative          310835 non-null object\n",
            "bidprice          310835 non-null int64\n",
            "payprice          310835 non-null int64\n",
            "keypage           310835 non-null object\n",
            "advertiser        310835 non-null int64\n",
            "usertag           306474 non-null object\n",
            "dtypes: float64(2), int64(11), object(12)\n",
            "memory usage: 61.7+ MB\n",
            "None\n",
            "<class 'pandas.core.frame.DataFrame'>\n",
            "Int64Index: 110122 entries, 40 to 2430976\n",
            "Data columns (total 25 columns):\n",
            "click             110122 non-null int64\n",
            "weekday           110122 non-null int64\n",
            "hour              110122 non-null int64\n",
            "bidid             110122 non-null object\n",
            "userid            110122 non-null object\n",
            "useragent         110122 non-null object\n",
            "IP                110122 non-null object\n",
            "region            110122 non-null int64\n",
            "city              110122 non-null int64\n",
            "adexchange        110122 non-null float64\n",
            "domain            110075 non-null object\n",
            "url               102510 non-null object\n",
            "urlid             0 non-null float64\n",
            "slotid            110122 non-null object\n",
            "slotwidth         110122 non-null int64\n",
            "slotheight        110122 non-null int64\n",
            "slotvisibility    110122 non-null object\n",
            "slotformat        110122 non-null object\n",
            "slotprice         110122 non-null int64\n",
            "creative          110122 non-null object\n",
            "bidprice          110122 non-null int64\n",
            "payprice          110122 non-null int64\n",
            "keypage           0 non-null object\n",
            "advertiser        110122 non-null int64\n",
            "usertag           57866 non-null object\n",
            "dtypes: float64(2), int64(11), object(12)\n",
            "memory usage: 21.8+ MB\n",
            "None\n",
            "<class 'pandas.core.frame.DataFrame'>\n",
            "Int64Index: 49829 entries, 93 to 2430928\n",
            "Data columns (total 25 columns):\n",
            "click             49829 non-null int64\n",
            "weekday           49829 non-null int64\n",
            "hour              49829 non-null int64\n",
            "bidid             49829 non-null object\n",
            "userid            49829 non-null object\n",
            "useragent         49829 non-null object\n",
            "IP                49829 non-null object\n",
            "region            49829 non-null int64\n",
            "city              49829 non-null int64\n",
            "adexchange        0 non-null float64\n",
            "domain            7703 non-null object\n",
            "url               6797 non-null object\n",
            "urlid             0 non-null float64\n",
            "slotid            49829 non-null object\n",
            "slotwidth         49829 non-null int64\n",
            "slotheight        49829 non-null int64\n",
            "slotvisibility    49829 non-null object\n",
            "slotformat        49829 non-null object\n",
            "slotprice         49829 non-null int64\n",
            "creative          49829 non-null object\n",
            "bidprice          49829 non-null int64\n",
            "payprice          49829 non-null int64\n",
            "keypage           0 non-null object\n",
            "advertiser        49829 non-null int64\n",
            "usertag           1251 non-null object\n",
            "dtypes: float64(2), int64(11), object(12)\n",
            "memory usage: 9.9+ MB\n",
            "None\n"
          ],
          "name": "stdout"
        }
      ]
    },
    {
      "metadata": {
        "id": "EkQNvArfdJx8",
        "colab_type": "code",
        "outputId": "672f9af7-abd4-44e1-df8a-e42926425cf9",
        "colab": {
          "base_uri": "https://localhost:8080/",
          "height": 85
        }
      },
      "cell_type": "code",
      "source": [
        "\n",
        "#statistics\n",
        "sum_of_clicks_list = []\n",
        "num_of_bids_list = []\n",
        "num_of_impression_list = []\n",
        "cost_list = []\n",
        "for dataframes in sub_dataframes:\n",
        "  #sum of clicks\n",
        "  sum_of_clicks = dataframes['click'].sum()\n",
        "  sum_of_clicks_list.append(sum_of_clicks)\n",
        "  #number of bids\n",
        "  num_of_bids = len(dataframes)\n",
        "  num_of_bids_list.append(num_of_bids)\n",
        "  #number of impression\n",
        "  num_of_impression = len(dataframes[(dataframes['bidprice'] >= dataframes['payprice'])])\n",
        "  num_of_impression_list.append(num_of_impression)\n",
        "  #print(dataframes[(dataframes['bidprice'] >= dataframes['payprice'])][:50][['bidprice','payprice']])\n",
        "  #cost\n",
        "  cost = dataframes['payprice'].sum()\n",
        "  cost_list.append(cost)\n",
        "print(sum_of_clicks_list)\n",
        "print(num_of_bids_list)      \n",
        "print(num_of_impression_list)\n",
        "print(cost_list)"
      ],
      "execution_count": 0,
      "outputs": [
        {
          "output_type": "stream",
          "text": [
            "[272, 131, 385, 43, 320, 202, 187, 36, 217]\n",
            "[402806, 211366, 492353, 133673, 455041, 264956, 310835, 110122, 49829]\n",
            "[402806, 211366, 492353, 133673, 455041, 264956, 310835, 110122, 49829]\n",
            "[30458711, 18828044, 33968736, 12428238, 34931823, 22447231, 23918779, 9873779, 3129267]\n"
          ],
          "name": "stdout"
        }
      ]
    },
    {
      "metadata": {
        "id": "irmk6A1WTxLI",
        "colab_type": "text"
      },
      "cell_type": "markdown",
      "source": [
        "##Win Ratio"
      ]
    },
    {
      "metadata": {
        "id": "J0D32GcxT1cC",
        "colab_type": "code",
        "outputId": "75376330-5e6a-4426-f85d-9dfc8e99cda7",
        "colab": {
          "base_uri": "https://localhost:8080/",
          "height": 34
        }
      },
      "cell_type": "code",
      "source": [
        "#Win Ration = number of impression/ number of bids\n",
        "WR = list(map(lambda x: x[0]/x[1]*100, zip(num_of_impression_list, num_of_bids_list)))\n",
        "print(WR)"
      ],
      "execution_count": 0,
      "outputs": [
        {
          "output_type": "stream",
          "text": [
            "[100.0, 100.0, 100.0, 100.0, 100.0, 100.0, 100.0, 100.0, 100.0]\n"
          ],
          "name": "stdout"
        }
      ]
    },
    {
      "metadata": {
        "id": "5krNokZN6Gcd",
        "colab_type": "text"
      },
      "cell_type": "markdown",
      "source": [
        "##CTR"
      ]
    },
    {
      "metadata": {
        "id": "kJQdOpQU6Leq",
        "colab_type": "code",
        "outputId": "b76e5517-8e9e-4ebc-d6d5-37d9fcab38eb",
        "colab": {
          "base_uri": "https://localhost:8080/",
          "height": 54
        }
      },
      "cell_type": "code",
      "source": [
        "#CTR = click/impression\n",
        "CTR = list(map(lambda x: x[0]/x[1]*100, zip(sum_of_clicks_list, num_of_impression_list)))\n",
        "print(CTR)"
      ],
      "execution_count": 0,
      "outputs": [
        {
          "output_type": "stream",
          "text": [
            "[0.06752630298456329, 0.061977801538563436, 0.07819592853095239, 0.03216805188781579, 0.07032333350181633, 0.07623907365751295, 0.06016053533225023, 0.032691015419262275, 0.43548937365791]\n"
          ],
          "name": "stdout"
        }
      ]
    },
    {
      "metadata": {
        "id": "Q87NCAoiUZo-",
        "colab_type": "text"
      },
      "cell_type": "markdown",
      "source": [
        "##CPM"
      ]
    },
    {
      "metadata": {
        "id": "hlg84RQcTd5G",
        "colab_type": "code",
        "outputId": "9be34044-bcfb-4ff7-f248-b0c411590123",
        "colab": {
          "base_uri": "https://localhost:8080/",
          "height": 54
        }
      },
      "cell_type": "code",
      "source": [
        "#Cost per mille = cost/impressions*1000, In this cast the units of cost is already CPM so do not multiply 1000\n",
        "CPM = list(map(lambda x: x[0]/x[1], zip(cost_list, num_of_impression_list)))\n",
        "print(CPM)"
      ],
      "execution_count": 0,
      "outputs": [
        {
          "output_type": "stream",
          "text": [
            "[75.61632895239892, 89.07792170926261, 68.99264552059194, 92.9749313623544, 76.7663199579818, 84.72059889189148, 76.95008284137887, 89.66218375983, 62.800116398081435]\n"
          ],
          "name": "stdout"
        }
      ]
    },
    {
      "metadata": {
        "id": "1o88Lff7WpfW",
        "colab_type": "text"
      },
      "cell_type": "markdown",
      "source": [
        "##eCPC"
      ]
    },
    {
      "metadata": {
        "id": "vRsEIZxpVAix",
        "colab_type": "code",
        "outputId": "c1283570-5972-4f4f-e1d4-0642e1435222",
        "colab": {
          "base_uri": "https://localhost:8080/",
          "height": 54
        }
      },
      "cell_type": "code",
      "source": [
        "#estimate cost per click = cost/click\n",
        "eCPC = list(map(lambda x: x[0]/(x[1]), zip(cost_list, sum_of_clicks_list)))\n",
        "print(eCPC)"
      ],
      "execution_count": 0,
      "outputs": [
        {
          "output_type": "stream",
          "text": [
            "[111980.55514705883, 143725.52671755725, 88230.48311688312, 289028.79069767444, 109161.946875, 111124.90594059406, 127907.90909090909, 274271.6388888889, 14420.585253456222]\n"
          ],
          "name": "stdout"
        }
      ]
    },
    {
      "metadata": {
        "id": "iVpC21WGkooS",
        "colab_type": "text"
      },
      "cell_type": "markdown",
      "source": [
        "##Plots"
      ]
    },
    {
      "metadata": {
        "id": "TGS6MQVAkrfG",
        "colab_type": "code",
        "colab": {}
      },
      "cell_type": "code",
      "source": [
        "import matplotlib.pyplot as plt\n",
        "import seaborn"
      ],
      "execution_count": 0,
      "outputs": []
    },
    {
      "metadata": {
        "id": "gsHxuiR5kzsg",
        "colab_type": "code",
        "outputId": "2e080cd7-c7e2-4711-e443-55828d11f863",
        "colab": {
          "base_uri": "https://localhost:8080/",
          "height": 71
        }
      },
      "cell_type": "code",
      "source": [
        "useragent = df['useragent'].drop_duplicates().tolist()\n",
        "print(useragent)\n",
        "click_impression_list = []\n",
        "for dataframes in sub_dataframes:\n",
        "  tuple_list = []\n",
        "  click_mac = 0\n",
        "  click_windows = 0\n",
        "  click_android = 0\n",
        "  click_linux = 0\n",
        "  click_ios = 0\n",
        "  click_other = 0\n",
        "  imp_mac = 0\n",
        "  imp_windows = 0\n",
        "  imp_android = 0\n",
        "  imp_linux = 0\n",
        "  imp_ios = 0\n",
        "  imp_other = 0\n",
        "  for ua in useragent:\n",
        "    useragent_dataframes = dataframes[dataframes['useragent'] == ua]\n",
        "    #print(ua,len(useragent_dataframes))\n",
        "    sum_click = useragent_dataframes['click'].sum()\n",
        "    sum_impression = len(useragent_dataframes[(useragent_dataframes['bidprice'] >= useragent_dataframes['payprice'])])\n",
        "    if ua.split('_')[0] == 'mac':\n",
        "      click_mac += sum_click\n",
        "      imp_mac += sum_impression\n",
        "    elif ua.split('_')[0] == 'windows':\n",
        "      click_windows += sum_click\n",
        "      imp_windows += sum_impression\n",
        "    elif ua.split('_')[0] == 'android':\n",
        "      click_android += sum_click\n",
        "      imp_android += sum_impression\n",
        "    elif ua.split('_')[0] == 'linux':\n",
        "      click_linux += sum_click\n",
        "      imp_linux += sum_impression\n",
        "    elif ua.split('_')[0] == 'ios':\n",
        "      click_ios += sum_click\n",
        "      imp_ios += sum_impression\n",
        "    else:\n",
        "      click_other += sum_click\n",
        "      imp_other += sum_impression\n",
        "  tuple_list.append((click_mac, imp_mac))\n",
        "  tuple_list.append((click_windows, imp_windows))\n",
        "  tuple_list.append((click_android, imp_android))\n",
        "  tuple_list.append((click_linux, imp_linux))\n",
        "  tuple_list.append((click_ios, imp_ios))\n",
        "  tuple_list.append((click_other, imp_other))    \n",
        "  click_impression_list.append(tuple_list)\n",
        "print(click_impression_list)\n",
        "\n",
        "\n"
      ],
      "execution_count": 0,
      "outputs": [
        {
          "output_type": "stream",
          "text": [
            "['windows_ie', 'windows_chrome', 'mac_other', 'windows_other', 'android_safari', 'mac_safari', 'windows_maxthon', 'windows_firefox', 'mac_chrome', 'linux_firefox', 'windows_opera', 'windows_theworld', 'android_other', 'windows_safari', 'ios_safari', 'linux_other', 'mac_firefox', 'android_opera', 'mac_maxthon', 'other_other', 'android_chrome', 'linux_chrome', 'other_opera', 'linux_safari', 'other_ie', 'ios_other', 'linux_opera', 'android_sogou', 'other_safari', 'windows_sogou', 'mac_opera', 'mac_sogou', 'android_maxthon', 'android_firefox', 'linux_ie', 'other_chrome', 'android_ie', 'other_firefox']\n",
            "[[(22, 7518), (221, 392486), (26, 2309), (2, 252), (1, 44), (0, 197)], [(9, 5043), (115, 204086), (6, 1866), (0, 191), (1, 56), (0, 124)], [(32, 10357), (338, 477725), (14, 3185), (0, 268), (1, 79), (0, 739)], [(0, 1657), (41, 131640), (1, 197), (1, 72), (0, 9), (0, 98)], [(39, 8232), (254, 443822), (26, 2402), (0, 260), (0, 86), (1, 239)], [(38, 9610), (145, 251093), (18, 3800), (1, 198), (0, 66), (0, 189)], [(4, 2177), (180, 308017), (3, 340), (0, 225), (0, 23), (0, 53)], [(4, 3344), (31, 106027), (1, 522), (0, 99), (0, 27), (0, 103)], [(0, 0), (0, 0), (217, 49738), (0, 0), (0, 0), (0, 91)]]\n"
          ],
          "name": "stdout"
        }
      ]
    },
    {
      "metadata": {
        "id": "HNH35NRIDf0f",
        "colab_type": "text"
      },
      "cell_type": "markdown",
      "source": [
        "##Advertiser VS Click"
      ]
    },
    {
      "metadata": {
        "id": "10UZ5GHWDn7b",
        "colab_type": "code",
        "outputId": "9e94716e-b346-40d5-d017-68f2d4336937",
        "colab": {
          "base_uri": "https://localhost:8080/",
          "height": 385
        }
      },
      "cell_type": "code",
      "source": [
        "seaborn.set(style='whitegrid', rc={\"grid.linewidth\": 0.2})\n",
        "fig = plt.figure(figsize=(10,5))\n",
        "ax = seaborn.pointplot(x = \"advertiser\", y = \"click\", data = df, color = \"red\", capsize = 0.2, join = False)\n",
        "#ax.set(xlabel = 'Advertiser', ylabel = 'CTR')\n",
        "ax.set_xlabel('Advertiser', fontweight = 'bold')\n",
        "ax.set_ylabel('CTR', fontweight = 'bold')"
      ],
      "execution_count": 0,
      "outputs": [
        {
          "output_type": "stream",
          "text": [
            "/usr/local/lib/python3.6/dist-packages/seaborn/categorical.py:1428: FutureWarning: remove_na is deprecated and is a private function. Do not use.\n",
            "  stat_data = remove_na(group_data)\n"
          ],
          "name": "stderr"
        },
        {
          "output_type": "execute_result",
          "data": {
            "text/plain": [
              "Text(0, 0.5, 'CTR')"
            ]
          },
          "metadata": {
            "tags": []
          },
          "execution_count": 59
        },
        {
          "output_type": "display_data",
          "data": {
            "image/png": "[encoded data removed]",
            "text/plain": [
              "<Figure size 720x360 with 1 Axes>"
            ]
          },
          "metadata": {
            "tags": []
          }
        }
      ]
    },
    {
      "metadata": {
        "id": "R4-pl8jqNeM9",
        "colab_type": "text"
      },
      "cell_type": "markdown",
      "source": [
        "##Hour VS Click"
      ]
    },
    {
      "metadata": {
        "id": "x3EsLC47NiMl",
        "colab_type": "code",
        "outputId": "435f5f9f-f909-4a81-b88f-6ea36bab97b0",
        "colab": {
          "base_uri": "https://localhost:8080/",
          "height": 385
        }
      },
      "cell_type": "code",
      "source": [
        "seaborn.set(style='whitegrid', rc={\"grid.linewidth\": 0.2})\n",
        "fig = plt.figure(figsize=(10,5))\n",
        "ax = seaborn.pointplot(x = \"hour\", y = \"click\", data = df, color = \"red\", capsize = 0.2)\n",
        "#ax.set(xlabel = 'Advertiser', ylabel = 'CTR')\n",
        "ax.set_xlabel('Hour', fontweight = 'bold')\n",
        "ax.set_ylabel('CTR', fontweight = 'bold')"
      ],
      "execution_count": 0,
      "outputs": [
        {
          "output_type": "stream",
          "text": [
            "/usr/local/lib/python3.6/dist-packages/seaborn/categorical.py:1428: FutureWarning: remove_na is deprecated and is a private function. Do not use.\n",
            "  stat_data = remove_na(group_data)\n"
          ],
          "name": "stderr"
        },
        {
          "output_type": "execute_result",
          "data": {
            "text/plain": [
              "Text(0, 0.5, 'CTR')"
            ]
          },
          "metadata": {
            "tags": []
          },
          "execution_count": 64
        },
        {
          "output_type": "display_data",
          "data": {
            "image/png": "[encoded data removed]",
            "text/plain": [
              "<Figure size 720x360 with 1 Axes>"
            ]
          },
          "metadata": {
            "tags": []
          }
        }
      ]
    },
    {
      "metadata": {
        "id": "02P7wIUgMY0g",
        "colab_type": "text"
      },
      "cell_type": "markdown",
      "source": [
        "##Weekdays VS Click"
      ]
    },
    {
      "metadata": {
        "id": "u6fuv5SRMfja",
        "colab_type": "code",
        "outputId": "7e224ac1-e646-457f-f585-4e68b39a0358",
        "colab": {
          "base_uri": "https://localhost:8080/",
          "height": 387
        }
      },
      "cell_type": "code",
      "source": [
        "seaborn.set(style='whitegrid', rc={\"grid.linewidth\": 0.2})\n",
        "fig = plt.figure(figsize=(10,5))\n",
        "ax = seaborn.pointplot(x = \"weekday\", y = \"click\", data = df, color = \"red\", capsize = 0.2)\n",
        "#for sub_dataframe in sub_dataframes[:3]:\n",
        "#  seaborn.pointplot(x = \"weekday\", y = \"click\", data = sub_dataframe, capsize = 0.1)\n",
        "ax.set_xlabel('Weekdays', fontweight = 'bold')\n",
        "ax.set_ylabel('CTR', fontweight = 'bold')"
      ],
      "execution_count": 0,
      "outputs": [
        {
          "output_type": "stream",
          "text": [
            "/usr/local/lib/python3.6/dist-packages/seaborn/categorical.py:1428: FutureWarning: remove_na is deprecated and is a private function. Do not use.\n",
            "  stat_data = remove_na(group_data)\n"
          ],
          "name": "stderr"
        },
        {
          "output_type": "execute_result",
          "data": {
            "text/plain": [
              "Text(0, 0.5, 'CTR')"
            ]
          },
          "metadata": {
            "tags": []
          },
          "execution_count": 71
        },
        {
          "output_type": "display_data",
          "data": {
            "image/png": "[encoded data removed]",
            "text/plain": [
              "<Figure size 720x360 with 1 Axes>"
            ]
          },
          "metadata": {
            "tags": []
          }
        }
      ]
    },
    {
      "metadata": {
        "id": "K7qjqKAfNaTA",
        "colab_type": "text"
      },
      "cell_type": "markdown",
      "source": [
        "##Region VS Click"
      ]
    },
    {
      "metadata": {
        "id": "7fe6Jjd1pQy-",
        "colab_type": "code",
        "outputId": "6862bc9a-df41-4992-c2bd-2ceccfdbac3b",
        "colab": {
          "base_uri": "https://localhost:8080/",
          "height": 385
        }
      },
      "cell_type": "code",
      "source": [
        "seaborn.set(style='whitegrid', rc={\"grid.linewidth\": 0.2})\n",
        "fig = plt.figure(figsize=(15,5))\n",
        "ax = seaborn.pointplot(x = \"region\", y = \"click\", data = df, color = \"red\", capsize = 0.2)\n",
        "#for sub_dataframe in sub_dataframes[:3]:\n",
        "#  seaborn.pointplot(x = \"weekday\", y = \"click\", data = sub_dataframe, capsize = 0.1)\n",
        "ax.set_xlabel('Region', fontweight = 'bold')\n",
        "ax.set_ylabel('CTR', fontweight = 'bold')"
      ],
      "execution_count": 0,
      "outputs": [
        {
          "output_type": "stream",
          "text": [
            "/usr/local/lib/python3.6/dist-packages/seaborn/categorical.py:1428: FutureWarning: remove_na is deprecated and is a private function. Do not use.\n",
            "  stat_data = remove_na(group_data)\n"
          ],
          "name": "stderr"
        },
        {
          "output_type": "execute_result",
          "data": {
            "text/plain": [
              "Text(0, 0.5, 'CTR')"
            ]
          },
          "metadata": {
            "tags": []
          },
          "execution_count": 9
        },
        {
          "output_type": "display_data",
          "data": {
            "image/png": "[encoded data removed]",
            "text/plain": [
              "<Figure size 1080x360 with 1 Axes>"
            ]
          },
          "metadata": {
            "tags": []
          }
        }
      ]
    },
    {
      "metadata": {
        "id": "kRUaGzD0r4Ge",
        "colab_type": "text"
      },
      "cell_type": "markdown",
      "source": [
        "##Slot Size"
      ]
    },
    {
      "metadata": {
        "id": "4hq0tTINWd2O",
        "colab_type": "code",
        "outputId": "474b9a91-9e92-4323-951f-e6c198bb8ca0",
        "colab": {
          "base_uri": "https://localhost:8080/",
          "height": 405
        }
      },
      "cell_type": "code",
      "source": [
        "df_width = df['slotwidth'].astype('str')\n",
        "df_height = df['slotheight'].astype('str')\n",
        "df['slotsize'] = df_width.str.cat(df_height, sep = '*')\n",
        "\n",
        "seaborn.set(style='whitegrid', rc={\"grid.linewidth\": 0.2})\n",
        "fig = plt.figure(figsize=(25,5))\n",
        "ax = seaborn.pointplot(x = \"slotsize\", y = \"click\", data = df, color = \"red\", capsize = 0.2)\n",
        "#for sub_dataframe in sub_dataframes[:3]:\n",
        "#  seaborn.pointplot(x = \"weekday\", y = \"click\", data = sub_dataframe, capsize = 0.1)\n",
        "ax.set_xlabel('Slot Size', fontweight = 'bold')\n",
        "ax.set_ylabel('CTR', fontweight = 'bold')\n"
      ],
      "execution_count": 0,
      "outputs": [
        {
          "output_type": "stream",
          "text": [
            "/usr/local/lib/python3.6/dist-packages/seaborn/categorical.py:1428: FutureWarning: remove_na is deprecated and is a private function. Do not use.\n",
            "  stat_data = remove_na(group_data)\n"
          ],
          "name": "stderr"
        },
        {
          "output_type": "execute_result",
          "data": {
            "text/plain": [
              "Text(0, 0.5, 'CTR')"
            ]
          },
          "metadata": {
            "tags": []
          },
          "execution_count": 27
        },
        {
          "output_type": "display_data",
          "data": {
            "image/png": "[encoded data removed]",
            "text/plain": [
              "<Figure size 1800x360 with 1 Axes>"
            ]
          },
          "metadata": {
            "tags": []
          }
        }
      ]
    },
    {
      "metadata": {
        "id": "a51kcjypmm1h",
        "colab_type": "text"
      },
      "cell_type": "markdown",
      "source": [
        "##AdExchange VS Click"
      ]
    },
    {
      "metadata": {
        "id": "-p7alv-Ym0uT",
        "colab_type": "code",
        "outputId": "7098a01d-fa38-4802-b16f-90ac69b6e32a",
        "colab": {
          "base_uri": "https://localhost:8080/",
          "height": 385
        }
      },
      "cell_type": "code",
      "source": [
        "seaborn.set(style='whitegrid', rc={\"grid.linewidth\": 0.2})\n",
        "fig = plt.figure(figsize=(10,5))\n",
        "ax = seaborn.pointplot(x = \"adexchange\", y = \"click\", data = df, color = \"red\", capsize = 0.2)\n",
        "#for sub_dataframe in sub_dataframes[:3]:\n",
        "#  seaborn.pointplot(x = \"weekday\", y = \"click\", data = sub_dataframe, capsize = 0.1)\n",
        "ax.set_xlabel('AD Exchange', fontweight = 'bold')\n",
        "ax.set_ylabel('CTR', fontweight = 'bold')\n"
      ],
      "execution_count": 0,
      "outputs": [
        {
          "output_type": "stream",
          "text": [
            "/usr/local/lib/python3.6/dist-packages/seaborn/categorical.py:1428: FutureWarning: remove_na is deprecated and is a private function. Do not use.\n",
            "  stat_data = remove_na(group_data)\n"
          ],
          "name": "stderr"
        },
        {
          "output_type": "execute_result",
          "data": {
            "text/plain": [
              "Text(0, 0.5, 'CTR')"
            ]
          },
          "metadata": {
            "tags": []
          },
          "execution_count": 29
        },
        {
          "output_type": "display_data",
          "data": {
            "image/png": "[encoded data removed]",
            "text/plain": [
              "<Figure size 720x360 with 1 Axes>"
            ]
          },
          "metadata": {
            "tags": []
          }
        }
      ]
    },
    {
      "metadata": {
        "id": "KOhB2o4QnFYl",
        "colab_type": "text"
      },
      "cell_type": "markdown",
      "source": [
        "##OS VS Click"
      ]
    },
    {
      "metadata": {
        "id": "AAEeQPUEnJsZ",
        "colab_type": "code",
        "outputId": "906bda09-6830-4fcf-aad5-98fdb8df6612",
        "colab": {
          "base_uri": "https://localhost:8080/",
          "height": 385
        }
      },
      "cell_type": "code",
      "source": [
        "df['os'] = df['useragent'].str.split('_', expand = True)[0]\n",
        "\n",
        "seaborn.set(style='whitegrid', rc={\"grid.linewidth\": 0.2})\n",
        "fig = plt.figure(figsize=(10,5))\n",
        "ax = seaborn.pointplot(x = \"os\", y = \"click\", data = df, color = \"red\", capsize = 0.2)\n",
        "#for sub_dataframe in sub_dataframes[:3]:\n",
        "#  seaborn.pointplot(x = \"weekday\", y = \"click\", data = sub_dataframe, capsize = 0.1)\n",
        "ax.set_xlabel('OS', fontweight = 'bold')\n",
        "ax.set_ylabel('CTR', fontweight = 'bold')"
      ],
      "execution_count": 0,
      "outputs": [
        {
          "output_type": "stream",
          "text": [
            "/usr/local/lib/python3.6/dist-packages/seaborn/categorical.py:1428: FutureWarning: remove_na is deprecated and is a private function. Do not use.\n",
            "  stat_data = remove_na(group_data)\n"
          ],
          "name": "stderr"
        },
        {
          "output_type": "execute_result",
          "data": {
            "text/plain": [
              "Text(0, 0.5, 'CTR')"
            ]
          },
          "metadata": {
            "tags": []
          },
          "execution_count": 39
        },
        {
          "output_type": "display_data",
          "data": {
            "image/png": "[encoded data removed]",
            "text/plain": [
              "<Figure size 720x360 with 1 Axes>"
            ]
          },
          "metadata": {
            "tags": []
          }
        }
      ]
    },
    {
      "metadata": {
        "id": "6fyKEQYqp5FK",
        "colab_type": "text"
      },
      "cell_type": "markdown",
      "source": [
        "## Browser VS Click"
      ]
    },
    {
      "metadata": {
        "id": "PFzwAsqDp-zn",
        "colab_type": "code",
        "outputId": "b13f8a8f-7df3-49b1-f77a-900ee83ee04a",
        "colab": {
          "base_uri": "https://localhost:8080/",
          "height": 385
        }
      },
      "cell_type": "code",
      "source": [
        "df['browser'] = df['useragent'].str.split('_', expand = True)[1]\n",
        "\n",
        "seaborn.set(style='whitegrid', rc={\"grid.linewidth\": 0.2})\n",
        "fig = plt.figure(figsize=(10,5))\n",
        "ax = seaborn.pointplot(x = \"browser\", y = \"click\", data = df, color = \"red\", capsize = 0.2)\n",
        "#for sub_dataframe in sub_dataframes[:3]:\n",
        "#  seaborn.pointplot(x = \"weekday\", y = \"click\", data = sub_dataframe, capsize = 0.1)\n",
        "ax.set_xlabel('Browser', fontweight = 'bold')\n",
        "ax.set_ylabel('CTR', fontweight = 'bold')"
      ],
      "execution_count": 0,
      "outputs": [
        {
          "output_type": "stream",
          "text": [
            "/usr/local/lib/python3.6/dist-packages/seaborn/categorical.py:1428: FutureWarning: remove_na is deprecated and is a private function. Do not use.\n",
            "  stat_data = remove_na(group_data)\n"
          ],
          "name": "stderr"
        },
        {
          "output_type": "execute_result",
          "data": {
            "text/plain": [
              "Text(0, 0.5, 'CTR')"
            ]
          },
          "metadata": {
            "tags": []
          },
          "execution_count": 36
        },
        {
          "output_type": "display_data",
          "data": {
            "image/png": "[encoded data removed]",
            "text/plain": [
              "<Figure size 720x360 with 1 Axes>"
            ]
          },
          "metadata": {
            "tags": []
          }
        }
      ]
    },
    {
      "metadata": {
        "id": "CYSUUVZNYEWe",
        "colab_type": "text"
      },
      "cell_type": "markdown",
      "source": [
        "##Test Set"
      ]
    },
    {
      "metadata": {
        "id": "Uf-IybhUXBry",
        "colab_type": "code",
        "outputId": "a34cac37-a141-44bb-a3d6-20ce96f60f0f",
        "colab": {
          "base_uri": "https://localhost:8080/",
          "height": 425
        }
      },
      "cell_type": "code",
      "source": [
        "#read data\n",
        "df_test = pd.read_csv('/content/drive/My Drive/Multi_Agent Dataset/test.csv',sep=',')[0:5000]\n",
        "print('Total rows: ', len(df_test))\n",
        "df_test.head(10)"
      ],
      "execution_count": 0,
      "outputs": [
        {
          "output_type": "stream",
          "text": [
            "Total rows:  5000\n"
          ],
          "name": "stdout"
        },
        {
          "output_type": "execute_result",
          "data": {
            "text/html": [
              "<div>\n",
              "<style scoped>\n",
              "    .dataframe tbody tr th:only-of-type {\n",
              "        vertical-align: middle;\n",
              "    }\n",
              "\n",
              "    .dataframe tbody tr th {\n",
              "        vertical-align: top;\n",
              "    }\n",
              "\n",
              "    .dataframe thead th {\n",
              "        text-align: right;\n",
              "    }\n",
              "</style>\n",
              "<table border=\"1\" class=\"dataframe\">\n",
              "  <thead>\n",
              "    <tr style=\"text-align: right;\">\n",
              "      <th></th>\n",
              "      <th>weekday</th>\n",
              "      <th>hour</th>\n",
              "      <th>bidid</th>\n",
              "      <th>userid</th>\n",
              "      <th>useragent</th>\n",
              "      <th>IP</th>\n",
              "      <th>region</th>\n",
              "      <th>city</th>\n",
              "      <th>adexchange</th>\n",
              "      <th>domain</th>\n",
              "      <th>...</th>\n",
              "      <th>slotid</th>\n",
              "      <th>slotwidth</th>\n",
              "      <th>slotheight</th>\n",
              "      <th>slotvisibility</th>\n",
              "      <th>slotformat</th>\n",
              "      <th>slotprice</th>\n",
              "      <th>creative</th>\n",
              "      <th>keypage</th>\n",
              "      <th>advertiser</th>\n",
              "      <th>usertag</th>\n",
              "    </tr>\n",
              "  </thead>\n",
              "  <tbody>\n",
              "    <tr>\n",
              "      <th>0</th>\n",
              "      <td>0</td>\n",
              "      <td>12</td>\n",
              "      <td>366c563de7d90feb9d4dab53e795a93fb3157387</td>\n",
              "      <td>75045dd2f2136c93fe55fe6c446ec1527ed8f0bb</td>\n",
              "      <td>windows_chrome</td>\n",
              "      <td>27.197.36.*</td>\n",
              "      <td>146</td>\n",
              "      <td>159</td>\n",
              "      <td>3.0</td>\n",
              "      <td>DDTSQuf0MTTNaqKIvMpENpn</td>\n",
              "      <td>...</td>\n",
              "      <td>Astro_F_Rectangle</td>\n",
              "      <td>300</td>\n",
              "      <td>250</td>\n",
              "      <td>0</td>\n",
              "      <td>0</td>\n",
              "      <td>10</td>\n",
              "      <td>00fccc64a1ee2809348509b7ac2a97a5</td>\n",
              "      <td>b2e35064f3549d447edbbdfb1f707c8c</td>\n",
              "      <td>3427</td>\n",
              "      <td>10024,10077,10075,10063,10031,10102,10006,1304...</td>\n",
              "    </tr>\n",
              "    <tr>\n",
              "      <th>1</th>\n",
              "      <td>3</td>\n",
              "      <td>14</td>\n",
              "      <td>29167d4caa719788b5a342dbaa25151d53121f80</td>\n",
              "      <td>11279eb1f8f7a88f877db911673522b6ff202aa7</td>\n",
              "      <td>android_safari</td>\n",
              "      <td>124.126.227.*</td>\n",
              "      <td>1</td>\n",
              "      <td>1</td>\n",
              "      <td>NaN</td>\n",
              "      <td>d63d96468f66986d5a8eb5225ad0b6f0</td>\n",
              "      <td>...</td>\n",
              "      <td>2745306850</td>\n",
              "      <td>320</td>\n",
              "      <td>50</td>\n",
              "      <td>FirstView</td>\n",
              "      <td>Na</td>\n",
              "      <td>5</td>\n",
              "      <td>11908</td>\n",
              "      <td>NaN</td>\n",
              "      <td>2997</td>\n",
              "      <td>NaN</td>\n",
              "    </tr>\n",
              "    <tr>\n",
              "      <th>2</th>\n",
              "      <td>5</td>\n",
              "      <td>19</td>\n",
              "      <td>ff8bc3f4d44a3ea60c5f3a3a8fbe7cd98fb2966e</td>\n",
              "      <td>4771a819a3f5b86776d8a9456f4f2506578f78d8</td>\n",
              "      <td>windows_ie</td>\n",
              "      <td>116.116.104.*</td>\n",
              "      <td>27</td>\n",
              "      <td>34</td>\n",
              "      <td>1.0</td>\n",
              "      <td>trqRTJkrBoq7JsNr5SqfNX</td>\n",
              "      <td>...</td>\n",
              "      <td>mm_34022157_3445226_11175100</td>\n",
              "      <td>336</td>\n",
              "      <td>280</td>\n",
              "      <td>2</td>\n",
              "      <td>1</td>\n",
              "      <td>0</td>\n",
              "      <td>77819d3e0b3467fe5c7b16d68ad923a1</td>\n",
              "      <td>bebefa5efe83beee17a3d245e7c5085b</td>\n",
              "      <td>1458</td>\n",
              "      <td>13866,10006,10024,10059,10048,10063,10067,1008...</td>\n",
              "    </tr>\n",
              "    <tr>\n",
              "      <th>3</th>\n",
              "      <td>0</td>\n",
              "      <td>21</td>\n",
              "      <td>844c2da00d45315f20b748ec131c26ee99a7cbc7</td>\n",
              "      <td>5360671379f3204afa9cc0edd8fd2e2096cb09eb</td>\n",
              "      <td>windows_ie</td>\n",
              "      <td>115.46.145.*</td>\n",
              "      <td>238</td>\n",
              "      <td>245</td>\n",
              "      <td>4.0</td>\n",
              "      <td>6d27caf5a202ec085f80af7163ef7cb0</td>\n",
              "      <td>...</td>\n",
              "      <td>210842</td>\n",
              "      <td>960</td>\n",
              "      <td>90</td>\n",
              "      <td>FirstView</td>\n",
              "      <td>Na</td>\n",
              "      <td>30</td>\n",
              "      <td>10717</td>\n",
              "      <td>NaN</td>\n",
              "      <td>2821</td>\n",
              "      <td>10075,13042,10006,10110,13776,10031,10063</td>\n",
              "    </tr>\n",
              "    <tr>\n",
              "      <th>4</th>\n",
              "      <td>2</td>\n",
              "      <td>20</td>\n",
              "      <td>c6017f0ad0c44d7d0c9b62583ea863f28941c0ca</td>\n",
              "      <td>d791b5f6306b9d299f81daa5448ced7e5bfa010f</td>\n",
              "      <td>windows_ie</td>\n",
              "      <td>221.199.203.*</td>\n",
              "      <td>27</td>\n",
              "      <td>35</td>\n",
              "      <td>3.0</td>\n",
              "      <td>3FKElpuEMusyJqKbuKz</td>\n",
              "      <td>...</td>\n",
              "      <td>Fashion_F_Rectangle</td>\n",
              "      <td>300</td>\n",
              "      <td>250</td>\n",
              "      <td>0</td>\n",
              "      <td>0</td>\n",
              "      <td>50</td>\n",
              "      <td>44966cc8da1ed40c95d59e863c8c75f0</td>\n",
              "      <td>43f4a37f42a7c5e6219e2601b26c6976</td>\n",
              "      <td>3386</td>\n",
              "      <td>10063</td>\n",
              "    </tr>\n",
              "    <tr>\n",
              "      <th>5</th>\n",
              "      <td>0</td>\n",
              "      <td>19</td>\n",
              "      <td>7493c42f6d8f29d9f414b75c125ce3db40461ef9</td>\n",
              "      <td>aed0d83d9e06589a23e5f02a3e93389f815effc5</td>\n",
              "      <td>windows_ie</td>\n",
              "      <td>122.141.136.*</td>\n",
              "      <td>55</td>\n",
              "      <td>60</td>\n",
              "      <td>3.0</td>\n",
              "      <td>31xSTvprdN1RFt</td>\n",
              "      <td>...</td>\n",
              "      <td>Ent_F_Upright</td>\n",
              "      <td>300</td>\n",
              "      <td>250</td>\n",
              "      <td>0</td>\n",
              "      <td>0</td>\n",
              "      <td>50</td>\n",
              "      <td>a499988a822facd86dd0e8e4ffef8532</td>\n",
              "      <td>bebefa5efe83beee17a3d245e7c5085b</td>\n",
              "      <td>1458</td>\n",
              "      <td>13496,10093,10057,13866,10063,10110</td>\n",
              "    </tr>\n",
              "    <tr>\n",
              "      <th>6</th>\n",
              "      <td>4</td>\n",
              "      <td>15</td>\n",
              "      <td>819fb6958ea48b10430710d009c57d55a31debcb</td>\n",
              "      <td>1ff9310f6ba827e47af5a7021953a4b9116a6a40</td>\n",
              "      <td>windows_chrome</td>\n",
              "      <td>175.146.224.*</td>\n",
              "      <td>40</td>\n",
              "      <td>48</td>\n",
              "      <td>3.0</td>\n",
              "      <td>ersbQv1RdoTy1m58uG</td>\n",
              "      <td>...</td>\n",
              "      <td>ALLINONE_F_Width1</td>\n",
              "      <td>1000</td>\n",
              "      <td>90</td>\n",
              "      <td>0</td>\n",
              "      <td>0</td>\n",
              "      <td>70</td>\n",
              "      <td>c46090c887c257b61ab1fa11baee91d8</td>\n",
              "      <td>0f951a030abdaedd733ee8d114ce2944</td>\n",
              "      <td>3427</td>\n",
              "      <td>NaN</td>\n",
              "    </tr>\n",
              "    <tr>\n",
              "      <th>7</th>\n",
              "      <td>0</td>\n",
              "      <td>0</td>\n",
              "      <td>8660774f6c94e32dfbd46add8a9bc94df3c74130</td>\n",
              "      <td>9a69166c6c091acd1e3fca35f661104a0f756883</td>\n",
              "      <td>windows_ie</td>\n",
              "      <td>202.104.177.*</td>\n",
              "      <td>216</td>\n",
              "      <td>233</td>\n",
              "      <td>1.0</td>\n",
              "      <td>trqRTu1ojqN-gMKzwFnWvpdh</td>\n",
              "      <td>...</td>\n",
              "      <td>mm_10028331_120124_10852228</td>\n",
              "      <td>728</td>\n",
              "      <td>90</td>\n",
              "      <td>1</td>\n",
              "      <td>1</td>\n",
              "      <td>0</td>\n",
              "      <td>48f2e9ba15708c0146bda5e1dd653caa</td>\n",
              "      <td>bebefa5efe83beee17a3d245e7c5085b</td>\n",
              "      <td>1458</td>\n",
              "      <td>NaN</td>\n",
              "    </tr>\n",
              "    <tr>\n",
              "      <th>8</th>\n",
              "      <td>4</td>\n",
              "      <td>8</td>\n",
              "      <td>ccc4c75ae4fd33526e5ecdae482c45c1dabc94db</td>\n",
              "      <td>30f29e6da56d60e1a70922cf310df9a01a8c35e3</td>\n",
              "      <td>windows_ie</td>\n",
              "      <td>183.92.64.*</td>\n",
              "      <td>183</td>\n",
              "      <td>186</td>\n",
              "      <td>3.0</td>\n",
              "      <td>ersbQv1RdoTy1m58uG</td>\n",
              "      <td>...</td>\n",
              "      <td>ALLINONE_F_Width1</td>\n",
              "      <td>1000</td>\n",
              "      <td>90</td>\n",
              "      <td>0</td>\n",
              "      <td>0</td>\n",
              "      <td>70</td>\n",
              "      <td>a10c31a8ff5f42930b4c34035e523886</td>\n",
              "      <td>d29e59bf0f7f8243858b8183f14d4412</td>\n",
              "      <td>3358</td>\n",
              "      <td>10063,10031,10083,10110</td>\n",
              "    </tr>\n",
              "    <tr>\n",
              "      <th>9</th>\n",
              "      <td>1</td>\n",
              "      <td>10</td>\n",
              "      <td>d9a212303746d85553966e902a315ba8812dd138</td>\n",
              "      <td>413efa29cacb96550cc04c2df62e65f72f872812</td>\n",
              "      <td>windows_ie</td>\n",
              "      <td>36.40.65.*</td>\n",
              "      <td>333</td>\n",
              "      <td>334</td>\n",
              "      <td>2.0</td>\n",
              "      <td>trqRTud0B9c7gspy5SqW</td>\n",
              "      <td>...</td>\n",
              "      <td>2069535511</td>\n",
              "      <td>468</td>\n",
              "      <td>60</td>\n",
              "      <td>2</td>\n",
              "      <td>0</td>\n",
              "      <td>5</td>\n",
              "      <td>2f88fc9cf0141b5bbaf251cab07f4ce7</td>\n",
              "      <td>361e128affece850342293213691a043</td>\n",
              "      <td>3386</td>\n",
              "      <td>10048,10052,13042,10059,10093,11944,10031,1340...</td>\n",
              "    </tr>\n",
              "  </tbody>\n",
              "</table>\n",
              "<p>10 rows × 22 columns</p>\n",
              "</div>"
            ],
            "text/plain": [
              "   weekday  hour                                     bidid  \\\n",
              "0        0    12  366c563de7d90feb9d4dab53e795a93fb3157387   \n",
              "1        3    14  29167d4caa719788b5a342dbaa25151d53121f80   \n",
              "2        5    19  ff8bc3f4d44a3ea60c5f3a3a8fbe7cd98fb2966e   \n",
              "3        0    21  844c2da00d45315f20b748ec131c26ee99a7cbc7   \n",
              "4        2    20  c6017f0ad0c44d7d0c9b62583ea863f28941c0ca   \n",
              "5        0    19  7493c42f6d8f29d9f414b75c125ce3db40461ef9   \n",
              "6        4    15  819fb6958ea48b10430710d009c57d55a31debcb   \n",
              "7        0     0  8660774f6c94e32dfbd46add8a9bc94df3c74130   \n",
              "8        4     8  ccc4c75ae4fd33526e5ecdae482c45c1dabc94db   \n",
              "9        1    10  d9a212303746d85553966e902a315ba8812dd138   \n",
              "\n",
              "                                     userid       useragent             IP  \\\n",
              "0  75045dd2f2136c93fe55fe6c446ec1527ed8f0bb  windows_chrome    27.197.36.*   \n",
              "1  11279eb1f8f7a88f877db911673522b6ff202aa7  android_safari  124.126.227.*   \n",
              "2  4771a819a3f5b86776d8a9456f4f2506578f78d8      windows_ie  116.116.104.*   \n",
              "3  5360671379f3204afa9cc0edd8fd2e2096cb09eb      windows_ie   115.46.145.*   \n",
              "4  d791b5f6306b9d299f81daa5448ced7e5bfa010f      windows_ie  221.199.203.*   \n",
              "5  aed0d83d9e06589a23e5f02a3e93389f815effc5      windows_ie  122.141.136.*   \n",
              "6  1ff9310f6ba827e47af5a7021953a4b9116a6a40  windows_chrome  175.146.224.*   \n",
              "7  9a69166c6c091acd1e3fca35f661104a0f756883      windows_ie  202.104.177.*   \n",
              "8  30f29e6da56d60e1a70922cf310df9a01a8c35e3      windows_ie    183.92.64.*   \n",
              "9  413efa29cacb96550cc04c2df62e65f72f872812      windows_ie     36.40.65.*   \n",
              "\n",
              "   region  city  adexchange                            domain  \\\n",
              "0     146   159         3.0           DDTSQuf0MTTNaqKIvMpENpn   \n",
              "1       1     1         NaN  d63d96468f66986d5a8eb5225ad0b6f0   \n",
              "2      27    34         1.0            trqRTJkrBoq7JsNr5SqfNX   \n",
              "3     238   245         4.0  6d27caf5a202ec085f80af7163ef7cb0   \n",
              "4      27    35         3.0               3FKElpuEMusyJqKbuKz   \n",
              "5      55    60         3.0                    31xSTvprdN1RFt   \n",
              "6      40    48         3.0                ersbQv1RdoTy1m58uG   \n",
              "7     216   233         1.0          trqRTu1ojqN-gMKzwFnWvpdh   \n",
              "8     183   186         3.0                ersbQv1RdoTy1m58uG   \n",
              "9     333   334         2.0              trqRTud0B9c7gspy5SqW   \n",
              "\n",
              "                         ...                          \\\n",
              "0                        ...                           \n",
              "1                        ...                           \n",
              "2                        ...                           \n",
              "3                        ...                           \n",
              "4                        ...                           \n",
              "5                        ...                           \n",
              "6                        ...                           \n",
              "7                        ...                           \n",
              "8                        ...                           \n",
              "9                        ...                           \n",
              "\n",
              "                         slotid  slotwidth slotheight  slotvisibility  \\\n",
              "0             Astro_F_Rectangle        300        250               0   \n",
              "1                    2745306850        320         50       FirstView   \n",
              "2  mm_34022157_3445226_11175100        336        280               2   \n",
              "3                        210842        960         90       FirstView   \n",
              "4           Fashion_F_Rectangle        300        250               0   \n",
              "5                 Ent_F_Upright        300        250               0   \n",
              "6             ALLINONE_F_Width1       1000         90               0   \n",
              "7   mm_10028331_120124_10852228        728         90               1   \n",
              "8             ALLINONE_F_Width1       1000         90               0   \n",
              "9                    2069535511        468         60               2   \n",
              "\n",
              "   slotformat slotprice                          creative  \\\n",
              "0           0        10  00fccc64a1ee2809348509b7ac2a97a5   \n",
              "1          Na         5                             11908   \n",
              "2           1         0  77819d3e0b3467fe5c7b16d68ad923a1   \n",
              "3          Na        30                             10717   \n",
              "4           0        50  44966cc8da1ed40c95d59e863c8c75f0   \n",
              "5           0        50  a499988a822facd86dd0e8e4ffef8532   \n",
              "6           0        70  c46090c887c257b61ab1fa11baee91d8   \n",
              "7           1         0  48f2e9ba15708c0146bda5e1dd653caa   \n",
              "8           0        70  a10c31a8ff5f42930b4c34035e523886   \n",
              "9           0         5  2f88fc9cf0141b5bbaf251cab07f4ce7   \n",
              "\n",
              "                            keypage advertiser  \\\n",
              "0  b2e35064f3549d447edbbdfb1f707c8c       3427   \n",
              "1                               NaN       2997   \n",
              "2  bebefa5efe83beee17a3d245e7c5085b       1458   \n",
              "3                               NaN       2821   \n",
              "4  43f4a37f42a7c5e6219e2601b26c6976       3386   \n",
              "5  bebefa5efe83beee17a3d245e7c5085b       1458   \n",
              "6  0f951a030abdaedd733ee8d114ce2944       3427   \n",
              "7  bebefa5efe83beee17a3d245e7c5085b       1458   \n",
              "8  d29e59bf0f7f8243858b8183f14d4412       3358   \n",
              "9  361e128affece850342293213691a043       3386   \n",
              "\n",
              "                                             usertag  \n",
              "0  10024,10077,10075,10063,10031,10102,10006,1304...  \n",
              "1                                                NaN  \n",
              "2  13866,10006,10024,10059,10048,10063,10067,1008...  \n",
              "3          10075,13042,10006,10110,13776,10031,10063  \n",
              "4                                              10063  \n",
              "5                13496,10093,10057,13866,10063,10110  \n",
              "6                                                NaN  \n",
              "7                                                NaN  \n",
              "8                            10063,10031,10083,10110  \n",
              "9  10048,10052,13042,10059,10093,11944,10031,1340...  \n",
              "\n",
              "[10 rows x 22 columns]"
            ]
          },
          "metadata": {
            "tags": []
          },
          "execution_count": 89
        }
      ]
    },
    {
      "metadata": {
        "id": "cZJH1OG6YJNP",
        "colab_type": "code",
        "outputId": "398c991a-de9f-47c2-e4a9-1fc71f2329e2",
        "colab": {
          "base_uri": "https://localhost:8080/",
          "height": 391
        }
      },
      "cell_type": "code",
      "source": [
        "for column in df_test:\n",
        "  print(column)"
      ],
      "execution_count": 0,
      "outputs": [
        {
          "output_type": "stream",
          "text": [
            "weekday\n",
            "hour\n",
            "bidid\n",
            "userid\n",
            "useragent\n",
            "IP\n",
            "region\n",
            "city\n",
            "adexchange\n",
            "domain\n",
            "url\n",
            "urlid\n",
            "slotid\n",
            "slotwidth\n",
            "slotheight\n",
            "slotvisibility\n",
            "slotformat\n",
            "slotprice\n",
            "creative\n",
            "keypage\n",
            "advertiser\n",
            "usertag\n"
          ],
          "name": "stdout"
        }
      ]
    },
    {
      "metadata": {
        "id": "1XsZzvHsYYC1",
        "colab_type": "code",
        "colab": {}
      },
      "cell_type": "code",
      "source": [
        ""
      ],
      "execution_count": 0,
      "outputs": []
    }
  ]
}